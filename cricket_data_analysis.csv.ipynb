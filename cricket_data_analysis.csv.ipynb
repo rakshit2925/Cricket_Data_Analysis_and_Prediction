{
 "cells": [
  {
   "cell_type": "markdown",
   "metadata": {
    "id": "5RWcan_rMD33"
   },
   "source": [
    "# Capstone Project\n",
    "## Problem Statement:\n",
    "Predicting Cricket Player Performance Based on Historical Match Data\n",
    "## Business Context:\n",
    "Cricket teams and sports analysts need reliable data-driven insights to make informed decisions on player selection, training focus, and match strategies. By analyzing past performance statistics, we can build models to predict a player's future contributions — such as the number of runs, wickets, or overall match impact.\n",
    "\n",
    "This project utilizes historical player data containing batting and bowling statistics across multiple years. The objective is to analyze and model player performance to assist selectors, coaches, and fantasy league players in decision-making.\n",
    "\n",
    "## Project Objective:\n",
    "\n",
    "#1. Exploratory Data Analysis (EDA):\n",
    "\n",
    "Understand the structure and content of the player performance dataset.\n",
    "\n",
    "Clean and convert data types (many columns are currently object).\n",
    "\n",
    "Visualize trends over years, such as:\n",
    "\n",
    "Average runs scored\n",
    "\n",
    "Strike rate trends\n",
    "\n",
    "top 10 Wickets taken\n",
    "\n",
    "Compare batting vs bowling contributions\n",
    "\n",
    "#2. Classification Task (Binary Classification):\n",
    "\n",
    "Problem: Predict whether a player will score a half-century or more in a given season.\n",
    "\n",
    "Create a binary target column: Will_Score_50+ = 1 if Half_Centuries > 0 else 0\n",
    "\n",
    "Goal: Build and evaluate classification models using:\n",
    "\n",
    "Logistic Regression\n",
    "\n",
    "Decision Tree Classifier\n",
    "\n",
    "Random Forest Classifier\n",
    "\n",
    "Features: Use batting and bowling stats such as Balls_Faced, Matches_Batted, Runs_Scored, etc.\n",
    "\n",
    "Evaluation Metrics:\n",
    "\n",
    "Accuracy, Precision, Recall, F1-Score, ROC-AUC\n",
    "\n",
    "#3. Regression Task (Predictive Modeling):\n",
    "\n",
    "#Problem: Predict the total Runs_Scored by a player in a season.\n",
    "\n",
    "Goal: Build regression models:\n",
    "\n",
    "Linear Regression\n",
    "\n",
    "Decision Tree Regressor\n",
    "\n",
    "Random Forest Regressor\n",
    "\n",
    "Features: Use Matches_Batted, Balls_Faced, Strike Rate, Not Outs, etc.\n",
    "\n",
    "Evaluation Metrics:\n",
    "\n",
    "RMSE, MAE, R² Score\n",
    "\n",
    "#4. Model Evaluation:\n",
    "\n",
    "Use classification and regression metrics to evaluate model performance.\n",
    "\n",
    "Perform cross-validation for robustness.\n",
    "\n",
    "Use feature importance and model interpretability tools (like SHAP) where relevant.\n",
    "\n",
    "#5. Model Deployment (Optional if time permits):\n",
    "\n",
    "Build a Streamlit/Flask dashboard where:\n",
    "\n",
    "A user can input a player's stats\n",
    "\n",
    "Get predictions on expected performance or match outcome impact\n",
    "\n",
    "Visual summary of player profiles and predicted stats\n",
    "\n"
   ]
  },
  {
   "cell_type": "markdown",
   "metadata": {
    "id": "U5oQE3GnMoU0"
   },
   "source": [
    "# *Importing the necessary libraries*"
   ]
  },
  {
   "cell_type": "code",
   "execution_count": 2,
   "metadata": {
    "id": "Uym3LiMGK_KP"
   },
   "outputs": [],
   "source": [
    "import numpy as np\n",
    "import pandas as pd\n",
    "import seaborn as sns\n",
    "import matplotlib.pyplot as plt"
   ]
  },
  {
   "cell_type": "markdown",
   "metadata": {},
   "source": [
    "# Observations:\n",
    "1. The required libraries for data analysis and visualization (NumPy, pandas, seaborn, matplotlib) are successfully imported.\n",
    "2. These libraries will be used throughout the notebook for data manipulation and plotting."
   ]
  },
  {
   "cell_type": "code",
   "execution_count": 3,
   "metadata": {
    "id": "d5U3UuihMZ0F"
   },
   "outputs": [],
   "source": [
    "from matplotlib import pyplot as plt"
   ]
  },
  {
   "cell_type": "markdown",
   "metadata": {},
   "source": [
    "# Observations:\n",
    "1. The pyplot module from matplotlib is imported, which is essential for creating various types of plots.\n",
    "2. This import allows for more concise plotting commands using 'plt' as an alias."
   ]
  },
  {
   "cell_type": "markdown",
   "metadata": {
    "id": "j9jLFf0yM7tJ"
   },
   "source": [
    "# Loading the dataset"
   ]
  },
  {
   "cell_type": "code",
   "execution_count": 4,
   "metadata": {
    "colab": {
     "base_uri": "https://localhost:8080/",
     "height": 833
    },
    "id": "KYPl18wjMtH_",
    "outputId": "d4222e0d-be82-4a9b-d1f6-06f533c3cd19"
   },
   "outputs": [
    {
     "data": {
      "text/html": [
       "<div>\n",
       "<style scoped>\n",
       "    .dataframe tbody tr th:only-of-type {\n",
       "        vertical-align: middle;\n",
       "    }\n",
       "\n",
       "    .dataframe tbody tr th {\n",
       "        vertical-align: top;\n",
       "    }\n",
       "\n",
       "    .dataframe thead th {\n",
       "        text-align: right;\n",
       "    }\n",
       "</style>\n",
       "<table border=\"1\" class=\"dataframe\">\n",
       "  <thead>\n",
       "    <tr style=\"text-align: right;\">\n",
       "      <th></th>\n",
       "      <th>0</th>\n",
       "      <th>1</th>\n",
       "      <th>2</th>\n",
       "      <th>3</th>\n",
       "      <th>4</th>\n",
       "    </tr>\n",
       "  </thead>\n",
       "  <tbody>\n",
       "    <tr>\n",
       "      <th>Year</th>\n",
       "      <td>2024</td>\n",
       "      <td>2023</td>\n",
       "      <td>2022</td>\n",
       "      <td>2021</td>\n",
       "      <td>2020</td>\n",
       "    </tr>\n",
       "    <tr>\n",
       "      <th>Player_Name</th>\n",
       "      <td>Ruturaj Gaikwad</td>\n",
       "      <td>Ruturaj Gaikwad</td>\n",
       "      <td>Ruturaj Gaikwad</td>\n",
       "      <td>Ruturaj Gaikwad</td>\n",
       "      <td>Ruturaj Gaikwad</td>\n",
       "    </tr>\n",
       "    <tr>\n",
       "      <th>Matches_Batted</th>\n",
       "      <td>2</td>\n",
       "      <td>16</td>\n",
       "      <td>14</td>\n",
       "      <td>16</td>\n",
       "      <td>6</td>\n",
       "    </tr>\n",
       "    <tr>\n",
       "      <th>Not_Outs</th>\n",
       "      <td>0</td>\n",
       "      <td>1</td>\n",
       "      <td>0</td>\n",
       "      <td>2</td>\n",
       "      <td>2</td>\n",
       "    </tr>\n",
       "    <tr>\n",
       "      <th>Runs_Scored</th>\n",
       "      <td>61</td>\n",
       "      <td>590</td>\n",
       "      <td>368</td>\n",
       "      <td>635</td>\n",
       "      <td>204</td>\n",
       "    </tr>\n",
       "    <tr>\n",
       "      <th>Highest_Score</th>\n",
       "      <td>46</td>\n",
       "      <td>92</td>\n",
       "      <td>99</td>\n",
       "      <td>101*</td>\n",
       "      <td>72</td>\n",
       "    </tr>\n",
       "    <tr>\n",
       "      <th>Batting_Average</th>\n",
       "      <td>30.5</td>\n",
       "      <td>42.14</td>\n",
       "      <td>26.29</td>\n",
       "      <td>45.35</td>\n",
       "      <td>51</td>\n",
       "    </tr>\n",
       "    <tr>\n",
       "      <th>Balls_Faced</th>\n",
       "      <td>51</td>\n",
       "      <td>400</td>\n",
       "      <td>291</td>\n",
       "      <td>466</td>\n",
       "      <td>169</td>\n",
       "    </tr>\n",
       "    <tr>\n",
       "      <th>Batting_Strike_Rate</th>\n",
       "      <td>119.61</td>\n",
       "      <td>147.5</td>\n",
       "      <td>126.46</td>\n",
       "      <td>136.26</td>\n",
       "      <td>120.71</td>\n",
       "    </tr>\n",
       "    <tr>\n",
       "      <th>Centuries</th>\n",
       "      <td>0</td>\n",
       "      <td>0</td>\n",
       "      <td>0</td>\n",
       "      <td>1</td>\n",
       "      <td>0</td>\n",
       "    </tr>\n",
       "    <tr>\n",
       "      <th>Half_Centuries</th>\n",
       "      <td>0</td>\n",
       "      <td>4</td>\n",
       "      <td>3</td>\n",
       "      <td>4</td>\n",
       "      <td>3</td>\n",
       "    </tr>\n",
       "    <tr>\n",
       "      <th>Fours</th>\n",
       "      <td>8</td>\n",
       "      <td>46</td>\n",
       "      <td>33</td>\n",
       "      <td>64</td>\n",
       "      <td>16</td>\n",
       "    </tr>\n",
       "    <tr>\n",
       "      <th>Sixes</th>\n",
       "      <td>1</td>\n",
       "      <td>30</td>\n",
       "      <td>14</td>\n",
       "      <td>23</td>\n",
       "      <td>6</td>\n",
       "    </tr>\n",
       "    <tr>\n",
       "      <th>Catches_Taken</th>\n",
       "      <td>0</td>\n",
       "      <td>17</td>\n",
       "      <td>4</td>\n",
       "      <td>6</td>\n",
       "      <td>4</td>\n",
       "    </tr>\n",
       "    <tr>\n",
       "      <th>Stumpings</th>\n",
       "      <td>0</td>\n",
       "      <td>0</td>\n",
       "      <td>0</td>\n",
       "      <td>0</td>\n",
       "      <td>0</td>\n",
       "    </tr>\n",
       "    <tr>\n",
       "      <th>Matches_Bowled</th>\n",
       "      <td>2</td>\n",
       "      <td>16</td>\n",
       "      <td>14</td>\n",
       "      <td>16</td>\n",
       "      <td>6</td>\n",
       "    </tr>\n",
       "    <tr>\n",
       "      <th>Balls_Bowled</th>\n",
       "      <td>0</td>\n",
       "      <td>0</td>\n",
       "      <td>0</td>\n",
       "      <td>0</td>\n",
       "      <td>0</td>\n",
       "    </tr>\n",
       "    <tr>\n",
       "      <th>Runs_Conceded</th>\n",
       "      <td>0</td>\n",
       "      <td>0</td>\n",
       "      <td>0</td>\n",
       "      <td>0</td>\n",
       "      <td>0</td>\n",
       "    </tr>\n",
       "    <tr>\n",
       "      <th>Wickets_Taken</th>\n",
       "      <td>0</td>\n",
       "      <td>0</td>\n",
       "      <td>0</td>\n",
       "      <td>0</td>\n",
       "      <td>0</td>\n",
       "    </tr>\n",
       "    <tr>\n",
       "      <th>Best_Bowling_Match</th>\n",
       "      <td>0</td>\n",
       "      <td>0</td>\n",
       "      <td>0</td>\n",
       "      <td>0</td>\n",
       "      <td>0</td>\n",
       "    </tr>\n",
       "    <tr>\n",
       "      <th>Bowling_Average</th>\n",
       "      <td>0</td>\n",
       "      <td>0</td>\n",
       "      <td>0</td>\n",
       "      <td>0</td>\n",
       "      <td>0</td>\n",
       "    </tr>\n",
       "    <tr>\n",
       "      <th>Economy_Rate</th>\n",
       "      <td>0</td>\n",
       "      <td>0</td>\n",
       "      <td>0</td>\n",
       "      <td>0</td>\n",
       "      <td>0</td>\n",
       "    </tr>\n",
       "    <tr>\n",
       "      <th>Bowling_Strike_Rate</th>\n",
       "      <td>0</td>\n",
       "      <td>0</td>\n",
       "      <td>0</td>\n",
       "      <td>0</td>\n",
       "      <td>0</td>\n",
       "    </tr>\n",
       "    <tr>\n",
       "      <th>Four_Wicket_Hauls</th>\n",
       "      <td>0</td>\n",
       "      <td>0</td>\n",
       "      <td>0</td>\n",
       "      <td>0</td>\n",
       "      <td>0</td>\n",
       "    </tr>\n",
       "    <tr>\n",
       "      <th>Five_Wicket_Hauls</th>\n",
       "      <td>0</td>\n",
       "      <td>0</td>\n",
       "      <td>0</td>\n",
       "      <td>0</td>\n",
       "      <td>0</td>\n",
       "    </tr>\n",
       "  </tbody>\n",
       "</table>\n",
       "</div>"
      ],
      "text/plain": [
       "                                   0                1                2  \\\n",
       "Year                            2024             2023             2022   \n",
       "Player_Name          Ruturaj Gaikwad  Ruturaj Gaikwad  Ruturaj Gaikwad   \n",
       "Matches_Batted                     2               16               14   \n",
       "Not_Outs                           0                1                0   \n",
       "Runs_Scored                       61              590              368   \n",
       "Highest_Score                     46               92               99   \n",
       "Batting_Average                 30.5            42.14            26.29   \n",
       "Balls_Faced                       51              400              291   \n",
       "Batting_Strike_Rate           119.61            147.5           126.46   \n",
       "Centuries                          0                0                0   \n",
       "Half_Centuries                     0                4                3   \n",
       "Fours                              8               46               33   \n",
       "Sixes                              1               30               14   \n",
       "Catches_Taken                      0               17                4   \n",
       "Stumpings                          0                0                0   \n",
       "Matches_Bowled                     2               16               14   \n",
       "Balls_Bowled                       0                0                0   \n",
       "Runs_Conceded                      0                0                0   \n",
       "Wickets_Taken                      0                0                0   \n",
       "Best_Bowling_Match                 0                0                0   \n",
       "Bowling_Average                    0                0                0   \n",
       "Economy_Rate                       0                0                0   \n",
       "Bowling_Strike_Rate                0                0                0   \n",
       "Four_Wicket_Hauls                  0                0                0   \n",
       "Five_Wicket_Hauls                  0                0                0   \n",
       "\n",
       "                                   3                4  \n",
       "Year                            2021             2020  \n",
       "Player_Name          Ruturaj Gaikwad  Ruturaj Gaikwad  \n",
       "Matches_Batted                    16                6  \n",
       "Not_Outs                           2                2  \n",
       "Runs_Scored                      635              204  \n",
       "Highest_Score                   101*               72  \n",
       "Batting_Average                45.35               51  \n",
       "Balls_Faced                      466              169  \n",
       "Batting_Strike_Rate           136.26           120.71  \n",
       "Centuries                          1                0  \n",
       "Half_Centuries                     4                3  \n",
       "Fours                             64               16  \n",
       "Sixes                             23                6  \n",
       "Catches_Taken                      6                4  \n",
       "Stumpings                          0                0  \n",
       "Matches_Bowled                    16                6  \n",
       "Balls_Bowled                       0                0  \n",
       "Runs_Conceded                      0                0  \n",
       "Wickets_Taken                      0                0  \n",
       "Best_Bowling_Match                 0                0  \n",
       "Bowling_Average                    0                0  \n",
       "Economy_Rate                       0                0  \n",
       "Bowling_Strike_Rate                0                0  \n",
       "Four_Wicket_Hauls                  0                0  \n",
       "Five_Wicket_Hauls                  0                0  "
      ]
     },
     "execution_count": 4,
     "metadata": {},
     "output_type": "execute_result"
    }
   ],
   "source": [
    "df=pd.read_csv('cricket_data.csv')\n",
    "df.head().T"
   ]
  },
  {
   "cell_type": "markdown",
   "metadata": {},
   "source": [
    "# Observations:\n",
    "1. The dataset 'cricket_data.csv' is loaded into a DataFrame named df, and the first few rows are displayed for initial inspection.\n",
    "2. Transposing the output (using .T) helps to view all columns for a single row, which is useful for wide datasets."
   ]
  },
  {
   "cell_type": "markdown",
   "metadata": {
    "id": "OOmso_n8NCbk"
   },
   "source": [
    "# 1- Basic Exploration of data\n",
    " * 1.1 Checking the top 5 rows\n",
    " * 1.2 Checking the shape of dataset\n",
    " * 1.3 Checking the info of dataset\n",
    " * 1.4 Checking the Statistical summary"
   ]
  },
  {
   "cell_type": "markdown",
   "metadata": {
    "id": "6EyN7_7cNmtz"
   },
   "source": [
    "#  1.1 Checking the top 5 rows"
   ]
  },
  {
   "cell_type": "code",
   "execution_count": 5,
   "metadata": {
    "colab": {
     "base_uri": "https://localhost:8080/",
     "height": 342
    },
    "id": "-MvKSEjbM0XQ",
    "outputId": "dafbf52f-02dd-4071-9144-c93b21afb5a2"
   },
   "outputs": [
    {
     "data": {
      "text/html": [
       "<div>\n",
       "<style scoped>\n",
       "    .dataframe tbody tr th:only-of-type {\n",
       "        vertical-align: middle;\n",
       "    }\n",
       "\n",
       "    .dataframe tbody tr th {\n",
       "        vertical-align: top;\n",
       "    }\n",
       "\n",
       "    .dataframe thead th {\n",
       "        text-align: right;\n",
       "    }\n",
       "</style>\n",
       "<table border=\"1\" class=\"dataframe\">\n",
       "  <thead>\n",
       "    <tr style=\"text-align: right;\">\n",
       "      <th></th>\n",
       "      <th>Year</th>\n",
       "      <th>Player_Name</th>\n",
       "      <th>Matches_Batted</th>\n",
       "      <th>Not_Outs</th>\n",
       "      <th>Runs_Scored</th>\n",
       "      <th>Highest_Score</th>\n",
       "      <th>Batting_Average</th>\n",
       "      <th>Balls_Faced</th>\n",
       "      <th>Batting_Strike_Rate</th>\n",
       "      <th>Centuries</th>\n",
       "      <th>...</th>\n",
       "      <th>Matches_Bowled</th>\n",
       "      <th>Balls_Bowled</th>\n",
       "      <th>Runs_Conceded</th>\n",
       "      <th>Wickets_Taken</th>\n",
       "      <th>Best_Bowling_Match</th>\n",
       "      <th>Bowling_Average</th>\n",
       "      <th>Economy_Rate</th>\n",
       "      <th>Bowling_Strike_Rate</th>\n",
       "      <th>Four_Wicket_Hauls</th>\n",
       "      <th>Five_Wicket_Hauls</th>\n",
       "    </tr>\n",
       "  </thead>\n",
       "  <tbody>\n",
       "    <tr>\n",
       "      <th>0</th>\n",
       "      <td>2024</td>\n",
       "      <td>Ruturaj Gaikwad</td>\n",
       "      <td>2</td>\n",
       "      <td>0</td>\n",
       "      <td>61</td>\n",
       "      <td>46</td>\n",
       "      <td>30.5</td>\n",
       "      <td>51</td>\n",
       "      <td>119.61</td>\n",
       "      <td>0</td>\n",
       "      <td>...</td>\n",
       "      <td>2</td>\n",
       "      <td>0</td>\n",
       "      <td>0</td>\n",
       "      <td>0</td>\n",
       "      <td>0</td>\n",
       "      <td>0</td>\n",
       "      <td>0</td>\n",
       "      <td>0</td>\n",
       "      <td>0</td>\n",
       "      <td>0</td>\n",
       "    </tr>\n",
       "    <tr>\n",
       "      <th>1</th>\n",
       "      <td>2023</td>\n",
       "      <td>Ruturaj Gaikwad</td>\n",
       "      <td>16</td>\n",
       "      <td>1</td>\n",
       "      <td>590</td>\n",
       "      <td>92</td>\n",
       "      <td>42.14</td>\n",
       "      <td>400</td>\n",
       "      <td>147.5</td>\n",
       "      <td>0</td>\n",
       "      <td>...</td>\n",
       "      <td>16</td>\n",
       "      <td>0</td>\n",
       "      <td>0</td>\n",
       "      <td>0</td>\n",
       "      <td>0</td>\n",
       "      <td>0</td>\n",
       "      <td>0</td>\n",
       "      <td>0</td>\n",
       "      <td>0</td>\n",
       "      <td>0</td>\n",
       "    </tr>\n",
       "    <tr>\n",
       "      <th>2</th>\n",
       "      <td>2022</td>\n",
       "      <td>Ruturaj Gaikwad</td>\n",
       "      <td>14</td>\n",
       "      <td>0</td>\n",
       "      <td>368</td>\n",
       "      <td>99</td>\n",
       "      <td>26.29</td>\n",
       "      <td>291</td>\n",
       "      <td>126.46</td>\n",
       "      <td>0</td>\n",
       "      <td>...</td>\n",
       "      <td>14</td>\n",
       "      <td>0</td>\n",
       "      <td>0</td>\n",
       "      <td>0</td>\n",
       "      <td>0</td>\n",
       "      <td>0</td>\n",
       "      <td>0</td>\n",
       "      <td>0</td>\n",
       "      <td>0</td>\n",
       "      <td>0</td>\n",
       "    </tr>\n",
       "    <tr>\n",
       "      <th>3</th>\n",
       "      <td>2021</td>\n",
       "      <td>Ruturaj Gaikwad</td>\n",
       "      <td>16</td>\n",
       "      <td>2</td>\n",
       "      <td>635</td>\n",
       "      <td>101*</td>\n",
       "      <td>45.35</td>\n",
       "      <td>466</td>\n",
       "      <td>136.26</td>\n",
       "      <td>1</td>\n",
       "      <td>...</td>\n",
       "      <td>16</td>\n",
       "      <td>0</td>\n",
       "      <td>0</td>\n",
       "      <td>0</td>\n",
       "      <td>0</td>\n",
       "      <td>0</td>\n",
       "      <td>0</td>\n",
       "      <td>0</td>\n",
       "      <td>0</td>\n",
       "      <td>0</td>\n",
       "    </tr>\n",
       "    <tr>\n",
       "      <th>4</th>\n",
       "      <td>2020</td>\n",
       "      <td>Ruturaj Gaikwad</td>\n",
       "      <td>6</td>\n",
       "      <td>2</td>\n",
       "      <td>204</td>\n",
       "      <td>72</td>\n",
       "      <td>51</td>\n",
       "      <td>169</td>\n",
       "      <td>120.71</td>\n",
       "      <td>0</td>\n",
       "      <td>...</td>\n",
       "      <td>6</td>\n",
       "      <td>0</td>\n",
       "      <td>0</td>\n",
       "      <td>0</td>\n",
       "      <td>0</td>\n",
       "      <td>0</td>\n",
       "      <td>0</td>\n",
       "      <td>0</td>\n",
       "      <td>0</td>\n",
       "      <td>0</td>\n",
       "    </tr>\n",
       "  </tbody>\n",
       "</table>\n",
       "<p>5 rows × 25 columns</p>\n",
       "</div>"
      ],
      "text/plain": [
       "   Year      Player_Name Matches_Batted Not_Outs Runs_Scored Highest_Score  \\\n",
       "0  2024  Ruturaj Gaikwad              2        0          61            46   \n",
       "1  2023  Ruturaj Gaikwad             16        1         590            92   \n",
       "2  2022  Ruturaj Gaikwad             14        0         368            99   \n",
       "3  2021  Ruturaj Gaikwad             16        2         635          101*   \n",
       "4  2020  Ruturaj Gaikwad              6        2         204            72   \n",
       "\n",
       "  Batting_Average Balls_Faced Batting_Strike_Rate Centuries  ...  \\\n",
       "0            30.5          51              119.61         0  ...   \n",
       "1           42.14         400               147.5         0  ...   \n",
       "2           26.29         291              126.46         0  ...   \n",
       "3           45.35         466              136.26         1  ...   \n",
       "4              51         169              120.71         0  ...   \n",
       "\n",
       "  Matches_Bowled Balls_Bowled Runs_Conceded Wickets_Taken Best_Bowling_Match  \\\n",
       "0              2            0             0             0                  0   \n",
       "1             16            0             0             0                  0   \n",
       "2             14            0             0             0                  0   \n",
       "3             16            0             0             0                  0   \n",
       "4              6            0             0             0                  0   \n",
       "\n",
       "  Bowling_Average Economy_Rate Bowling_Strike_Rate Four_Wicket_Hauls  \\\n",
       "0               0            0                   0                 0   \n",
       "1               0            0                   0                 0   \n",
       "2               0            0                   0                 0   \n",
       "3               0            0                   0                 0   \n",
       "4               0            0                   0                 0   \n",
       "\n",
       "  Five_Wicket_Hauls  \n",
       "0                 0  \n",
       "1                 0  \n",
       "2                 0  \n",
       "3                 0  \n",
       "4                 0  \n",
       "\n",
       "[5 rows x 25 columns]"
      ]
     },
     "execution_count": 5,
     "metadata": {},
     "output_type": "execute_result"
    }
   ],
   "source": [
    "df.head(5)"
   ]
  },
  {
   "cell_type": "markdown",
   "metadata": {},
   "source": [
    "# Observations:\n",
    "1. The first five rows provide a snapshot of the dataset, helping to identify column names and data types.\n",
    "2. This preview can reveal potential data quality issues, such as missing values or inconsistent formatting."
   ]
  },
  {
   "cell_type": "markdown",
   "metadata": {
    "id": "6zvlPCrtYC0s"
   },
   "source": [
    "# Observations:\n",
    " 1.Highest individual scores (filter/remove asterisk \"*\" in Highest_Score).\n",
    " \n",
    " 2.Handle missing or zero data appropriately"
   ]
  },
  {
   "cell_type": "markdown",
   "metadata": {
    "id": "I8ZW_2BROCW8"
   },
   "source": [
    "#  1.2 Checking the shape (no.of rows and columns in dataset)"
   ]
  },
  {
   "cell_type": "code",
   "execution_count": 6,
   "metadata": {
    "colab": {
     "base_uri": "https://localhost:8080/"
    },
    "id": "8tn5Qte8NtgV",
    "outputId": "a784e297-406d-4ca7-e52d-bcf55a150bb5"
   },
   "outputs": [
    {
     "data": {
      "text/plain": [
       "(1172, 25)"
      ]
     },
     "execution_count": 6,
     "metadata": {},
     "output_type": "execute_result"
    }
   ],
   "source": [
    "df.shape"
   ]
  },
  {
   "cell_type": "markdown",
   "metadata": {},
   "source": [
    "# Observations:\n",
    "1. The shape output shows the number of rows and columns, giving a sense of the dataset's size.\n",
    "2. This information is useful for planning memory usage and understanding the scale of analysis required."
   ]
  },
  {
   "cell_type": "markdown",
   "metadata": {
    "id": "AirltHbNOL27"
   },
   "source": [
    "# Observations\n",
    "# There are 25 rows and 1172 columns in dataset"
   ]
  },
  {
   "cell_type": "markdown",
   "metadata": {
    "id": "76zHackVOQnz"
   },
   "source": [
    "#  1.3 Checking the info of dataset"
   ]
  },
  {
   "cell_type": "code",
   "execution_count": 7,
   "metadata": {
    "colab": {
     "base_uri": "https://localhost:8080/"
    },
    "id": "4Pqvagc3OMsz",
    "outputId": "7113d1ff-38f9-47d0-c206-77387ea7d6a8"
   },
   "outputs": [
    {
     "name": "stdout",
     "output_type": "stream",
     "text": [
      "<class 'pandas.core.frame.DataFrame'>\n",
      "RangeIndex: 1172 entries, 0 to 1171\n",
      "Data columns (total 25 columns):\n",
      " #   Column               Non-Null Count  Dtype \n",
      "---  ------               --------------  ----- \n",
      " 0   Year                 1172 non-null   object\n",
      " 1   Player_Name          1172 non-null   object\n",
      " 2   Matches_Batted       1172 non-null   object\n",
      " 3   Not_Outs             1172 non-null   object\n",
      " 4   Runs_Scored          1172 non-null   object\n",
      " 5   Highest_Score        1172 non-null   object\n",
      " 6   Batting_Average      1172 non-null   object\n",
      " 7   Balls_Faced          1172 non-null   object\n",
      " 8   Batting_Strike_Rate  1172 non-null   object\n",
      " 9   Centuries            1172 non-null   object\n",
      " 10  Half_Centuries       1172 non-null   object\n",
      " 11  Fours                1172 non-null   object\n",
      " 12  Sixes                1172 non-null   object\n",
      " 13  Catches_Taken        1172 non-null   object\n",
      " 14  Stumpings            1172 non-null   object\n",
      " 15  Matches_Bowled       1172 non-null   object\n",
      " 16  Balls_Bowled         1172 non-null   object\n",
      " 17  Runs_Conceded        1172 non-null   object\n",
      " 18  Wickets_Taken        1172 non-null   object\n",
      " 19  Best_Bowling_Match   1172 non-null   object\n",
      " 20  Bowling_Average      1172 non-null   object\n",
      " 21  Economy_Rate         1172 non-null   object\n",
      " 22  Bowling_Strike_Rate  1172 non-null   object\n",
      " 23  Four_Wicket_Hauls    1172 non-null   object\n",
      " 24  Five_Wicket_Hauls    1172 non-null   object\n",
      "dtypes: object(25)\n",
      "memory usage: 229.0+ KB\n"
     ]
    }
   ],
   "source": [
    "df.info()"
   ]
  },
  {
   "cell_type": "markdown",
   "metadata": {},
   "source": [
    "# Observations:\n",
    "1. The info output reveals the data types of each column and the number of non-null entries, highlighting columns with missing values.\n",
    "2. This helps identify which columns may need type conversion or imputation during preprocessing."
   ]
  },
  {
   "cell_type": "markdown",
   "metadata": {
    "id": "LbnTdy-qPgjz"
   },
   "source": [
    "# Observations\n",
    " 1. The dataset is having 25 columns and 1172 rows.\n",
    " 2. There are missing entries.\n"
   ]
  },
  {
   "cell_type": "markdown",
   "metadata": {
    "id": "Lk2QaGrZQlz7"
   },
   "source": [
    "#  1.4 Statistical summary"
   ]
  },
  {
   "cell_type": "code",
   "execution_count": 8,
   "metadata": {
    "colab": {
     "base_uri": "https://localhost:8080/",
     "height": 224
    },
    "id": "tviSZgYcObLj",
    "outputId": "384b4d07-3b48-4f76-b0a3-fc1043ef21dd"
   },
   "outputs": [
    {
     "data": {
      "text/html": [
       "<div>\n",
       "<style scoped>\n",
       "    .dataframe tbody tr th:only-of-type {\n",
       "        vertical-align: middle;\n",
       "    }\n",
       "\n",
       "    .dataframe tbody tr th {\n",
       "        vertical-align: top;\n",
       "    }\n",
       "\n",
       "    .dataframe thead th {\n",
       "        text-align: right;\n",
       "    }\n",
       "</style>\n",
       "<table border=\"1\" class=\"dataframe\">\n",
       "  <thead>\n",
       "    <tr style=\"text-align: right;\">\n",
       "      <th></th>\n",
       "      <th>Year</th>\n",
       "      <th>Player_Name</th>\n",
       "      <th>Matches_Batted</th>\n",
       "      <th>Not_Outs</th>\n",
       "      <th>Runs_Scored</th>\n",
       "      <th>Highest_Score</th>\n",
       "      <th>Batting_Average</th>\n",
       "      <th>Balls_Faced</th>\n",
       "      <th>Batting_Strike_Rate</th>\n",
       "      <th>Centuries</th>\n",
       "      <th>...</th>\n",
       "      <th>Matches_Bowled</th>\n",
       "      <th>Balls_Bowled</th>\n",
       "      <th>Runs_Conceded</th>\n",
       "      <th>Wickets_Taken</th>\n",
       "      <th>Best_Bowling_Match</th>\n",
       "      <th>Bowling_Average</th>\n",
       "      <th>Economy_Rate</th>\n",
       "      <th>Bowling_Strike_Rate</th>\n",
       "      <th>Four_Wicket_Hauls</th>\n",
       "      <th>Five_Wicket_Hauls</th>\n",
       "    </tr>\n",
       "  </thead>\n",
       "  <tbody>\n",
       "    <tr>\n",
       "      <th>count</th>\n",
       "      <td>1172</td>\n",
       "      <td>1172</td>\n",
       "      <td>1172</td>\n",
       "      <td>1172</td>\n",
       "      <td>1172</td>\n",
       "      <td>1172</td>\n",
       "      <td>1172</td>\n",
       "      <td>1172</td>\n",
       "      <td>1172</td>\n",
       "      <td>1172</td>\n",
       "      <td>...</td>\n",
       "      <td>1172</td>\n",
       "      <td>1172</td>\n",
       "      <td>1172</td>\n",
       "      <td>1172</td>\n",
       "      <td>1172</td>\n",
       "      <td>1172</td>\n",
       "      <td>1172</td>\n",
       "      <td>1172</td>\n",
       "      <td>1172</td>\n",
       "      <td>1172</td>\n",
       "    </tr>\n",
       "    <tr>\n",
       "      <th>unique</th>\n",
       "      <td>18</td>\n",
       "      <td>247</td>\n",
       "      <td>21</td>\n",
       "      <td>12</td>\n",
       "      <td>389</td>\n",
       "      <td>222</td>\n",
       "      <td>576</td>\n",
       "      <td>329</td>\n",
       "      <td>712</td>\n",
       "      <td>6</td>\n",
       "      <td>...</td>\n",
       "      <td>21</td>\n",
       "      <td>222</td>\n",
       "      <td>363</td>\n",
       "      <td>31</td>\n",
       "      <td>215</td>\n",
       "      <td>494</td>\n",
       "      <td>382</td>\n",
       "      <td>375</td>\n",
       "      <td>5</td>\n",
       "      <td>3</td>\n",
       "    </tr>\n",
       "    <tr>\n",
       "      <th>top</th>\n",
       "      <td>2023</td>\n",
       "      <td>Rohit Sharma</td>\n",
       "      <td>14</td>\n",
       "      <td>0</td>\n",
       "      <td>0</td>\n",
       "      <td>0</td>\n",
       "      <td>0</td>\n",
       "      <td>0</td>\n",
       "      <td>0</td>\n",
       "      <td>0</td>\n",
       "      <td>...</td>\n",
       "      <td>14</td>\n",
       "      <td>0</td>\n",
       "      <td>0</td>\n",
       "      <td>0</td>\n",
       "      <td>0</td>\n",
       "      <td>0</td>\n",
       "      <td>0</td>\n",
       "      <td>0</td>\n",
       "      <td>0</td>\n",
       "      <td>0</td>\n",
       "    </tr>\n",
       "    <tr>\n",
       "      <th>freq</th>\n",
       "      <td>162</td>\n",
       "      <td>17</td>\n",
       "      <td>170</td>\n",
       "      <td>421</td>\n",
       "      <td>179</td>\n",
       "      <td>148</td>\n",
       "      <td>171</td>\n",
       "      <td>131</td>\n",
       "      <td>127</td>\n",
       "      <td>1094</td>\n",
       "      <td>...</td>\n",
       "      <td>170</td>\n",
       "      <td>419</td>\n",
       "      <td>419</td>\n",
       "      <td>524</td>\n",
       "      <td>419</td>\n",
       "      <td>524</td>\n",
       "      <td>420</td>\n",
       "      <td>524</td>\n",
       "      <td>1052</td>\n",
       "      <td>1110</td>\n",
       "    </tr>\n",
       "  </tbody>\n",
       "</table>\n",
       "<p>4 rows × 25 columns</p>\n",
       "</div>"
      ],
      "text/plain": [
       "        Year   Player_Name Matches_Batted Not_Outs Runs_Scored Highest_Score  \\\n",
       "count   1172          1172           1172     1172        1172          1172   \n",
       "unique    18           247             21       12         389           222   \n",
       "top     2023  Rohit Sharma             14        0           0             0   \n",
       "freq     162            17            170      421         179           148   \n",
       "\n",
       "       Batting_Average Balls_Faced Batting_Strike_Rate Centuries  ...  \\\n",
       "count             1172        1172                1172      1172  ...   \n",
       "unique             576         329                 712         6  ...   \n",
       "top                  0           0                   0         0  ...   \n",
       "freq               171         131                 127      1094  ...   \n",
       "\n",
       "       Matches_Bowled Balls_Bowled Runs_Conceded Wickets_Taken  \\\n",
       "count            1172         1172          1172          1172   \n",
       "unique             21          222           363            31   \n",
       "top                14            0             0             0   \n",
       "freq              170          419           419           524   \n",
       "\n",
       "       Best_Bowling_Match Bowling_Average Economy_Rate Bowling_Strike_Rate  \\\n",
       "count                1172            1172         1172                1172   \n",
       "unique                215             494          382                 375   \n",
       "top                     0               0            0                   0   \n",
       "freq                  419             524          420                 524   \n",
       "\n",
       "       Four_Wicket_Hauls Five_Wicket_Hauls  \n",
       "count               1172              1172  \n",
       "unique                 5                 3  \n",
       "top                    0                 0  \n",
       "freq                1052              1110  \n",
       "\n",
       "[4 rows x 25 columns]"
      ]
     },
     "execution_count": 8,
     "metadata": {},
     "output_type": "execute_result"
    }
   ],
   "source": [
    "df.describe(include='all')"
   ]
  },
  {
   "cell_type": "markdown",
   "metadata": {},
   "source": [
    "# Observations:\n",
    "1. The describe() output provides key statistics (mean, std, min, max, etc.) for each column, helping to understand data distribution.\n",
    "2. It can reveal outliers, skewness, or unexpected values that may need further investigation."
   ]
  },
  {
   "cell_type": "markdown",
   "metadata": {
    "id": "ZGeJIojAaaZU"
   },
   "source": [
    "# Observations\n",
    " 1. Removing rows where the Year column contained invalid entries like \"No stats\".\n",
    " 2. Converting the Year column to integers for proper sorting and filtering"
   ]
  },
  {
   "cell_type": "markdown",
   "metadata": {
    "id": "JkuIXm96cVoG"
   },
   "source": [
    "# 2-Exploratory Data Analysis (EDA)\n",
    "2.1 Checking the duplicate rows and fetching them.\n",
    "\n",
    "2.2 Checking Null Values (columnwise, percentage wise in columns and row-wise.\n",
    "\n",
    "2.3 Outliers Analysis.\n",
    "\n",
    "2.4 Univariate Analysis.\n",
    "\n",
    "2.5 Bivariate Analysis."
   ]
  },
  {
   "cell_type": "markdown",
   "metadata": {
    "id": "scqWy0Cwczzz"
   },
   "source": [
    "# 2.1 Checking the duplicate rows"
   ]
  },
  {
   "cell_type": "code",
   "execution_count": 9,
   "metadata": {
    "colab": {
     "base_uri": "https://localhost:8080/"
    },
    "id": "kgAg3ZFacfsV",
    "outputId": "c9695df2-2934-441b-8440-407a189bf788"
   },
   "outputs": [
    {
     "data": {
      "text/plain": [
       "0"
      ]
     },
     "execution_count": 9,
     "metadata": {},
     "output_type": "execute_result"
    }
   ],
   "source": [
    "# total number of duplicate rows\n",
    "df.duplicated().sum()"
   ]
  },
  {
   "cell_type": "markdown",
   "metadata": {},
   "source": [
    "# Observations:\n",
    "1. The output shows the total number of duplicate rows in the dataset, which is important for data integrity.\n",
    "2. Identifying duplicates helps prevent bias and redundancy in analysis and modeling."
   ]
  },
  {
   "cell_type": "code",
   "execution_count": 10,
   "metadata": {
    "colab": {
     "base_uri": "https://localhost:8080/",
     "height": 99
    },
    "id": "kFXTKFoBc7sH",
    "outputId": "ef4b7370-a0e1-4d22-f5a5-6f5d16937436"
   },
   "outputs": [
    {
     "data": {
      "text/html": [
       "<div>\n",
       "<style scoped>\n",
       "    .dataframe tbody tr th:only-of-type {\n",
       "        vertical-align: middle;\n",
       "    }\n",
       "\n",
       "    .dataframe tbody tr th {\n",
       "        vertical-align: top;\n",
       "    }\n",
       "\n",
       "    .dataframe thead th {\n",
       "        text-align: right;\n",
       "    }\n",
       "</style>\n",
       "<table border=\"1\" class=\"dataframe\">\n",
       "  <thead>\n",
       "    <tr style=\"text-align: right;\">\n",
       "      <th></th>\n",
       "      <th>Year</th>\n",
       "      <th>Player_Name</th>\n",
       "      <th>Matches_Batted</th>\n",
       "      <th>Not_Outs</th>\n",
       "      <th>Runs_Scored</th>\n",
       "      <th>Highest_Score</th>\n",
       "      <th>Batting_Average</th>\n",
       "      <th>Balls_Faced</th>\n",
       "      <th>Batting_Strike_Rate</th>\n",
       "      <th>Centuries</th>\n",
       "      <th>...</th>\n",
       "      <th>Matches_Bowled</th>\n",
       "      <th>Balls_Bowled</th>\n",
       "      <th>Runs_Conceded</th>\n",
       "      <th>Wickets_Taken</th>\n",
       "      <th>Best_Bowling_Match</th>\n",
       "      <th>Bowling_Average</th>\n",
       "      <th>Economy_Rate</th>\n",
       "      <th>Bowling_Strike_Rate</th>\n",
       "      <th>Four_Wicket_Hauls</th>\n",
       "      <th>Five_Wicket_Hauls</th>\n",
       "    </tr>\n",
       "  </thead>\n",
       "  <tbody>\n",
       "  </tbody>\n",
       "</table>\n",
       "<p>0 rows × 25 columns</p>\n",
       "</div>"
      ],
      "text/plain": [
       "Empty DataFrame\n",
       "Columns: [Year, Player_Name, Matches_Batted, Not_Outs, Runs_Scored, Highest_Score, Batting_Average, Balls_Faced, Batting_Strike_Rate, Centuries, Half_Centuries, Fours, Sixes, Catches_Taken, Stumpings, Matches_Bowled, Balls_Bowled, Runs_Conceded, Wickets_Taken, Best_Bowling_Match, Bowling_Average, Economy_Rate, Bowling_Strike_Rate, Four_Wicket_Hauls, Five_Wicket_Hauls]\n",
       "Index: []\n",
       "\n",
       "[0 rows x 25 columns]"
      ]
     },
     "execution_count": 10,
     "metadata": {},
     "output_type": "execute_result"
    }
   ],
   "source": [
    "# Fetching duplicate rows\n",
    "df[df.duplicated()]"
   ]
  },
  {
   "cell_type": "markdown",
   "metadata": {},
   "source": [
    "# Observations:\n",
    "1. This output displays any rows that are exact duplicates, allowing for manual inspection if needed.\n",
    "2. If the result is empty, it confirms that there are no duplicate rows present in the dataset."
   ]
  },
  {
   "cell_type": "markdown",
   "metadata": {
    "id": "73WFrDecdLUH"
   },
   "source": [
    "# Observations\n",
    " 1.There are no duplicates rows."
   ]
  },
  {
   "cell_type": "markdown",
   "metadata": {
    "id": "ej7tiU_pdiR8"
   },
   "source": [
    "# 2.2 Checking Null Values"
   ]
  },
  {
   "cell_type": "code",
   "execution_count": 11,
   "metadata": {
    "colab": {
     "base_uri": "https://localhost:8080/",
     "height": 868
    },
    "id": "GezR2upgc_38",
    "outputId": "11a5fd20-8c2d-47c3-b5f8-f1e5674059ee"
   },
   "outputs": [
    {
     "data": {
      "text/plain": [
       "Year                   0\n",
       "Player_Name            0\n",
       "Matches_Batted         0\n",
       "Not_Outs               0\n",
       "Runs_Scored            0\n",
       "Highest_Score          0\n",
       "Batting_Average        0\n",
       "Balls_Faced            0\n",
       "Batting_Strike_Rate    0\n",
       "Centuries              0\n",
       "Half_Centuries         0\n",
       "Fours                  0\n",
       "Sixes                  0\n",
       "Catches_Taken          0\n",
       "Stumpings              0\n",
       "Matches_Bowled         0\n",
       "Balls_Bowled           0\n",
       "Runs_Conceded          0\n",
       "Wickets_Taken          0\n",
       "Best_Bowling_Match     0\n",
       "Bowling_Average        0\n",
       "Economy_Rate           0\n",
       "Bowling_Strike_Rate    0\n",
       "Four_Wicket_Hauls      0\n",
       "Five_Wicket_Hauls      0\n",
       "dtype: int64"
      ]
     },
     "execution_count": 11,
     "metadata": {},
     "output_type": "execute_result"
    }
   ],
   "source": [
    "# Column-wise null values\n",
    "df.isnull().sum()"
   ]
  },
  {
   "cell_type": "markdown",
   "metadata": {},
   "source": [
    "# Observations:\n",
    "1. The output lists the number of missing values in each column, helping to identify columns that may need imputation or removal.\n",
    "2. Columns with a high number of nulls may not be useful for analysis or modeling."
   ]
  },
  {
   "cell_type": "code",
   "execution_count": 12,
   "metadata": {
    "colab": {
     "base_uri": "https://localhost:8080/",
     "height": 868
    },
    "id": "-S0WZ-NEdmRG",
    "outputId": "eefe369a-db8d-4324-8973-291e8cb515fb"
   },
   "outputs": [
    {
     "data": {
      "text/plain": [
       "Year                   0.0\n",
       "Player_Name            0.0\n",
       "Matches_Batted         0.0\n",
       "Not_Outs               0.0\n",
       "Runs_Scored            0.0\n",
       "Highest_Score          0.0\n",
       "Batting_Average        0.0\n",
       "Balls_Faced            0.0\n",
       "Batting_Strike_Rate    0.0\n",
       "Centuries              0.0\n",
       "Half_Centuries         0.0\n",
       "Fours                  0.0\n",
       "Sixes                  0.0\n",
       "Catches_Taken          0.0\n",
       "Stumpings              0.0\n",
       "Matches_Bowled         0.0\n",
       "Balls_Bowled           0.0\n",
       "Runs_Conceded          0.0\n",
       "Wickets_Taken          0.0\n",
       "Best_Bowling_Match     0.0\n",
       "Bowling_Average        0.0\n",
       "Economy_Rate           0.0\n",
       "Bowling_Strike_Rate    0.0\n",
       "Four_Wicket_Hauls      0.0\n",
       "Five_Wicket_Hauls      0.0\n",
       "dtype: float64"
      ]
     },
     "execution_count": 12,
     "metadata": {},
     "output_type": "execute_result"
    }
   ],
   "source": [
    "# Percentage wise null values in columns\n",
    "df.isnull().sum()/len(df)*100"
   ]
  },
  {
   "cell_type": "markdown",
   "metadata": {},
   "source": [
    "# Observations:\n",
    "1. This output shows the percentage of missing values in each column, which is useful for quickly identifying problematic columns.\n",
    "2. Columns with a high percentage of nulls may be candidates for removal or require special handling."
   ]
  },
  {
   "cell_type": "code",
   "execution_count": 13,
   "metadata": {
    "colab": {
     "base_uri": "https://localhost:8080/",
     "height": 458
    },
    "id": "QpFOelzIdwHz",
    "outputId": "14204feb-4164-4f62-a13a-d1ca51dd62c4"
   },
   "outputs": [
    {
     "data": {
      "text/plain": [
       "0       0\n",
       "770     0\n",
       "786     0\n",
       "785     0\n",
       "784     0\n",
       "       ..\n",
       "389     0\n",
       "388     0\n",
       "387     0\n",
       "386     0\n",
       "1171    0\n",
       "Length: 1172, dtype: int64"
      ]
     },
     "execution_count": 13,
     "metadata": {},
     "output_type": "execute_result"
    }
   ],
   "source": [
    "# row-wise null values\n",
    "df.isnull().sum(axis=1).sort_values(ascending=False)"
   ]
  },
  {
   "cell_type": "markdown",
   "metadata": {},
   "source": [
    "# Observations:\n",
    "1. The output lists the number of missing values for each row, sorted in descending order, which helps to spot rows with excessive nulls.\n",
    "2. Rows with many missing values may need to be dropped to maintain data quality."
   ]
  },
  {
   "cell_type": "markdown",
   "metadata": {
    "id": "3rvBf_qkeB4c"
   },
   "source": [
    "# Observations:\n",
    "1. There is no Null values."
   ]
  },
  {
   "cell_type": "markdown",
   "metadata": {
    "id": "HWbVP3YpeOT9"
   },
   "source": [
    "# 2.3 Outliers Analysis\n",
    "2.3.1 Visualizing outliers.\n",
    "\n",
    "2.3.2 Finding the no. of outliers in each column."
   ]
  },
  {
   "cell_type": "code",
   "execution_count": 14,
   "metadata": {
    "id": "afiCMl0Adzqt"
   },
   "outputs": [],
   "source": [
    "# Fetching the datasets having categorical & Numerical variables seperately\n",
    "cat_variables= df.select_dtypes('object')\n",
    "num_variables= df.select_dtypes(['int','float'])"
   ]
  },
  {
   "cell_type": "markdown",
   "metadata": {},
   "source": [
    "# Observations:\n",
    "1. The dataset is split into categorical and numerical variables, which is useful for targeted analysis and preprocessing.\n",
    "2. This separation allows for applying appropriate techniques to each variable type, such as encoding for categorical and scaling for numerical."
   ]
  },
  {
   "cell_type": "markdown",
   "metadata": {
    "id": "UVwksUzbeeml"
   },
   "source": [
    "# 2.3.1 Visualizing outliers"
   ]
  },
  {
   "cell_type": "code",
   "execution_count": 15,
   "metadata": {
    "id": "19VO2YXQeVQu"
   },
   "outputs": [],
   "source": [
    "for i in num_variables:\n",
    "    plt.figure(figsize=(5,2))\n",
    "    sns.boxplot(data=df, x=i)\n",
    "    plt.show()"
   ]
  },
  {
   "cell_type": "markdown",
   "metadata": {},
   "source": [
    "# Observations:\n",
    "1. The boxplots for each numerical variable help to visually identify the presence and extent of outliers.\n",
    "2. Variables with long whiskers or many points outside the box indicate potential outliers that may need treatment."
   ]
  },
  {
   "cell_type": "markdown",
   "metadata": {
    "id": "-0eF4SX9geBc"
   },
   "source": [
    "# 2.3.2 Finding the no. of outliers in each column"
   ]
  },
  {
   "cell_type": "code",
   "execution_count": 16,
   "metadata": {
    "id": "ODPCuyDiei_u"
   },
   "outputs": [],
   "source": [
    "for i in num_variables:\n",
    "    Q1= np.quantile(df[i],0.25)\n",
    "    Q3= np.quantile(df[i],0.75)\n",
    "    IQR= Q3-Q1\n",
    "    lower_limit= Q1- 1.5*IQR\n",
    "    upper_limit= Q3+ 1.5*IQR\n",
    "    print(\"Number of ouliers in \",i,\":\", len(df[df[i]>upper_limit]))\n",
    "    print('-----------------------')"
   ]
  },
  {
   "cell_type": "markdown",
   "metadata": {},
   "source": [
    "# Observations:\n",
    "1. The output shows the count of outliers for each numerical column, helping to prioritize which variables need outlier treatment.\n",
    "2. Columns with a high number of outliers may require special handling, such as capping or transformation."
   ]
  },
  {
   "cell_type": "markdown",
   "metadata": {
    "id": "UPFsW4TYgj8l"
   },
   "source": [
    "# 2.4 Univariate Analysis"
   ]
  },
  {
   "cell_type": "markdown",
   "metadata": {
    "id": "AWHfkbrCgpWu"
   },
   "source": [
    "# 2.4.1. Categorical variables vizual analysis:"
   ]
  },
  {
   "cell_type": "code",
   "execution_count": 17,
   "metadata": {
    "colab": {
     "base_uri": "https://localhost:8080/",
     "height": 1000
    },
    "id": "I_cmIUt6f0YT",
    "outputId": "cd9ed6d0-64f5-4ce7-8b41-171a56635f17"
   },
   "outputs": [
    {
     "data": {
      "image/png": "[encoded data removed]",
      "text/plain": [
       "<Figure size 500x200 with 1 Axes>"
      ]
     },
     "metadata": {},
     "output_type": "display_data"
    },
    {
     "data": {
      "image/png": "[encoded data removed]",
      "text/plain": [
       "<Figure size 500x200 with 1 Axes>"
      ]
     },
     "metadata": {},
     "output_type": "display_data"
    },
    {
     "data": {
      "image/png": "[encoded data removed]",
      "text/plain": [
       "<Figure size 500x200 with 1 Axes>"
      ]
     },
     "metadata": {},
     "output_type": "display_data"
    },
    {
     "data": {
      "image/png": "[encoded data removed]",
      "text/plain": [
       "<Figure size 500x200 with 1 Axes>"
      ]
     },
     "metadata": {},
     "output_type": "display_data"
    },
    {
     "data": {
      "image/png": "[encoded data removed]",
      "text/plain": [
       "<Figure size 500x200 with 1 Axes>"
      ]
     },
     "metadata": {},
     "output_type": "display_data"
    },
    {
     "data": {
      "image/png": "[encoded data removed]",
      "text/plain": [
       "<Figure size 500x200 with 1 Axes>"
      ]
     },
     "metadata": {},
     "output_type": "display_data"
    },
    {
     "data": {
      "image/png": "[encoded data removed]",
      "text/plain": [
       "<Figure size 500x200 with 1 Axes>"
      ]
     },
     "metadata": {},
     "output_type": "display_data"
    },
    {
     "data": {
      "image/png": "[encoded data removed]",
      "text/plain": [
       "<Figure size 500x200 with 1 Axes>"
      ]
     },
     "metadata": {},
     "output_type": "display_data"
    },
    {
     "data": {
      "image/png": "[encoded data removed]",
      "text/plain": [
       "<Figure size 500x200 with 1 Axes>"
      ]
     },
     "metadata": {},
     "output_type": "display_data"
    },
    {
     "data": {
      "image/png": "[encoded data removed]",
      "text/plain": [
       "<Figure size 500x200 with 1 Axes>"
      ]
     },
     "metadata": {},
     "output_type": "display_data"
    },
    {
     "data": {
      "image/png": "[encoded data removed]",
      "text/plain": [
       "<Figure size 500x200 with 1 Axes>"
      ]
     },
     "metadata": {},
     "output_type": "display_data"
    },
    {
     "data": {
      "image/png": "[encoded data removed]",
      "text/plain": [
       "<Figure size 500x200 with 1 Axes>"
      ]
     },
     "metadata": {},
     "output_type": "display_data"
    },
    {
     "data": {
      "image/png": "[encoded data removed]",
      "text/plain": [
       "<Figure size 500x200 with 1 Axes>"
      ]
     },
     "metadata": {},
     "output_type": "display_data"
    },
    {
     "data": {
      "image/png": "[encoded data removed]",
      "text/plain": [
       "<Figure size 500x200 with 1 Axes>"
      ]
     },
     "metadata": {},
     "output_type": "display_data"
    },
    {
     "data": {
      "image/png": "[encoded data removed]",
      "text/plain": [
       "<Figure size 500x200 with 1 Axes>"
      ]
     },
     "metadata": {},
     "output_type": "display_data"
    },
    {
     "data": {
      "image/png": "[encoded data removed]",
      "text/plain": [
       "<Figure size 500x200 with 1 Axes>"
      ]
     },
     "metadata": {},
     "output_type": "display_data"
    },
    {
     "data": {
      "image/png": "[encoded data removed]",
      "text/plain": [
       "<Figure size 500x200 with 1 Axes>"
      ]
     },
     "metadata": {},
     "output_type": "display_data"
    },
    {
     "data": {
      "image/png": "[encoded data removed]",
      "text/plain": [
       "<Figure size 500x200 with 1 Axes>"
      ]
     },
     "metadata": {},
     "output_type": "display_data"
    },
    {
     "data": {
      "image/png": "[encoded data removed]",
      "text/plain": [
       "<Figure size 500x200 with 1 Axes>"
      ]
     },
     "metadata": {},
     "output_type": "display_data"
    },
    {
     "data": {
      "image/png": "[encoded data removed]",
      "text/plain": [
       "<Figure size 500x200 with 1 Axes>"
      ]
     },
     "metadata": {},
     "output_type": "display_data"
    },
    {
     "data": {
      "image/png": "[encoded data removed]",
      "text/plain": [
       "<Figure size 500x200 with 1 Axes>"
      ]
     },
     "metadata": {},
     "output_type": "display_data"
    },
    {
     "data": {
      "image/png": "[encoded data removed]",
      "text/plain": [
       "<Figure size 500x200 with 1 Axes>"
      ]
     },
     "metadata": {},
     "output_type": "display_data"
    },
    {
     "data": {
      "image/png": "[encoded data removed]",
      "text/plain": [
       "<Figure size 500x200 with 1 Axes>"
      ]
     },
     "metadata": {},
     "output_type": "display_data"
    },
    {
     "data": {
      "image/png": "[encoded data removed]",
      "text/plain": [
       "<Figure size 500x200 with 1 Axes>"
      ]
     },
     "metadata": {},
     "output_type": "display_data"
    },
    {
     "data": {
      "image/png": "[encoded data removed]",
      "text/plain": [
       "<Figure size 500x200 with 1 Axes>"
      ]
     },
     "metadata": {},
     "output_type": "display_data"
    }
   ],
   "source": [
    "for i in cat_variables.columns:\n",
    "    plt.figure(figsize=(5,2))\n",
    "    sns.countplot(data=df, x=i)\n",
    "    plt.show()"
   ]
  },
  {
   "cell_type": "markdown",
   "metadata": {},
   "source": [
    "# Observations:\n",
    "1. The countplots display the frequency of each category, making it easy to spot dominant or rare categories.\n",
    "2. Imbalanced categories may require special attention during modeling, such as resampling or encoding."
   ]
  },
  {
   "cell_type": "markdown",
   "metadata": {
    "id": "GULyL-2lgxHF"
   },
   "source": [
    "# 2.4.2. Categorical variables numerical analysis:"
   ]
  },
  {
   "cell_type": "code",
   "execution_count": 18,
   "metadata": {
    "colab": {
     "base_uri": "https://localhost:8080/"
    },
    "id": "4juDRUJyf5cC",
    "outputId": "42cd5f1d-a1e8-458f-e94e-718b039b8a81"
   },
   "outputs": [
    {
     "name": "stdout",
     "output_type": "stream",
     "text": [
      "Year\n",
      "2023        162\n",
      "2022        141\n",
      "2024        121\n",
      "2021        110\n",
      "2020        100\n",
      "2019         92\n",
      "2018         74\n",
      "2017         64\n",
      "2016         55\n",
      "2015         47\n",
      "2014         42\n",
      "No stats     42\n",
      "2013         33\n",
      "2012         25\n",
      "2011         21\n",
      "2010         16\n",
      "2009         15\n",
      "2008         12\n",
      "Name: count, dtype: int64\n",
      "-------------\n",
      "Player_Name\n",
      "Rohit Sharma              17\n",
      "MS Dhoni                  17\n",
      "Virat Kohli               17\n",
      "Shikhar Dhawan            17\n",
      "Wriddhiman Saha           17\n",
      "                          ..\n",
      "Arshin Kulkarni            1\n",
      "Yudhvir Singh              1\n",
      "Mohd. Arshad Khan          1\n",
      "Kyle Mayers                1\n",
      "Jhathavedh Subramanyan     1\n",
      "Name: count, Length: 247, dtype: int64\n",
      "-------------\n",
      "Matches_Batted\n",
      "14          170\n",
      "1           135\n",
      "16           96\n",
      "2            92\n",
      "13           69\n",
      "3            59\n",
      "12           55\n",
      "15           53\n",
      "11           51\n",
      "7            48\n",
      "5            48\n",
      "10           44\n",
      "8            42\n",
      "9            41\n",
      "No stats     41\n",
      "17           38\n",
      "4            33\n",
      "6            33\n",
      "0            15\n",
      "19            5\n",
      "18            4\n",
      "Name: count, dtype: int64\n",
      "-------------\n",
      "Not_Outs\n",
      "0           421\n",
      "1           269\n",
      "2           185\n",
      "3           121\n",
      "4            61\n",
      "No stats     41\n",
      "5            39\n",
      "6            22\n",
      "7             4\n",
      "9             4\n",
      "8             3\n",
      "10            2\n",
      "Name: count, dtype: int64\n",
      "-------------\n",
      "Runs_Scored\n",
      "0           179\n",
      "1            41\n",
      "No stats     41\n",
      "2            29\n",
      "7            21\n",
      "           ... \n",
      "47            1\n",
      "121           1\n",
      "224           1\n",
      "274           1\n",
      "219           1\n",
      "Name: count, Length: 389, dtype: int64\n",
      "-------------\n",
      "Highest_Score\n",
      "0           148\n",
      "No stats     41\n",
      "1*           32\n",
      "0*           31\n",
      "1            18\n",
      "           ... \n",
      "45*           1\n",
      "60*           1\n",
      "106*          1\n",
      "48*           1\n",
      "75*           1\n",
      "Name: count, Length: 222, dtype: int64\n",
      "-------------\n",
      "Batting_Average\n",
      "0           171\n",
      "0.00         92\n",
      "No stats     41\n",
      "9            11\n",
      "7            11\n",
      "           ... \n",
      "23.38         1\n",
      "34.4          1\n",
      "29.46         1\n",
      "27.77         1\n",
      "12.25         1\n",
      "Name: count, Length: 576, dtype: int64\n",
      "-------------\n",
      "Balls_Faced\n",
      "0           131\n",
      "No stats     41\n",
      "1            33\n",
      "2            29\n",
      "4            28\n",
      "           ... \n",
      "226           1\n",
      "192           1\n",
      "277           1\n",
      "288           1\n",
      "82            1\n",
      "Name: count, Length: 329, dtype: int64\n",
      "-------------\n",
      "Batting_Strike_Rate\n",
      "0           127\n",
      "0.00         53\n",
      "No stats     41\n",
      "100          19\n",
      "100.00       19\n",
      "           ... \n",
      "127.62        1\n",
      "130.79        1\n",
      "115.44        1\n",
      "122.28        1\n",
      "237.5         1\n",
      "Name: count, Length: 712, dtype: int64\n",
      "-------------\n",
      "Centuries\n",
      "0           1094\n",
      "No stats      41\n",
      "1             31\n",
      "2              3\n",
      "4              2\n",
      "3              1\n",
      "Name: count, dtype: int64\n",
      "-------------\n",
      "Half_Centuries\n",
      "0           783\n",
      "1           126\n",
      "2            86\n",
      "3            67\n",
      "4            41\n",
      "No stats     41\n",
      "6            11\n",
      "5            11\n",
      "8             3\n",
      "7             2\n",
      "9             1\n",
      "Name: count, dtype: int64\n",
      "-------------\n",
      "Fours\n",
      "0           342\n",
      "1           108\n",
      "2            73\n",
      "3            64\n",
      "No stats     41\n",
      "           ... \n",
      "69            1\n",
      "57            1\n",
      "88            1\n",
      "50            1\n",
      "55            1\n",
      "Name: count, Length: 76, dtype: int64\n",
      "-------------\n",
      "Sixes\n",
      "0           458\n",
      "1           107\n",
      "2            65\n",
      "4            45\n",
      "3            44\n",
      "No stats     41\n",
      "6            33\n",
      "5            33\n",
      "9            32\n",
      "8            31\n",
      "10           31\n",
      "7            27\n",
      "14           24\n",
      "11           22\n",
      "16           19\n",
      "12           18\n",
      "13           16\n",
      "15           14\n",
      "18           14\n",
      "21           14\n",
      "17           11\n",
      "23           11\n",
      "19            9\n",
      "22            7\n",
      "26            6\n",
      "25            6\n",
      "30            5\n",
      "20            4\n",
      "24            4\n",
      "28            3\n",
      "31            3\n",
      "27            2\n",
      "29            2\n",
      "32            2\n",
      "36            2\n",
      "37            1\n",
      "33            1\n",
      "35            1\n",
      "52            1\n",
      "34            1\n",
      "45            1\n",
      "38            1\n",
      "Name: count, dtype: int64\n",
      "-------------\n",
      "Catches_Taken\n",
      "0           263\n",
      "1           172\n",
      "2           155\n",
      "3           110\n",
      "4           102\n",
      "5            74\n",
      "6            62\n",
      "7            56\n",
      "No stats     41\n",
      "8            40\n",
      "9            32\n",
      "10           23\n",
      "11           12\n",
      "12           10\n",
      "13            9\n",
      "14            4\n",
      "17            3\n",
      "15            2\n",
      "18            2\n",
      "Name: count, dtype: int64\n",
      "-------------\n",
      "Stumpings\n",
      "0           1057\n",
      "No stats      41\n",
      "2             26\n",
      "1             18\n",
      "3             14\n",
      "4             10\n",
      "5              3\n",
      "6              3\n",
      "Name: count, dtype: int64\n",
      "-------------\n",
      "Matches_Bowled\n",
      "14          170\n",
      "1           129\n",
      "16           97\n",
      "2            95\n",
      "13           69\n",
      "3            59\n",
      "12           55\n",
      "15           54\n",
      "11           51\n",
      "7            49\n",
      "5            47\n",
      "10           44\n",
      "8            42\n",
      "No stats     42\n",
      "9            41\n",
      "17           38\n",
      "4            34\n",
      "6            33\n",
      "0            14\n",
      "19            5\n",
      "18            4\n",
      "Name: count, dtype: int64\n",
      "-------------\n",
      "Balls_Bowled\n",
      "0           419\n",
      "24           52\n",
      "No stats     42\n",
      "18           31\n",
      "12           27\n",
      "           ... \n",
      "193           1\n",
      "16            1\n",
      "63            1\n",
      "341           1\n",
      "76            1\n",
      "Name: count, Length: 222, dtype: int64\n",
      "-------------\n",
      "Runs_Conceded\n",
      "0           419\n",
      "No stats     42\n",
      "59            8\n",
      "27            7\n",
      "92            7\n",
      "           ... \n",
      "310           1\n",
      "394           1\n",
      "327           1\n",
      "142           1\n",
      "300           1\n",
      "Name: count, Length: 363, dtype: int64\n",
      "-------------\n",
      "Wickets_Taken\n",
      "0           524\n",
      "1            91\n",
      "2            62\n",
      "3            57\n",
      "No stats     42\n",
      "6            32\n",
      "10           31\n",
      "4            29\n",
      "13           29\n",
      "11           29\n",
      "5            26\n",
      "7            24\n",
      "12           24\n",
      "9            21\n",
      "8            20\n",
      "14           19\n",
      "17           16\n",
      "15           16\n",
      "16           14\n",
      "19           12\n",
      "20           11\n",
      "18           11\n",
      "21           10\n",
      "22            5\n",
      "27            4\n",
      "23            4\n",
      "24            3\n",
      "25            2\n",
      "26            2\n",
      "30            1\n",
      "32            1\n",
      "Name: count, dtype: int64\n",
      "-------------\n",
      "Best_Bowling_Match\n",
      "0           419\n",
      "No stats     42\n",
      "2/25         13\n",
      "3/19         12\n",
      "2/18         12\n",
      "           ... \n",
      "5/17          1\n",
      "4/9           1\n",
      "3/35          1\n",
      "4/37          1\n",
      "2/39          1\n",
      "Name: count, Length: 215, dtype: int64\n",
      "-------------\n",
      "Bowling_Average\n",
      "0           524\n",
      "No stats     42\n",
      "26            6\n",
      "25.00         5\n",
      "29            5\n",
      "           ... \n",
      "19.40         1\n",
      "26.09         1\n",
      "29.16         1\n",
      "17.09         1\n",
      "24.53         1\n",
      "Name: count, Length: 494, dtype: int64\n",
      "-------------\n",
      "Economy_Rate\n",
      "0           420\n",
      "No stats     42\n",
      "9            10\n",
      "8             9\n",
      "10            8\n",
      "           ... \n",
      "9.53          1\n",
      "8.70          1\n",
      "10.90         1\n",
      "13.41         1\n",
      "9.83          1\n",
      "Name: count, Length: 382, dtype: int64\n",
      "-------------\n",
      "Bowling_Strike_Rate\n",
      "0           524\n",
      "No stats     42\n",
      "24           19\n",
      "12.00        16\n",
      "18.00        14\n",
      "           ... \n",
      "37.33         1\n",
      "20.4          1\n",
      "29.33         1\n",
      "38.00         1\n",
      "17.60         1\n",
      "Name: count, Length: 375, dtype: int64\n",
      "-------------\n",
      "Four_Wicket_Hauls\n",
      "0           1052\n",
      "1             67\n",
      "No stats      42\n",
      "2             10\n",
      "3              1\n",
      "Name: count, dtype: int64\n",
      "-------------\n",
      "Five_Wicket_Hauls\n",
      "0           1110\n",
      "No stats      42\n",
      "1             20\n",
      "Name: count, dtype: int64\n",
      "-------------\n"
     ]
    }
   ],
   "source": [
    "for i in cat_variables.columns:\n",
    "    print(df[i].value_counts())\n",
    "    print('-------------')"
   ]
  },
  {
   "cell_type": "markdown",
   "metadata": {},
   "source": [
    "# Observations:\n",
    "1. The value_counts output shows the distribution of each category, helping to identify the most and least common values.\n",
    "2. This information is useful for feature engineering and understanding the dataset's composition."
   ]
  },
  {
   "cell_type": "markdown",
   "metadata": {
    "id": "miSgmd5fiAXN"
   },
   "source": [
    "# Observations:\n",
    "1. Most Frequent Players:\n",
    "\n",
    "*Virat Kohli and Rohit Sharma appear most frequently, indicating long and consistent careers.\n",
    "2. Dataset Span per Player:\n",
    "* Some players have more yearly entries, which could bias totals — we should normalize by matches or years if comparing.\n",
    "\n",
    "\n"
   ]
  },
  {
   "cell_type": "markdown",
   "metadata": {
    "id": "sIrgCihujcpd"
   },
   "source": [
    "# 2.5 Bi-variate analysis\n"
   ]
  },
  {
   "cell_type": "code",
   "execution_count": 19,
   "metadata": {
    "id": "rmC98_PFKXoD"
   },
   "outputs": [],
   "source": [
    "numeric_columns = df.select_dtypes(include=['number']).columns"
   ]
  },
  {
   "cell_type": "markdown",
   "metadata": {},
   "source": [
    "# Observations:\n",
    "1. The numeric_columns variable stores the names of all columns with numeric data types, which is useful for further analysis.\n",
    "2. This selection enables efficient application of statistical and visualization techniques to relevant columns."
   ]
  },
  {
   "cell_type": "markdown",
   "metadata": {
    "id": "mYookQhOqOze"
   },
   "source": [
    "# 2.5.1 Bar Plot of Runs Scored by Year"
   ]
  },
  {
   "cell_type": "code",
   "execution_count": 20,
   "metadata": {
    "colab": {
     "base_uri": "https://localhost:8080/",
     "height": 694
    },
    "id": "SXMMLL_Ckzmw",
    "outputId": "7d2cc63b-7816-44a7-c952-f44f1eb59730"
   },
   "outputs": [
    {
     "name": "stderr",
     "output_type": "stream",
     "text": [
      "C:\\Users\\yadav\\AppData\\Local\\Temp\\ipykernel_20284\\2777499927.py:11: FutureWarning: \n",
      "\n",
      "Passing `palette` without assigning `hue` is deprecated and will be removed in v0.14.0. Assign the `x` variable to `hue` and set `legend=False` for the same effect.\n",
      "\n",
      "  sns.barplot(x=yearly_runs.index, y=yearly_runs.values, palette=colors)\n"
     ]
    },
    {
     "data": {
      "image/png": "[encoded data removed]",
      "text/plain": [
       "<Figure size 1200x600 with 1 Axes>"
      ]
     },
     "metadata": {},
     "output_type": "display_data"
    }
   ],
   "source": [
    "\n",
    "df['Runs_Scored'] = pd.to_numeric(df['Runs_Scored'], errors='coerce')\n",
    "\n",
    "\n",
    "yearly_runs = df.groupby('Year')['Runs_Scored'].sum().sort_index()\n",
    "\n",
    "\n",
    "colors = sns.color_palette(\"Spectral\", len(yearly_runs))\n",
    "\n",
    "\n",
    "plt.figure(figsize=(12, 6))\n",
    "sns.barplot(x=yearly_runs.index, y=yearly_runs.values, palette=colors)\n",
    "\n",
    "\n",
    "plt.title('Total Runs Scored by Year', fontsize=16)\n",
    "plt.xlabel('Year', fontsize=12)\n",
    "plt.ylabel('Total Runs Scored', fontsize=12)\n",
    "plt.xticks(rotation=45)\n",
    "plt.tight_layout()\n",
    "plt.show()\n"
   ]
  },
  {
   "cell_type": "markdown",
   "metadata": {},
   "source": [
    "# Observations:\n",
    "1. The bar plot visualizes the total runs scored each year, revealing trends or anomalies over time.\n",
    "2. Years with unusually high or low totals may warrant further investigation for underlying causes."
   ]
  },
  {
   "cell_type": "markdown",
   "metadata": {
    "id": "a7DcLuIXr7v9"
   },
   "source": [
    "# 2.5.2 Top 10 Run Scorers"
   ]
  },
  {
   "cell_type": "code",
   "execution_count": 21,
   "metadata": {
    "colab": {
     "base_uri": "https://localhost:8080/",
     "height": 694
    },
    "id": "eoQSZjmenB_L",
    "outputId": "bd35e49d-fcbf-4c58-bb74-c253a2245948"
   },
   "outputs": [
    {
     "name": "stderr",
     "output_type": "stream",
     "text": [
      "C:\\Users\\yadav\\AppData\\Local\\Temp\\ipykernel_20284\\3810709321.py:6: FutureWarning: \n",
      "\n",
      "Passing `palette` without assigning `hue` is deprecated and will be removed in v0.14.0. Assign the `y` variable to `hue` and set `legend=False` for the same effect.\n",
      "\n",
      "  sns.barplot(x=top_runners.values, y=top_runners.index, palette='viridis')\n"
     ]
    },
    {
     "data": {
      "image/png": "[encoded data removed]",
      "text/plain": [
       "<Figure size 1200x600 with 1 Axes>"
      ]
     },
     "metadata": {},
     "output_type": "display_data"
    }
   ],
   "source": [
    "df['Runs_Scored'] = pd.to_numeric(df['Runs_Scored'], errors='coerce')\n",
    "\n",
    "top_runners = df.groupby('Player_Name')['Runs_Scored'].sum().sort_values(ascending=False).head(10)\n",
    "\n",
    "plt.figure(figsize=(12, 6))\n",
    "sns.barplot(x=top_runners.values, y=top_runners.index, palette='viridis')\n",
    "\n",
    "plt.title('Top 10 Run Scorers', fontsize=16)\n",
    "plt.xlabel('Total Runs Scored')\n",
    "plt.ylabel('Player Name')\n",
    "plt.tight_layout()\n",
    "plt.show()\n"
   ]
  },
  {
   "cell_type": "markdown",
   "metadata": {},
   "source": [
    "# Observations:\n",
    "1. The bar plot highlights the top 10 run scorers, making it easy to identify the most prolific batsmen in the dataset.\n",
    "2. The difference in bar lengths shows the gap between players, indicating dominance or competitiveness among top performers."
   ]
  },
  {
   "cell_type": "markdown",
   "metadata": {
    "id": "FRvlLyI2nmfh"
   },
   "source": [
    "# 2.5.3 Top 10 Wicket Takers"
   ]
  },
  {
   "cell_type": "code",
   "execution_count": 22,
   "metadata": {
    "colab": {
     "base_uri": "https://localhost:8080/",
     "height": 694
    },
    "id": "DHxhdwV7nf_p",
    "outputId": "8b284d04-e084-4ada-e059-e931923cbad6"
   },
   "outputs": [
    {
     "name": "stderr",
     "output_type": "stream",
     "text": [
      "C:\\Users\\yadav\\AppData\\Local\\Temp\\ipykernel_20284\\791201919.py:6: FutureWarning: \n",
      "\n",
      "Passing `palette` without assigning `hue` is deprecated and will be removed in v0.14.0. Assign the `y` variable to `hue` and set `legend=False` for the same effect.\n",
      "\n",
      "  sns.barplot(x=top_wicket_takers.values, y=top_wicket_takers.index, palette='magma')\n"
     ]
    },
    {
     "data": {
      "image/png": "[encoded data removed]",
      "text/plain": [
       "<Figure size 1200x600 with 1 Axes>"
      ]
     },
     "metadata": {},
     "output_type": "display_data"
    }
   ],
   "source": [
    "df['Wickets_Taken'] = pd.to_numeric(df['Wickets_Taken'], errors='coerce')\n",
    "\n",
    "top_wicket_takers = df.groupby('Player_Name')['Wickets_Taken'].sum().sort_values(ascending=False).head(10)\n",
    "\n",
    "plt.figure(figsize=(12, 6))\n",
    "sns.barplot(x=top_wicket_takers.values, y=top_wicket_takers.index, palette='magma')\n",
    "\n",
    "plt.title('Top 10 Wicket Takers', fontsize=16)\n",
    "plt.xlabel('Total Wickets Taken')\n",
    "plt.ylabel('Player Name')\n",
    "plt.tight_layout()\n",
    "plt.show()\n"
   ]
  },
  {
   "cell_type": "markdown",
   "metadata": {},
   "source": [
    "# Observations:\n",
    "1. The bar plot displays the top 10 wicket takers, highlighting the leading bowlers in the dataset.\n",
    "2. The visualization helps compare the performance of bowlers and spot any significant outliers among them."
   ]
  },
  {
   "cell_type": "markdown",
   "metadata": {
    "id": "kAtuBa_Nnsi9"
   },
   "source": [
    "# 3- Data Cleaning & pre processing\n",
    "* 1.Dropping duplicate rows\n",
    "* 2.Replacing wrong entries\n",
    "* 3.Handle outliers (IQR, Z-score method)\n",
    "* 4.Encoding\n",
    "* 5.Data splitting\n",
    "* 6.Feature scaling: StandardScaler, MinMaxScaler\n",
    "* 7.Feature selection:Based on correlation, domain knowledge, or model-based methods\n"
   ]
  },
  {
   "cell_type": "markdown",
   "metadata": {
    "id": "9_KOiwgxuInd"
   },
   "source": [
    "# 3.1 Dropping duplicates"
   ]
  },
  {
   "cell_type": "code",
   "execution_count": 23,
   "metadata": {
    "colab": {
     "base_uri": "https://localhost:8080/"
    },
    "id": "kqwdac6G7R97",
    "outputId": "928eb38e-b994-4484-cfc5-fcc7cd3bdf94"
   },
   "outputs": [
    {
     "name": "stdout",
     "output_type": "stream",
     "text": [
      " No. of rows before dropping duplicates : 1172\n",
      " No. of rows after dropping duplicates : 1172\n"
     ]
    }
   ],
   "source": [
    "print(\" No. of rows before dropping duplicates :\", df.shape[0])\n",
    "df.drop_duplicates(inplace=True)\n",
    "print(\" No. of rows after dropping duplicates :\", df.shape[0])"
   ]
  },
  {
   "cell_type": "markdown",
   "metadata": {},
   "source": [
    "# Observations:\n",
    "1. The output shows the number of rows before and after dropping duplicates, confirming the removal of redundant data.\n",
    "2. This step ensures that each record in the dataset is unique, improving data quality for analysis."
   ]
  },
  {
   "cell_type": "markdown",
   "metadata": {
    "id": "bjUU3RHW8FfI"
   },
   "source": [
    "# 3.2 Replacing wrong entries"
   ]
  },
  {
   "cell_type": "markdown",
   "metadata": {
    "id": "Ss5flOjc8UrP"
   },
   "source": [
    "# 3.2.1 Year"
   ]
  },
  {
   "cell_type": "code",
   "execution_count": 24,
   "metadata": {
    "colab": {
     "base_uri": "https://localhost:8080/"
    },
    "id": "2B1YRWUv7eGv",
    "outputId": "af206087-00c3-47d7-80a6-e8411c389408"
   },
   "outputs": [
    {
     "name": "stdout",
     "output_type": "stream",
     "text": [
      "Unique categories in feature :  ['2024' '2023' '2022' '2021' '2020' '2019' '2018' '2017' '2016' '2015'\n",
      " '2014' '2013' '2012' '2011' '2010' '2009' '2008' 'No stats']\n",
      "Number of Unique categories in feature :  18\n",
      "Count of Unique categories in feature :  Year\n",
      "2023        162\n",
      "2022        141\n",
      "2024        121\n",
      "2021        110\n",
      "2020        100\n",
      "2019         92\n",
      "2018         74\n",
      "2017         64\n",
      "2016         55\n",
      "2015         47\n",
      "2014         42\n",
      "No stats     42\n",
      "2013         33\n",
      "2012         25\n",
      "2011         21\n",
      "2010         16\n",
      "2009         15\n",
      "2008         12\n",
      "Name: count, dtype: int64\n"
     ]
    }
   ],
   "source": [
    "# Before Cleaning\n",
    "print(\"Unique categories in feature : \",df['Year'].unique())\n",
    "print(\"Number of Unique categories in feature : \",df['Year'].nunique())\n",
    "print(\"Count of Unique categories in feature : \",df['Year'].value_counts())"
   ]
  },
  {
   "cell_type": "markdown",
   "metadata": {},
   "source": [
    "# Observations:\n",
    "1. The output lists all unique values in the 'Year' column, helping to spot invalid entries like 'No stats'.\n",
    "2. Knowing the count and distribution of unique years is important for time-based analysis and cleaning."
   ]
  },
  {
   "cell_type": "code",
   "execution_count": 25,
   "metadata": {
    "colab": {
     "base_uri": "https://localhost:8080/"
    },
    "id": "Y_Dq9P3V7uGW",
    "outputId": "225b68eb-967c-4b8e-cbf3-b2ddb0912d3a"
   },
   "outputs": [],
   "source": [
    "df = df[~df['Year'].astype(str).str.contains(\"No stats\", case=False, na=False)]\n",
    "df['Year'] = df['Year'].astype(int)"
   ]
  },
  {
   "cell_type": "code",
   "execution_count": 26,
   "metadata": {
    "colab": {
     "base_uri": "https://localhost:8080/"
    },
    "id": "CBcPHJrt71Tx",
    "outputId": "23dd15b3-8fec-426c-9512-7c24add5c7b9"
   },
   "outputs": [
    {
     "name": "stdout",
     "output_type": "stream",
     "text": [
      "Unique categories in feature :  [2024 2023 2022 2021 2020 2019 2018 2017 2016 2015 2014 2013 2012 2011\n",
      " 2010 2009 2008]\n",
      "Number of Unique categories in feature :  17\n",
      "Count of Unique categories in feature :  Year\n",
      "2023    162\n",
      "2022    141\n",
      "2024    121\n",
      "2021    110\n",
      "2020    100\n",
      "2019     92\n",
      "2018     74\n",
      "2017     64\n",
      "2016     55\n",
      "2015     47\n",
      "2014     42\n",
      "2013     33\n",
      "2012     25\n",
      "2011     21\n",
      "2010     16\n",
      "2009     15\n",
      "2008     12\n",
      "Name: count, dtype: int64\n"
     ]
    }
   ],
   "source": [
    "# After Cleaning\n",
    "print(\"Unique categories in feature : \",df['Year'].unique())\n",
    "print(\"Number of Unique categories in feature : \",df['Year'].nunique())\n",
    "print(\"Count of Unique categories in feature : \",df['Year'].value_counts())"
   ]
  },
  {
   "cell_type": "markdown",
   "metadata": {},
   "source": [
    "# Observations:\n",
    "1. The output confirms that invalid entries have been removed and the 'Year' column is now clean and numeric.\n",
    "2. The distribution of years can now be reliably used for chronological analysis and modeling."
   ]
  },
  {
   "cell_type": "markdown",
   "metadata": {
    "id": "6zuVaAMNzNUK"
   },
   "source": [
    "# 3.2.2 Remove asterisk From Highest_Score"
   ]
  },
  {
   "cell_type": "code",
   "execution_count": 27,
   "metadata": {
    "colab": {
     "base_uri": "https://localhost:8080/"
    },
    "id": "_DTEaYePzCcK",
    "outputId": "d6665e96-43a6-471f-ee85-754dc71f9e12"
   },
   "outputs": [],
   "source": [
    "# Remove asterisk from 'Highest_Score' and convert to numeric\n",
    "df['Highest_Score'] = df['Highest_Score'].astype(str).str.replace('*', '', regex=False)\n",
    "df['Highest_Score'] = pd.to_numeric(df['Highest_Score'], errors='coerce')"
   ]
  },
  {
   "cell_type": "code",
   "execution_count": 28,
   "metadata": {
    "colab": {
     "base_uri": "https://localhost:8080/"
    },
    "id": "3IXHh7b2zHPq",
    "outputId": "7ff56733-98fd-448a-c52c-1c37cc74cb90"
   },
   "outputs": [
    {
     "name": "stdout",
     "output_type": "stream",
     "text": [
      "   Highest_Score\n",
      "0             46\n",
      "1             92\n",
      "2             99\n",
      "3            101\n",
      "4             72\n"
     ]
    }
   ],
   "source": [
    "# Preview cleaned data\n",
    "print(df[['Highest_Score']].head())"
   ]
  },
  {
   "cell_type": "markdown",
   "metadata": {},
   "source": [
    "# Observations:\n",
    "1. The preview shows that asterisks have been removed and 'Highest_Score' is now numeric, ensuring consistency.\n",
    "2. This cleaning step allows for accurate statistical analysis and visualization of the 'Highest_Score' column."
   ]
  },
  {
   "cell_type": "markdown",
   "metadata": {
    "id": "2Sgli2i1DDlo"
   },
   "source": [
    "# 3.2.3 Drop rows with 'No stats' in important numeric fields"
   ]
  },
  {
   "cell_type": "code",
   "execution_count": 29,
   "metadata": {
    "id": "HdK5vaZSDAdz"
   },
   "outputs": [],
   "source": [
    "numeric_fields = ['Runs_Scored', 'Wickets_Taken', 'Bowling_Average']\n",
    "for field in numeric_fields:\n",
    "    df = df[df[field] != 'No stats']\n",
    "    df = df[df[field].notna()]"
   ]
  },
  {
   "cell_type": "code",
   "execution_count": 30,
   "metadata": {
    "id": "tRO3cbubDLIN"
   },
   "outputs": [],
   "source": [
    "df[numeric_fields] = df[numeric_fields].apply(pd.to_numeric, errors='coerce')"
   ]
  },
  {
   "cell_type": "markdown",
   "metadata": {
    "id": "Mp-atJ0vM3WI"
   },
   "source": [
    "# 3.2.4 Remove 'Batting_Average' from the Dataset"
   ]
  },
  {
   "cell_type": "code",
   "execution_count": 31,
   "metadata": {
    "id": "q_a4VFfGMs8r"
   },
   "outputs": [],
   "source": [
    "# Drop the 'Batting_Average' column\n",
    "df = df.drop(columns=['Batting_Average'], errors='ignore')"
   ]
  },
  {
   "cell_type": "code",
   "execution_count": 32,
   "metadata": {
    "colab": {
     "base_uri": "https://localhost:8080/"
    },
    "id": "4-dgaBpTMxPj",
    "outputId": "3e13cb80-5b90-447e-815c-ddb2ab4b2ff3"
   },
   "outputs": [
    {
     "name": "stdout",
     "output_type": "stream",
     "text": [
      "Index(['Year', 'Player_Name', 'Matches_Batted', 'Not_Outs', 'Runs_Scored',\n",
      "       'Highest_Score', 'Balls_Faced', 'Batting_Strike_Rate', 'Centuries',\n",
      "       'Half_Centuries', 'Fours', 'Sixes', 'Catches_Taken', 'Stumpings',\n",
      "       'Matches_Bowled', 'Balls_Bowled', 'Runs_Conceded', 'Wickets_Taken',\n",
      "       'Best_Bowling_Match', 'Bowling_Average', 'Economy_Rate',\n",
      "       'Bowling_Strike_Rate', 'Four_Wicket_Hauls', 'Five_Wicket_Hauls'],\n",
      "      dtype='object')\n"
     ]
    }
   ],
   "source": [
    "# Confirm by printing columns\n",
    "print(df.columns)"
   ]
  },
  {
   "cell_type": "markdown",
   "metadata": {},
   "source": [
    "# Observations:\n",
    "1. The output lists all remaining columns, confirming that 'Batting_Average' has been successfully dropped.\n",
    "2. Reviewing the columns helps ensure that only relevant features are retained for further analysis."
   ]
  },
  {
   "cell_type": "markdown",
   "metadata": {
    "id": "-dE4yfycQlPn"
   },
   "source": [
    "# 3.2.5 Convert relevant columns to numeric (handles any non-numeric issues)"
   ]
  },
  {
   "cell_type": "code",
   "execution_count": 33,
   "metadata": {
    "id": "9pz-os_uQf0y"
   },
   "outputs": [],
   "source": [
    "# Convert relevant columns to numeric (handles any non-numeric issues)\n",
    "df['Matches_Batted'] = pd.to_numeric(df['Matches_Batted'], errors='coerce')\n",
    "df['Balls_Faced'] = pd.to_numeric(df['Balls_Faced'], errors='coerce')\n",
    "df['Batting_Strike_Rate'] = pd.to_numeric(df['Batting_Strike_Rate'], errors='coerce')\n",
    "df['Not_Outs'] = pd.to_numeric(df['Not_Outs'], errors='coerce')\n",
    "df['Runs_Scored'] = pd.to_numeric(df['Runs_Scored'], errors='coerce')"
   ]
  },
  {
   "cell_type": "code",
   "execution_count": 34,
   "metadata": {
    "id": "hC_OnM6qQizW"
   },
   "outputs": [],
   "source": [
    "# Drop rows with missing values in these columns\n",
    "df = df.dropna(subset=['Matches_Batted', 'Balls_Faced', 'Batting_Strike_Rate', 'Not_Outs', 'Runs_Scored'])"
   ]
  },
  {
   "cell_type": "markdown",
   "metadata": {},
   "source": [
    "# Observations:\n",
    "1. Dropping rows with missing values in key columns ensures that the dataset is clean and ready for modeling.\n",
    "2. This step may reduce the dataset size but improves the reliability of subsequent analyses."
   ]
  },
  {
   "cell_type": "markdown",
   "metadata": {
    "id": "4AH6_-G-umR1"
   },
   "source": [
    "# Save Cleaned Data"
   ]
  },
  {
   "cell_type": "code",
   "execution_count": 35,
   "metadata": {
    "colab": {
     "base_uri": "https://localhost:8080/"
    },
    "id": "ADO4edl_tmFD",
    "outputId": "3c9e2b2a-373d-4cef-b8cb-e1f72a39a715"
   },
   "outputs": [
    {
     "name": "stdout",
     "output_type": "stream",
     "text": [
      "Cleaned data saved as 'cricket_data_cleaned.csv'\n"
     ]
    }
   ],
   "source": [
    "df.to_csv(\"cricket_data_cleaned.csv\", index=False)\n",
    "print(\"Cleaned data saved as 'cricket_data_cleaned.csv'\")"
   ]
  },
  {
   "cell_type": "markdown",
   "metadata": {},
   "source": [
    "# Observations:\n",
    "1. The cleaned dataset is saved as 'cricket_data_cleaned.csv', making it easy to reuse for further analysis or modeling.\n",
    "2. Saving the cleaned data preserves the results of preprocessing and allows for reproducibility."
   ]
  },
  {
   "cell_type": "markdown",
   "metadata": {
    "id": "j4bR5IDsqOw8"
   },
   "source": [
    "# 3.3 Outliers Treatment\n",
    "\n"
   ]
  },
  {
   "cell_type": "code",
   "execution_count": 36,
   "metadata": {
    "colab": {
     "base_uri": "https://localhost:8080/",
     "height": 1000
    },
    "id": "Hwowdus4Cie7",
    "outputId": "4b210734-11df-4651-955b-9cc4ec6afa4f"
   },
   "outputs": [
    {
     "data": {
      "image/png": "[encoded data removed]",
      "text/plain": [
       "<Figure size 500x200 with 1 Axes>"
      ]
     },
     "metadata": {},
     "output_type": "display_data"
    },
    {
     "data": {
      "image/png": "[encoded data removed]",
      "text/plain": [
       "<Figure size 500x200 with 1 Axes>"
      ]
     },
     "metadata": {},
     "output_type": "display_data"
    },
    {
     "data": {
      "image/png": "[encoded data removed]",
      "text/plain": [
       "<Figure size 500x200 with 1 Axes>"
      ]
     },
     "metadata": {},
     "output_type": "display_data"
    },
    {
     "data": {
      "image/png": "[encoded data removed]",
      "text/plain": [
       "<Figure size 500x200 with 1 Axes>"
      ]
     },
     "metadata": {},
     "output_type": "display_data"
    },
    {
     "data": {
      "image/png": "[encoded data removed]",
      "text/plain": [
       "<Figure size 500x200 with 1 Axes>"
      ]
     },
     "metadata": {},
     "output_type": "display_data"
    },
    {
     "data": {
      "image/png": "[encoded data removed]",
      "text/plain": [
       "<Figure size 500x200 with 1 Axes>"
      ]
     },
     "metadata": {},
     "output_type": "display_data"
    },
    {
     "data": {
      "image/png": "[encoded data removed]",
      "text/plain": [
       "<Figure size 500x200 with 1 Axes>"
      ]
     },
     "metadata": {},
     "output_type": "display_data"
    },
    {
     "data": {
      "image/png": "[encoded data removed]",
      "text/plain": [
       "<Figure size 500x200 with 1 Axes>"
      ]
     },
     "metadata": {},
     "output_type": "display_data"
    },
    {
     "data": {
      "image/png": "[encoded data removed]",
      "text/plain": [
       "<Figure size 500x200 with 1 Axes>"
      ]
     },
     "metadata": {},
     "output_type": "display_data"
    }
   ],
   "source": [
    "for i in df.select_dtypes(['int','float']).columns:\n",
    "    plt.figure(figsize=(5,2))\n",
    "    sns.boxplot(data=df,x=i);"
   ]
  },
  {
   "cell_type": "markdown",
   "metadata": {},
   "source": [
    "# Observations:\n",
    "1. The boxplots after cleaning show the effect of outlier treatment on the distribution of numerical variables.\n",
    "2. Reduced number of outliers or more compact boxplots indicate successful outlier handling."
   ]
  },
  {
   "cell_type": "markdown",
   "metadata": {
    "id": "TKBCL4E1uDZX"
   },
   "source": [
    "# A.IQR Method (Interquartile Range)"
   ]
  },
  {
   "cell_type": "code",
   "execution_count": 37,
   "metadata": {
    "colab": {
     "base_uri": "https://localhost:8080/"
    },
    "id": "LxiPakkkqNKF",
    "outputId": "6a336812-6c95-49f1-cec6-79ddc53f4251"
   },
   "outputs": [
    {
     "data": {
      "text/plain": [
       "(-77.0, 139.0)"
      ]
     },
     "execution_count": 37,
     "metadata": {},
     "output_type": "execute_result"
    }
   ],
   "source": [
    "# A.IQR Method (Interquartile Range)\n",
    "Q1 = df['Highest_Score'].quantile(0.25)\n",
    "Q3 = df['Highest_Score'].quantile(0.75)\n",
    "IQR = Q3 - Q1\n",
    "# Define bounds\n",
    "lower = Q1 - 1.5 * IQR\n",
    "upper = Q3 + 1.5 * IQR\n",
    "lower,upper"
   ]
  },
  {
   "cell_type": "markdown",
   "metadata": {},
   "source": [
    "# Observations:\n",
    "1. The calculated lower and upper bounds using the IQR method help to define what constitutes an outlier for 'Highest_Score'.\n",
    "2. These bounds are used to filter or cap outliers, improving the robustness of statistical analysis."
   ]
  },
  {
   "cell_type": "markdown",
   "metadata": {
    "id": "zq2G3JsKuJ2W"
   },
   "source": [
    "# Filter out outliers"
   ]
  },
  {
   "cell_type": "code",
   "execution_count": 38,
   "metadata": {
    "colab": {
     "base_uri": "https://localhost:8080/",
     "height": 147
    },
    "id": "gTqzqlgKrCBI",
    "outputId": "2005de2e-d4ee-4824-e288-61a4698a6137"
   },
   "outputs": [
    {
     "data": {
      "text/html": [
       "<div>\n",
       "<style scoped>\n",
       "    .dataframe tbody tr th:only-of-type {\n",
       "        vertical-align: middle;\n",
       "    }\n",
       "\n",
       "    .dataframe tbody tr th {\n",
       "        vertical-align: top;\n",
       "    }\n",
       "\n",
       "    .dataframe thead th {\n",
       "        text-align: right;\n",
       "    }\n",
       "</style>\n",
       "<table border=\"1\" class=\"dataframe\">\n",
       "  <thead>\n",
       "    <tr style=\"text-align: right;\">\n",
       "      <th></th>\n",
       "      <th>Year</th>\n",
       "      <th>Player_Name</th>\n",
       "      <th>Matches_Batted</th>\n",
       "      <th>Not_Outs</th>\n",
       "      <th>Runs_Scored</th>\n",
       "      <th>Highest_Score</th>\n",
       "      <th>Balls_Faced</th>\n",
       "      <th>Batting_Strike_Rate</th>\n",
       "      <th>Centuries</th>\n",
       "      <th>Half_Centuries</th>\n",
       "      <th>...</th>\n",
       "      <th>Matches_Bowled</th>\n",
       "      <th>Balls_Bowled</th>\n",
       "      <th>Runs_Conceded</th>\n",
       "      <th>Wickets_Taken</th>\n",
       "      <th>Best_Bowling_Match</th>\n",
       "      <th>Bowling_Average</th>\n",
       "      <th>Economy_Rate</th>\n",
       "      <th>Bowling_Strike_Rate</th>\n",
       "      <th>Four_Wicket_Hauls</th>\n",
       "      <th>Five_Wicket_Hauls</th>\n",
       "    </tr>\n",
       "  </thead>\n",
       "  <tbody>\n",
       "    <tr>\n",
       "      <th>485</th>\n",
       "      <td>2022</td>\n",
       "      <td>Quinton de Kock</td>\n",
       "      <td>15</td>\n",
       "      <td>1</td>\n",
       "      <td>508.0</td>\n",
       "      <td>140</td>\n",
       "      <td>341</td>\n",
       "      <td>148.97</td>\n",
       "      <td>1</td>\n",
       "      <td>3</td>\n",
       "      <td>...</td>\n",
       "      <td>15</td>\n",
       "      <td>0</td>\n",
       "      <td>0</td>\n",
       "      <td>0.0</td>\n",
       "      <td>0</td>\n",
       "      <td>0.0</td>\n",
       "      <td>0</td>\n",
       "      <td>0</td>\n",
       "      <td>0</td>\n",
       "      <td>0</td>\n",
       "    </tr>\n",
       "  </tbody>\n",
       "</table>\n",
       "<p>1 rows × 24 columns</p>\n",
       "</div>"
      ],
      "text/plain": [
       "     Year      Player_Name  Matches_Batted  Not_Outs  Runs_Scored  \\\n",
       "485  2022  Quinton de Kock              15         1        508.0   \n",
       "\n",
       "     Highest_Score  Balls_Faced  Batting_Strike_Rate Centuries Half_Centuries  \\\n",
       "485            140          341               148.97         1              3   \n",
       "\n",
       "     ... Matches_Bowled Balls_Bowled Runs_Conceded Wickets_Taken  \\\n",
       "485  ...             15            0             0           0.0   \n",
       "\n",
       "    Best_Bowling_Match Bowling_Average Economy_Rate  Bowling_Strike_Rate  \\\n",
       "485                  0             0.0            0                    0   \n",
       "\n",
       "    Four_Wicket_Hauls  Five_Wicket_Hauls  \n",
       "485                 0                  0  \n",
       "\n",
       "[1 rows x 24 columns]"
      ]
     },
     "execution_count": 38,
     "metadata": {},
     "output_type": "execute_result"
    }
   ],
   "source": [
    "df[(df['Highest_Score'] <= lower) | (df['Highest_Score'] >= upper)]"
   ]
  },
  {
   "cell_type": "markdown",
   "metadata": {},
   "source": [
    "# Observations:\n",
    "1. The output lists all rows where 'Highest_Score' is considered an outlier, allowing for targeted review or correction.\n",
    "2. Identifying these rows is a key step before applying capping or imputation strategies."
   ]
  },
  {
   "cell_type": "code",
   "execution_count": 39,
   "metadata": {
    "colab": {
     "base_uri": "https://localhost:8080/"
    },
    "id": "0wG-BaELrNFw",
    "outputId": "06a601a5-eb67-4eee-db3a-b78012244fe6"
   },
   "outputs": [
    {
     "data": {
      "text/plain": [
       "113.71000000000004"
      ]
     },
     "execution_count": 39,
     "metadata": {},
     "output_type": "execute_result"
    }
   ],
   "source": [
    "df['Highest_Score'].quantile(0.99)"
   ]
  },
  {
   "cell_type": "markdown",
   "metadata": {},
   "source": [
    "# Observations:\n",
    "1. The 99th percentile value provides a threshold for extreme values, helping to decide on capping strategies.\n",
    "2. This statistic is useful for understanding the upper tail of the 'Highest_Score' distribution."
   ]
  },
  {
   "cell_type": "code",
   "execution_count": 40,
   "metadata": {
    "colab": {
     "base_uri": "https://localhost:8080/",
     "height": 335
    },
    "id": "pKYhd2Bssvq7",
    "outputId": "954d1c15-7c24-4b09-95e1-1992a0080c34"
   },
   "outputs": [
    {
     "data": {
      "text/plain": [
       "count    1130.000000\n",
       "mean       33.241593\n",
       "std        32.438114\n",
       "min         0.000000\n",
       "25%         4.000000\n",
       "50%        23.000000\n",
       "75%        58.000000\n",
       "max       140.000000\n",
       "Name: Highest_Score, dtype: float64"
      ]
     },
     "execution_count": 40,
     "metadata": {},
     "output_type": "execute_result"
    }
   ],
   "source": [
    "df['Highest_Score'].describe()"
   ]
  },
  {
   "cell_type": "markdown",
   "metadata": {},
   "source": [
    "# Observations:\n",
    "1. The describe() output for 'Highest_Score' shows its central tendency and spread, helping to assess the impact of outlier treatment.\n",
    "2. Comparing these statistics before and after cleaning can reveal the effectiveness of the outlier handling process."
   ]
  },
  {
   "cell_type": "code",
   "execution_count": 41,
   "metadata": {
    "colab": {
     "base_uri": "https://localhost:8080/",
     "height": 450
    },
    "id": "ouUdTVz6s1H7",
    "outputId": "2758900d-f6b4-4d9f-c52c-1b2ac796bc14"
   },
   "outputs": [
    {
     "data": {
      "image/png": "[encoded data removed]",
      "text/plain": [
       "<Figure size 640x480 with 1 Axes>"
      ]
     },
     "metadata": {},
     "output_type": "display_data"
    }
   ],
   "source": [
    "sns.histplot(data=df, x='Highest_Score',binwidth=5)\n",
    "plt.xticks(np.arange(14,120,5));"
   ]
  },
  {
   "cell_type": "markdown",
   "metadata": {},
   "source": [
    "# Observations:\n",
    "1. The histogram visualizes the distribution of 'Highest_Score', showing the frequency of different score ranges.\n",
    "2. Peaks or gaps in the histogram can indicate common or rare performance levels among players."
   ]
  },
  {
   "cell_type": "code",
   "execution_count": 42,
   "metadata": {
    "id": "-aX4ZqLltLKZ"
   },
   "outputs": [],
   "source": [
    "df['Highest_Score'] =np.where(df['Highest_Score']<= lower,df['Highest_Score'].median(),df['Highest_Score'])\n",
    "df['Highest_Score'] =np.where(df['Highest_Score']>= upper,df['Highest_Score'].median(),df['Highest_Score'])"
   ]
  },
  {
   "cell_type": "code",
   "execution_count": 43,
   "metadata": {
    "colab": {
     "base_uri": "https://localhost:8080/",
     "height": 99
    },
    "id": "tMJjtC5CudFY",
    "outputId": "3e46ca95-003a-4a17-8676-2c2c46f065ce"
   },
   "outputs": [
    {
     "data": {
      "text/html": [
       "<div>\n",
       "<style scoped>\n",
       "    .dataframe tbody tr th:only-of-type {\n",
       "        vertical-align: middle;\n",
       "    }\n",
       "\n",
       "    .dataframe tbody tr th {\n",
       "        vertical-align: top;\n",
       "    }\n",
       "\n",
       "    .dataframe thead th {\n",
       "        text-align: right;\n",
       "    }\n",
       "</style>\n",
       "<table border=\"1\" class=\"dataframe\">\n",
       "  <thead>\n",
       "    <tr style=\"text-align: right;\">\n",
       "      <th></th>\n",
       "      <th>Year</th>\n",
       "      <th>Player_Name</th>\n",
       "      <th>Matches_Batted</th>\n",
       "      <th>Not_Outs</th>\n",
       "      <th>Runs_Scored</th>\n",
       "      <th>Highest_Score</th>\n",
       "      <th>Balls_Faced</th>\n",
       "      <th>Batting_Strike_Rate</th>\n",
       "      <th>Centuries</th>\n",
       "      <th>Half_Centuries</th>\n",
       "      <th>...</th>\n",
       "      <th>Matches_Bowled</th>\n",
       "      <th>Balls_Bowled</th>\n",
       "      <th>Runs_Conceded</th>\n",
       "      <th>Wickets_Taken</th>\n",
       "      <th>Best_Bowling_Match</th>\n",
       "      <th>Bowling_Average</th>\n",
       "      <th>Economy_Rate</th>\n",
       "      <th>Bowling_Strike_Rate</th>\n",
       "      <th>Four_Wicket_Hauls</th>\n",
       "      <th>Five_Wicket_Hauls</th>\n",
       "    </tr>\n",
       "  </thead>\n",
       "  <tbody>\n",
       "  </tbody>\n",
       "</table>\n",
       "<p>0 rows × 24 columns</p>\n",
       "</div>"
      ],
      "text/plain": [
       "Empty DataFrame\n",
       "Columns: [Year, Player_Name, Matches_Batted, Not_Outs, Runs_Scored, Highest_Score, Balls_Faced, Batting_Strike_Rate, Centuries, Half_Centuries, Fours, Sixes, Catches_Taken, Stumpings, Matches_Bowled, Balls_Bowled, Runs_Conceded, Wickets_Taken, Best_Bowling_Match, Bowling_Average, Economy_Rate, Bowling_Strike_Rate, Four_Wicket_Hauls, Five_Wicket_Hauls]\n",
       "Index: []\n",
       "\n",
       "[0 rows x 24 columns]"
      ]
     },
     "execution_count": 43,
     "metadata": {},
     "output_type": "execute_result"
    }
   ],
   "source": [
    " df[(df['Highest_Score'] <= lower) | (df['Highest_Score'] >= upper)]"
   ]
  },
  {
   "cell_type": "markdown",
   "metadata": {},
   "source": [
    "# Observations:\n",
    "1. The output shows if any outliers remain after capping, confirming the effectiveness of the outlier treatment.\n",
    "2. Ideally, this result should be empty, indicating that all extreme values have been handled."
   ]
  },
  {
   "cell_type": "code",
   "execution_count": 44,
   "metadata": {
    "colab": {
     "base_uri": "https://localhost:8080/",
     "height": 450
    },
    "id": "DIDcqjZawtAy",
    "outputId": "c012403f-2906-453c-b9d6-ad4fff44e8cd"
   },
   "outputs": [
    {
     "data": {
      "image/png": "[encoded data removed]",
      "text/plain": [
       "<Figure size 640x480 with 1 Axes>"
      ]
     },
     "metadata": {},
     "output_type": "display_data"
    }
   ],
   "source": [
    "sns.boxplot(data=df, x='Highest_Score');"
   ]
  },
  {
   "cell_type": "markdown",
   "metadata": {},
   "source": [
    "# Observations:\n",
    "1. The boxplot for 'Highest_Score' after capping should show fewer or no outliers, indicating successful treatment.\n",
    "2. The central box and whiskers provide a visual summary of the cleaned data's spread and central tendency."
   ]
  },
  {
   "cell_type": "markdown",
   "metadata": {
    "id": "ojRQwE7IvNf2"
   },
   "source": [
    "# B. Z-Score Method"
   ]
  },
  {
   "cell_type": "code",
   "execution_count": 45,
   "metadata": {
    "colab": {
     "base_uri": "https://localhost:8080/",
     "height": 920
    },
    "id": "nMMeWYVlurw_",
    "outputId": "ab22611f-b211-41d2-e173-137c4a7c2bf7"
   },
   "outputs": [
    {
     "data": {
      "text/html": [
       "<div>\n",
       "<style scoped>\n",
       "    .dataframe tbody tr th:only-of-type {\n",
       "        vertical-align: middle;\n",
       "    }\n",
       "\n",
       "    .dataframe tbody tr th {\n",
       "        vertical-align: top;\n",
       "    }\n",
       "\n",
       "    .dataframe thead th {\n",
       "        text-align: right;\n",
       "    }\n",
       "</style>\n",
       "<table border=\"1\" class=\"dataframe\">\n",
       "  <thead>\n",
       "    <tr style=\"text-align: right;\">\n",
       "      <th></th>\n",
       "      <th>Year</th>\n",
       "      <th>Player_Name</th>\n",
       "      <th>Matches_Batted</th>\n",
       "      <th>Not_Outs</th>\n",
       "      <th>Runs_Scored</th>\n",
       "      <th>Highest_Score</th>\n",
       "      <th>Balls_Faced</th>\n",
       "      <th>Batting_Strike_Rate</th>\n",
       "      <th>Centuries</th>\n",
       "      <th>Half_Centuries</th>\n",
       "      <th>...</th>\n",
       "      <th>Balls_Bowled</th>\n",
       "      <th>Runs_Conceded</th>\n",
       "      <th>Wickets_Taken</th>\n",
       "      <th>Best_Bowling_Match</th>\n",
       "      <th>Bowling_Average</th>\n",
       "      <th>Economy_Rate</th>\n",
       "      <th>Bowling_Strike_Rate</th>\n",
       "      <th>Four_Wicket_Hauls</th>\n",
       "      <th>Five_Wicket_Hauls</th>\n",
       "      <th>zscore</th>\n",
       "    </tr>\n",
       "  </thead>\n",
       "  <tbody>\n",
       "    <tr>\n",
       "      <th>191</th>\n",
       "      <td>2020</td>\n",
       "      <td>Kuldeep Yadav</td>\n",
       "      <td>5</td>\n",
       "      <td>1</td>\n",
       "      <td>13.0</td>\n",
       "      <td>12.0</td>\n",
       "      <td>21</td>\n",
       "      <td>61.90</td>\n",
       "      <td>0</td>\n",
       "      <td>0</td>\n",
       "      <td>...</td>\n",
       "      <td>72</td>\n",
       "      <td>92</td>\n",
       "      <td>1.0</td>\n",
       "      <td>1/20</td>\n",
       "      <td>92.00</td>\n",
       "      <td>7.66</td>\n",
       "      <td>72</td>\n",
       "      <td>0</td>\n",
       "      <td>0</td>\n",
       "      <td>3.085753</td>\n",
       "    </tr>\n",
       "    <tr>\n",
       "      <th>212</th>\n",
       "      <td>2021</td>\n",
       "      <td>Ishant Sharma</td>\n",
       "      <td>0</td>\n",
       "      <td>0</td>\n",
       "      <td>0.0</td>\n",
       "      <td>0.0</td>\n",
       "      <td>0</td>\n",
       "      <td>0.00</td>\n",
       "      <td>0</td>\n",
       "      <td>0</td>\n",
       "      <td>...</td>\n",
       "      <td>72</td>\n",
       "      <td>97</td>\n",
       "      <td>1.0</td>\n",
       "      <td>1/26</td>\n",
       "      <td>97.00</td>\n",
       "      <td>8.08</td>\n",
       "      <td>72.00</td>\n",
       "      <td>0</td>\n",
       "      <td>0</td>\n",
       "      <td>3.295875</td>\n",
       "    </tr>\n",
       "    <tr>\n",
       "      <th>215</th>\n",
       "      <td>2015</td>\n",
       "      <td>Ishant Sharma</td>\n",
       "      <td>0</td>\n",
       "      <td>0</td>\n",
       "      <td>0.0</td>\n",
       "      <td>0.0</td>\n",
       "      <td>0</td>\n",
       "      <td>0.00</td>\n",
       "      <td>0</td>\n",
       "      <td>0</td>\n",
       "      <td>...</td>\n",
       "      <td>84</td>\n",
       "      <td>159</td>\n",
       "      <td>1.0</td>\n",
       "      <td>1/25</td>\n",
       "      <td>159.00</td>\n",
       "      <td>11.35</td>\n",
       "      <td>84.00</td>\n",
       "      <td>0</td>\n",
       "      <td>0</td>\n",
       "      <td>5.901392</td>\n",
       "    </tr>\n",
       "    <tr>\n",
       "      <th>317</th>\n",
       "      <td>2023</td>\n",
       "      <td>Kartik Tyagi</td>\n",
       "      <td>3</td>\n",
       "      <td>0</td>\n",
       "      <td>0.0</td>\n",
       "      <td>0.0</td>\n",
       "      <td>0</td>\n",
       "      <td>0.00</td>\n",
       "      <td>0</td>\n",
       "      <td>0</td>\n",
       "      <td>...</td>\n",
       "      <td>37</td>\n",
       "      <td>92</td>\n",
       "      <td>1.0</td>\n",
       "      <td>1/30</td>\n",
       "      <td>92.00</td>\n",
       "      <td>14.92</td>\n",
       "      <td>37</td>\n",
       "      <td>0</td>\n",
       "      <td>0</td>\n",
       "      <td>3.085753</td>\n",
       "    </tr>\n",
       "    <tr>\n",
       "      <th>327</th>\n",
       "      <td>2023</td>\n",
       "      <td>Umesh Yadav</td>\n",
       "      <td>8</td>\n",
       "      <td>3</td>\n",
       "      <td>19.0</td>\n",
       "      <td>6.0</td>\n",
       "      <td>18</td>\n",
       "      <td>105.56</td>\n",
       "      <td>0</td>\n",
       "      <td>0</td>\n",
       "      <td>...</td>\n",
       "      <td>114</td>\n",
       "      <td>189</td>\n",
       "      <td>1.0</td>\n",
       "      <td>1/27</td>\n",
       "      <td>189.00</td>\n",
       "      <td>9.95</td>\n",
       "      <td>114.00</td>\n",
       "      <td>0</td>\n",
       "      <td>0</td>\n",
       "      <td>7.162125</td>\n",
       "    </tr>\n",
       "    <tr>\n",
       "      <th>424</th>\n",
       "      <td>2012</td>\n",
       "      <td>Andre Russell</td>\n",
       "      <td>4</td>\n",
       "      <td>0</td>\n",
       "      <td>47.0</td>\n",
       "      <td>31.0</td>\n",
       "      <td>26</td>\n",
       "      <td>180.76</td>\n",
       "      <td>0</td>\n",
       "      <td>0</td>\n",
       "      <td>...</td>\n",
       "      <td>96</td>\n",
       "      <td>161</td>\n",
       "      <td>1.0</td>\n",
       "      <td>1/51</td>\n",
       "      <td>161.00</td>\n",
       "      <td>10.06</td>\n",
       "      <td>96.00</td>\n",
       "      <td>0</td>\n",
       "      <td>0</td>\n",
       "      <td>5.985441</td>\n",
       "    </tr>\n",
       "    <tr>\n",
       "      <th>514</th>\n",
       "      <td>2015</td>\n",
       "      <td>Deepak Hooda</td>\n",
       "      <td>14</td>\n",
       "      <td>0</td>\n",
       "      <td>151.0</td>\n",
       "      <td>54.0</td>\n",
       "      <td>95</td>\n",
       "      <td>158.94</td>\n",
       "      <td>0</td>\n",
       "      <td>1</td>\n",
       "      <td>...</td>\n",
       "      <td>91</td>\n",
       "      <td>129</td>\n",
       "      <td>1.0</td>\n",
       "      <td>1/35</td>\n",
       "      <td>129.00</td>\n",
       "      <td>8.50</td>\n",
       "      <td>91.00</td>\n",
       "      <td>0</td>\n",
       "      <td>0</td>\n",
       "      <td>4.640658</td>\n",
       "    </tr>\n",
       "    <tr>\n",
       "      <th>518</th>\n",
       "      <td>2019</td>\n",
       "      <td>Krishnappa Gowtham</td>\n",
       "      <td>7</td>\n",
       "      <td>1</td>\n",
       "      <td>18.0</td>\n",
       "      <td>9.0</td>\n",
       "      <td>19</td>\n",
       "      <td>94.73</td>\n",
       "      <td>0</td>\n",
       "      <td>0</td>\n",
       "      <td>...</td>\n",
       "      <td>120</td>\n",
       "      <td>166</td>\n",
       "      <td>1.0</td>\n",
       "      <td>1/32</td>\n",
       "      <td>166.00</td>\n",
       "      <td>8.3</td>\n",
       "      <td>120</td>\n",
       "      <td>0</td>\n",
       "      <td>0</td>\n",
       "      <td>6.195563</td>\n",
       "    </tr>\n",
       "    <tr>\n",
       "      <th>638</th>\n",
       "      <td>2015</td>\n",
       "      <td>Hardik Pandya</td>\n",
       "      <td>9</td>\n",
       "      <td>3</td>\n",
       "      <td>112.0</td>\n",
       "      <td>61.0</td>\n",
       "      <td>62</td>\n",
       "      <td>180.64</td>\n",
       "      <td>0</td>\n",
       "      <td>1</td>\n",
       "      <td>...</td>\n",
       "      <td>102</td>\n",
       "      <td>176</td>\n",
       "      <td>1.0</td>\n",
       "      <td>1/13</td>\n",
       "      <td>176.00</td>\n",
       "      <td>10.35</td>\n",
       "      <td>102.00</td>\n",
       "      <td>0</td>\n",
       "      <td>0</td>\n",
       "      <td>6.615807</td>\n",
       "    </tr>\n",
       "    <tr>\n",
       "      <th>749</th>\n",
       "      <td>2015</td>\n",
       "      <td>Rishi Dhawan</td>\n",
       "      <td>5</td>\n",
       "      <td>3</td>\n",
       "      <td>36.0</td>\n",
       "      <td>25.0</td>\n",
       "      <td>33</td>\n",
       "      <td>109.09</td>\n",
       "      <td>0</td>\n",
       "      <td>0</td>\n",
       "      <td>...</td>\n",
       "      <td>72</td>\n",
       "      <td>110</td>\n",
       "      <td>1.0</td>\n",
       "      <td>1/12</td>\n",
       "      <td>110.00</td>\n",
       "      <td>9.16</td>\n",
       "      <td>72</td>\n",
       "      <td>0</td>\n",
       "      <td>0</td>\n",
       "      <td>3.842193</td>\n",
       "    </tr>\n",
       "    <tr>\n",
       "      <th>781</th>\n",
       "      <td>2021</td>\n",
       "      <td>Nathan Ellis</td>\n",
       "      <td>3</td>\n",
       "      <td>1</td>\n",
       "      <td>18.0</td>\n",
       "      <td>12.0</td>\n",
       "      <td>16</td>\n",
       "      <td>112.50</td>\n",
       "      <td>0</td>\n",
       "      <td>0</td>\n",
       "      <td>...</td>\n",
       "      <td>72</td>\n",
       "      <td>98</td>\n",
       "      <td>1.0</td>\n",
       "      <td>1/12</td>\n",
       "      <td>98.00</td>\n",
       "      <td>8.16</td>\n",
       "      <td>72</td>\n",
       "      <td>0</td>\n",
       "      <td>0</td>\n",
       "      <td>3.337900</td>\n",
       "    </tr>\n",
       "    <tr>\n",
       "      <th>798</th>\n",
       "      <td>2016</td>\n",
       "      <td>Harshal Patel</td>\n",
       "      <td>5</td>\n",
       "      <td>1</td>\n",
       "      <td>0.0</td>\n",
       "      <td>0.0</td>\n",
       "      <td>0</td>\n",
       "      <td>0.00</td>\n",
       "      <td>0</td>\n",
       "      <td>0</td>\n",
       "      <td>...</td>\n",
       "      <td>84</td>\n",
       "      <td>147</td>\n",
       "      <td>1.0</td>\n",
       "      <td>1/46</td>\n",
       "      <td>147.00</td>\n",
       "      <td>10.5</td>\n",
       "      <td>84</td>\n",
       "      <td>0</td>\n",
       "      <td>0</td>\n",
       "      <td>5.397098</td>\n",
       "    </tr>\n",
       "    <tr>\n",
       "      <th>883</th>\n",
       "      <td>2019</td>\n",
       "      <td>Prasidh Krishna</td>\n",
       "      <td>11</td>\n",
       "      <td>0</td>\n",
       "      <td>0.0</td>\n",
       "      <td>0.0</td>\n",
       "      <td>2</td>\n",
       "      <td>0.00</td>\n",
       "      <td>0</td>\n",
       "      <td>0</td>\n",
       "      <td>...</td>\n",
       "      <td>242</td>\n",
       "      <td>377</td>\n",
       "      <td>4.0</td>\n",
       "      <td>1/22</td>\n",
       "      <td>94.25</td>\n",
       "      <td>9.34</td>\n",
       "      <td>60.5</td>\n",
       "      <td>0</td>\n",
       "      <td>0</td>\n",
       "      <td>3.180308</td>\n",
       "    </tr>\n",
       "    <tr>\n",
       "      <th>989</th>\n",
       "      <td>2014</td>\n",
       "      <td>Glenn Maxwell</td>\n",
       "      <td>16</td>\n",
       "      <td>0</td>\n",
       "      <td>552.0</td>\n",
       "      <td>95.0</td>\n",
       "      <td>294</td>\n",
       "      <td>187.75</td>\n",
       "      <td>0</td>\n",
       "      <td>4</td>\n",
       "      <td>...</td>\n",
       "      <td>66</td>\n",
       "      <td>132</td>\n",
       "      <td>1.0</td>\n",
       "      <td>1/21</td>\n",
       "      <td>132.00</td>\n",
       "      <td>12</td>\n",
       "      <td>66.00</td>\n",
       "      <td>0</td>\n",
       "      <td>0</td>\n",
       "      <td>4.766731</td>\n",
       "    </tr>\n",
       "    <tr>\n",
       "      <th>1022</th>\n",
       "      <td>2023</td>\n",
       "      <td>Lockie Ferguson</td>\n",
       "      <td>3</td>\n",
       "      <td>0</td>\n",
       "      <td>0.0</td>\n",
       "      <td>0.0</td>\n",
       "      <td>0</td>\n",
       "      <td>0.00</td>\n",
       "      <td>0</td>\n",
       "      <td>0</td>\n",
       "      <td>...</td>\n",
       "      <td>46</td>\n",
       "      <td>96</td>\n",
       "      <td>1.0</td>\n",
       "      <td>1/19</td>\n",
       "      <td>96.00</td>\n",
       "      <td>12.52</td>\n",
       "      <td>46</td>\n",
       "      <td>0</td>\n",
       "      <td>0</td>\n",
       "      <td>3.253851</td>\n",
       "    </tr>\n",
       "    <tr>\n",
       "      <th>1026</th>\n",
       "      <td>2019</td>\n",
       "      <td>Lockie Ferguson</td>\n",
       "      <td>5</td>\n",
       "      <td>0</td>\n",
       "      <td>0.0</td>\n",
       "      <td>0.0</td>\n",
       "      <td>0</td>\n",
       "      <td>0.00</td>\n",
       "      <td>0</td>\n",
       "      <td>0</td>\n",
       "      <td>...</td>\n",
       "      <td>102</td>\n",
       "      <td>183</td>\n",
       "      <td>2.0</td>\n",
       "      <td>1/38</td>\n",
       "      <td>91.50</td>\n",
       "      <td>10.76</td>\n",
       "      <td>51</td>\n",
       "      <td>0</td>\n",
       "      <td>0</td>\n",
       "      <td>3.064741</td>\n",
       "    </tr>\n",
       "    <tr>\n",
       "      <th>1050</th>\n",
       "      <td>2020</td>\n",
       "      <td>Abdul Samad</td>\n",
       "      <td>12</td>\n",
       "      <td>3</td>\n",
       "      <td>111.0</td>\n",
       "      <td>33.0</td>\n",
       "      <td>65</td>\n",
       "      <td>170.76</td>\n",
       "      <td>0</td>\n",
       "      <td>0</td>\n",
       "      <td>...</td>\n",
       "      <td>42</td>\n",
       "      <td>96</td>\n",
       "      <td>1.0</td>\n",
       "      <td>1/41</td>\n",
       "      <td>96.00</td>\n",
       "      <td>13.71</td>\n",
       "      <td>42.00</td>\n",
       "      <td>0</td>\n",
       "      <td>0</td>\n",
       "      <td>3.253851</td>\n",
       "    </tr>\n",
       "    <tr>\n",
       "      <th>1117</th>\n",
       "      <td>2015</td>\n",
       "      <td>Pat Cummins</td>\n",
       "      <td>3</td>\n",
       "      <td>0</td>\n",
       "      <td>0.0</td>\n",
       "      <td>0.0</td>\n",
       "      <td>2</td>\n",
       "      <td>0.00</td>\n",
       "      <td>0</td>\n",
       "      <td>0</td>\n",
       "      <td>...</td>\n",
       "      <td>60</td>\n",
       "      <td>97</td>\n",
       "      <td>1.0</td>\n",
       "      <td>1/54</td>\n",
       "      <td>97.00</td>\n",
       "      <td>9.7</td>\n",
       "      <td>60</td>\n",
       "      <td>0</td>\n",
       "      <td>0</td>\n",
       "      <td>3.295875</td>\n",
       "    </tr>\n",
       "    <tr>\n",
       "      <th>1122</th>\n",
       "      <td>2023</td>\n",
       "      <td>Shahbaz Ahamad</td>\n",
       "      <td>10</td>\n",
       "      <td>2</td>\n",
       "      <td>42.0</td>\n",
       "      <td>20.0</td>\n",
       "      <td>39</td>\n",
       "      <td>107.69</td>\n",
       "      <td>0</td>\n",
       "      <td>0</td>\n",
       "      <td>...</td>\n",
       "      <td>42</td>\n",
       "      <td>95</td>\n",
       "      <td>1.0</td>\n",
       "      <td>1/38</td>\n",
       "      <td>95.00</td>\n",
       "      <td>13.57</td>\n",
       "      <td>42.00</td>\n",
       "      <td>0</td>\n",
       "      <td>0</td>\n",
       "      <td>3.211826</td>\n",
       "    </tr>\n",
       "  </tbody>\n",
       "</table>\n",
       "<p>19 rows × 25 columns</p>\n",
       "</div>"
      ],
      "text/plain": [
       "      Year         Player_Name  Matches_Batted  Not_Outs  Runs_Scored  \\\n",
       "191   2020       Kuldeep Yadav               5         1         13.0   \n",
       "212   2021       Ishant Sharma               0         0          0.0   \n",
       "215   2015       Ishant Sharma               0         0          0.0   \n",
       "317   2023        Kartik Tyagi               3         0          0.0   \n",
       "327   2023         Umesh Yadav               8         3         19.0   \n",
       "424   2012       Andre Russell               4         0         47.0   \n",
       "514   2015        Deepak Hooda              14         0        151.0   \n",
       "518   2019  Krishnappa Gowtham               7         1         18.0   \n",
       "638   2015       Hardik Pandya               9         3        112.0   \n",
       "749   2015        Rishi Dhawan               5         3         36.0   \n",
       "781   2021        Nathan Ellis               3         1         18.0   \n",
       "798   2016       Harshal Patel               5         1          0.0   \n",
       "883   2019     Prasidh Krishna              11         0          0.0   \n",
       "989   2014       Glenn Maxwell              16         0        552.0   \n",
       "1022  2023     Lockie Ferguson               3         0          0.0   \n",
       "1026  2019     Lockie Ferguson               5         0          0.0   \n",
       "1050  2020         Abdul Samad              12         3        111.0   \n",
       "1117  2015         Pat Cummins               3         0          0.0   \n",
       "1122  2023      Shahbaz Ahamad              10         2         42.0   \n",
       "\n",
       "      Highest_Score  Balls_Faced  Batting_Strike_Rate Centuries  \\\n",
       "191            12.0           21                61.90         0   \n",
       "212             0.0            0                 0.00         0   \n",
       "215             0.0            0                 0.00         0   \n",
       "317             0.0            0                 0.00         0   \n",
       "327             6.0           18               105.56         0   \n",
       "424            31.0           26               180.76         0   \n",
       "514            54.0           95               158.94         0   \n",
       "518             9.0           19                94.73         0   \n",
       "638            61.0           62               180.64         0   \n",
       "749            25.0           33               109.09         0   \n",
       "781            12.0           16               112.50         0   \n",
       "798             0.0            0                 0.00         0   \n",
       "883             0.0            2                 0.00         0   \n",
       "989            95.0          294               187.75         0   \n",
       "1022            0.0            0                 0.00         0   \n",
       "1026            0.0            0                 0.00         0   \n",
       "1050           33.0           65               170.76         0   \n",
       "1117            0.0            2                 0.00         0   \n",
       "1122           20.0           39               107.69         0   \n",
       "\n",
       "     Half_Centuries  ... Balls_Bowled Runs_Conceded Wickets_Taken  \\\n",
       "191               0  ...           72            92           1.0   \n",
       "212               0  ...           72            97           1.0   \n",
       "215               0  ...           84           159           1.0   \n",
       "317               0  ...           37            92           1.0   \n",
       "327               0  ...          114           189           1.0   \n",
       "424               0  ...           96           161           1.0   \n",
       "514               1  ...           91           129           1.0   \n",
       "518               0  ...          120           166           1.0   \n",
       "638               1  ...          102           176           1.0   \n",
       "749               0  ...           72           110           1.0   \n",
       "781               0  ...           72            98           1.0   \n",
       "798               0  ...           84           147           1.0   \n",
       "883               0  ...          242           377           4.0   \n",
       "989               4  ...           66           132           1.0   \n",
       "1022              0  ...           46            96           1.0   \n",
       "1026              0  ...          102           183           2.0   \n",
       "1050              0  ...           42            96           1.0   \n",
       "1117              0  ...           60            97           1.0   \n",
       "1122              0  ...           42            95           1.0   \n",
       "\n",
       "     Best_Bowling_Match Bowling_Average Economy_Rate Bowling_Strike_Rate  \\\n",
       "191                1/20           92.00         7.66                  72   \n",
       "212                1/26           97.00         8.08               72.00   \n",
       "215                1/25          159.00        11.35               84.00   \n",
       "317                1/30           92.00        14.92                  37   \n",
       "327                1/27          189.00         9.95              114.00   \n",
       "424                1/51          161.00        10.06               96.00   \n",
       "514                1/35          129.00         8.50               91.00   \n",
       "518                1/32          166.00          8.3                 120   \n",
       "638                1/13          176.00        10.35              102.00   \n",
       "749                1/12          110.00         9.16                  72   \n",
       "781                1/12           98.00         8.16                  72   \n",
       "798                1/46          147.00         10.5                  84   \n",
       "883                1/22           94.25         9.34                60.5   \n",
       "989                1/21          132.00           12               66.00   \n",
       "1022               1/19           96.00        12.52                  46   \n",
       "1026               1/38           91.50        10.76                  51   \n",
       "1050               1/41           96.00        13.71               42.00   \n",
       "1117               1/54           97.00          9.7                  60   \n",
       "1122               1/38           95.00        13.57               42.00   \n",
       "\n",
       "      Four_Wicket_Hauls Five_Wicket_Hauls    zscore  \n",
       "191                   0                 0  3.085753  \n",
       "212                   0                 0  3.295875  \n",
       "215                   0                 0  5.901392  \n",
       "317                   0                 0  3.085753  \n",
       "327                   0                 0  7.162125  \n",
       "424                   0                 0  5.985441  \n",
       "514                   0                 0  4.640658  \n",
       "518                   0                 0  6.195563  \n",
       "638                   0                 0  6.615807  \n",
       "749                   0                 0  3.842193  \n",
       "781                   0                 0  3.337900  \n",
       "798                   0                 0  5.397098  \n",
       "883                   0                 0  3.180308  \n",
       "989                   0                 0  4.766731  \n",
       "1022                  0                 0  3.253851  \n",
       "1026                  0                 0  3.064741  \n",
       "1050                  0                 0  3.253851  \n",
       "1117                  0                 0  3.295875  \n",
       "1122                  0                 0  3.211826  \n",
       "\n",
       "[19 rows x 25 columns]"
      ]
     },
     "execution_count": 45,
     "metadata": {},
     "output_type": "execute_result"
    }
   ],
   "source": [
    "# B. Z-Score Method\n",
    "from scipy.stats import zscore\n",
    "df['zscore'] = zscore(df['Bowling_Average'])\n",
    "df[df['zscore'].abs() > 3]"
   ]
  },
  {
   "cell_type": "markdown",
   "metadata": {},
   "source": [
    "# Observations:\n",
    "1. The z-score calculation identifies rows where 'Bowling_Average' is more than 3 standard deviations from the mean, flagging them as outliers.\n",
    "2. This method complements the IQR approach and is especially useful for normally distributed data."
   ]
  },
  {
   "cell_type": "code",
   "execution_count": 46,
   "metadata": {
    "colab": {
     "base_uri": "https://localhost:8080/",
     "height": 335
    },
    "id": "dDWT4Rkfu2De",
    "outputId": "4d1ced66-a889-44d2-d49d-8435ad834b77"
   },
   "outputs": [
    {
     "data": {
      "text/plain": [
       "count    1130.000000\n",
       "mean       18.572442\n",
       "std        23.806204\n",
       "min         0.000000\n",
       "25%         0.000000\n",
       "50%        15.340000\n",
       "75%        29.382500\n",
       "max       189.000000\n",
       "Name: Bowling_Average, dtype: float64"
      ]
     },
     "execution_count": 46,
     "metadata": {},
     "output_type": "execute_result"
    }
   ],
   "source": [
    "df['Bowling_Average'].describe()"
   ]
  },
  {
   "cell_type": "markdown",
   "metadata": {},
   "source": [
    "# Observations:\n",
    "1. The describe() output for 'Bowling_Average' provides insight into its distribution, including mean, median, and spread.\n",
    "2. This summary helps assess the impact of outlier treatment and the suitability of the variable for modeling."
   ]
  },
  {
   "cell_type": "code",
   "execution_count": 47,
   "metadata": {
    "colab": {
     "base_uri": "https://localhost:8080/",
     "height": 467
    },
    "id": "cFG58pA2vW-8",
    "outputId": "2277a99f-89ee-4263-e20d-545d62b28ab6"
   },
   "outputs": [
    {
     "data": {
      "text/plain": [
       "<Axes: xlabel='Bowling_Average', ylabel='Count'>"
      ]
     },
     "execution_count": 47,
     "metadata": {},
     "output_type": "execute_result"
    },
    {
     "data": {
      "image/png": "[encoded data removed]",
      "text/plain": [
       "<Figure size 640x480 with 1 Axes>"
      ]
     },
     "metadata": {},
     "output_type": "display_data"
    }
   ],
   "source": [
    "sns.histplot(data=df, x='Bowling_Average')\n",
    "#plt.xticks(np.arange(58,680000,1000));"
   ]
  },
  {
   "cell_type": "markdown",
   "metadata": {},
   "source": [
    "# Observations:\n",
    "1. The histogram shows the distribution of 'Bowling_Average', highlighting common and rare values.\n",
    "2. Skewness or multiple peaks in the plot may indicate the need for transformation or further cleaning."
   ]
  },
  {
   "cell_type": "code",
   "execution_count": 48,
   "metadata": {
    "id": "wKNZOqjqvdS6"
   },
   "outputs": [],
   "source": [
    "df['Bowling_Average'] =np.where(df['zscore'].abs()>3,df['Bowling_Average'].median(),df['Bowling_Average'])"
   ]
  },
  {
   "cell_type": "code",
   "execution_count": 49,
   "metadata": {
    "colab": {
     "base_uri": "https://localhost:8080/",
     "height": 450
    },
    "id": "7T2q7bkLwEIy",
    "outputId": "03812339-66fe-4ccd-fabb-67b51c9e04ad"
   },
   "outputs": [
    {
     "data": {
      "image/png": "[encoded data removed]",
      "text/plain": [
       "<Figure size 640x480 with 1 Axes>"
      ]
     },
     "metadata": {},
     "output_type": "display_data"
    }
   ],
   "source": [
    "sns.boxplot(data=df, x='Bowling_Average');"
   ]
  },
  {
   "cell_type": "markdown",
   "metadata": {},
   "source": [
    "# Observations:\n",
    "1. The boxplot for 'Bowling_Average' after z-score treatment should show a reduction in outliers, indicating successful cleaning.\n",
    "2. The plot provides a visual summary of the variable's spread and central tendency post-cleaning."
   ]
  },
  {
   "cell_type": "code",
   "execution_count": 50,
   "metadata": {
    "colab": {
     "base_uri": "https://localhost:8080/",
     "height": 645
    },
    "id": "1iip4GHVwKN5",
    "outputId": "c6ce2270-769c-46a6-a6a6-7775c87956bd"
   },
   "outputs": [
    {
     "data": {
      "text/html": [
       "<div>\n",
       "<style scoped>\n",
       "    .dataframe tbody tr th:only-of-type {\n",
       "        vertical-align: middle;\n",
       "    }\n",
       "\n",
       "    .dataframe tbody tr th {\n",
       "        vertical-align: top;\n",
       "    }\n",
       "\n",
       "    .dataframe thead th {\n",
       "        text-align: right;\n",
       "    }\n",
       "</style>\n",
       "<table border=\"1\" class=\"dataframe\">\n",
       "  <thead>\n",
       "    <tr style=\"text-align: right;\">\n",
       "      <th></th>\n",
       "      <th>Year</th>\n",
       "      <th>Player_Name</th>\n",
       "      <th>Matches_Batted</th>\n",
       "      <th>Not_Outs</th>\n",
       "      <th>Runs_Scored</th>\n",
       "      <th>Highest_Score</th>\n",
       "      <th>Balls_Faced</th>\n",
       "      <th>Batting_Strike_Rate</th>\n",
       "      <th>Centuries</th>\n",
       "      <th>Half_Centuries</th>\n",
       "      <th>...</th>\n",
       "      <th>Balls_Bowled</th>\n",
       "      <th>Runs_Conceded</th>\n",
       "      <th>Wickets_Taken</th>\n",
       "      <th>Best_Bowling_Match</th>\n",
       "      <th>Bowling_Average</th>\n",
       "      <th>Economy_Rate</th>\n",
       "      <th>Bowling_Strike_Rate</th>\n",
       "      <th>Four_Wicket_Hauls</th>\n",
       "      <th>Five_Wicket_Hauls</th>\n",
       "      <th>zscore</th>\n",
       "    </tr>\n",
       "  </thead>\n",
       "  <tbody>\n",
       "    <tr>\n",
       "      <th>341</th>\n",
       "      <td>2023</td>\n",
       "      <td>Rashid Khan</td>\n",
       "      <td>17</td>\n",
       "      <td>5</td>\n",
       "      <td>130.0</td>\n",
       "      <td>79.0</td>\n",
       "      <td>60</td>\n",
       "      <td>216.67</td>\n",
       "      <td>0</td>\n",
       "      <td>1</td>\n",
       "      <td>...</td>\n",
       "      <td>402</td>\n",
       "      <td>552</td>\n",
       "      <td>27.0</td>\n",
       "      <td>4/30</td>\n",
       "      <td>20.44</td>\n",
       "      <td>8.24</td>\n",
       "      <td>14.89</td>\n",
       "      <td>1</td>\n",
       "      <td>0</td>\n",
       "      <td>3.543881</td>\n",
       "    </tr>\n",
       "    <tr>\n",
       "      <th>350</th>\n",
       "      <td>2023</td>\n",
       "      <td>Mohit Sharma</td>\n",
       "      <td>14</td>\n",
       "      <td>1</td>\n",
       "      <td>0.0</td>\n",
       "      <td>0.0</td>\n",
       "      <td>1</td>\n",
       "      <td>0.00</td>\n",
       "      <td>0</td>\n",
       "      <td>0</td>\n",
       "      <td>...</td>\n",
       "      <td>265</td>\n",
       "      <td>361</td>\n",
       "      <td>27.0</td>\n",
       "      <td>5/10</td>\n",
       "      <td>13.37</td>\n",
       "      <td>8.17</td>\n",
       "      <td>9.81</td>\n",
       "      <td>2</td>\n",
       "      <td>1</td>\n",
       "      <td>3.543881</td>\n",
       "    </tr>\n",
       "    <tr>\n",
       "      <th>452</th>\n",
       "      <td>2012</td>\n",
       "      <td>Sunil Narine</td>\n",
       "      <td>15</td>\n",
       "      <td>1</td>\n",
       "      <td>9.0</td>\n",
       "      <td>9.0</td>\n",
       "      <td>7</td>\n",
       "      <td>128.57</td>\n",
       "      <td>0</td>\n",
       "      <td>0</td>\n",
       "      <td>...</td>\n",
       "      <td>355</td>\n",
       "      <td>324</td>\n",
       "      <td>24.0</td>\n",
       "      <td>5/19</td>\n",
       "      <td>13.50</td>\n",
       "      <td>5.47</td>\n",
       "      <td>14.79</td>\n",
       "      <td>1</td>\n",
       "      <td>1</td>\n",
       "      <td>3.072217</td>\n",
       "    </tr>\n",
       "    <tr>\n",
       "      <th>656</th>\n",
       "      <td>2020</td>\n",
       "      <td>Jasprit Bumrah</td>\n",
       "      <td>15</td>\n",
       "      <td>1</td>\n",
       "      <td>5.0</td>\n",
       "      <td>5.0</td>\n",
       "      <td>3</td>\n",
       "      <td>166.66</td>\n",
       "      <td>0</td>\n",
       "      <td>0</td>\n",
       "      <td>...</td>\n",
       "      <td>360</td>\n",
       "      <td>404</td>\n",
       "      <td>27.0</td>\n",
       "      <td>4/14</td>\n",
       "      <td>14.96</td>\n",
       "      <td>6.73</td>\n",
       "      <td>13.33</td>\n",
       "      <td>2</td>\n",
       "      <td>0</td>\n",
       "      <td>3.543881</td>\n",
       "    </tr>\n",
       "    <tr>\n",
       "      <th>776</th>\n",
       "      <td>2020</td>\n",
       "      <td>Kagiso Rabada</td>\n",
       "      <td>17</td>\n",
       "      <td>4</td>\n",
       "      <td>56.0</td>\n",
       "      <td>15.0</td>\n",
       "      <td>49</td>\n",
       "      <td>114.28</td>\n",
       "      <td>0</td>\n",
       "      <td>0</td>\n",
       "      <td>...</td>\n",
       "      <td>394</td>\n",
       "      <td>548</td>\n",
       "      <td>30.0</td>\n",
       "      <td>4/24</td>\n",
       "      <td>18.26</td>\n",
       "      <td>8.34</td>\n",
       "      <td>13.13</td>\n",
       "      <td>2</td>\n",
       "      <td>0</td>\n",
       "      <td>4.015546</td>\n",
       "    </tr>\n",
       "    <tr>\n",
       "      <th>777</th>\n",
       "      <td>2019</td>\n",
       "      <td>Kagiso Rabada</td>\n",
       "      <td>12</td>\n",
       "      <td>1</td>\n",
       "      <td>14.0</td>\n",
       "      <td>9.0</td>\n",
       "      <td>15</td>\n",
       "      <td>93.33</td>\n",
       "      <td>0</td>\n",
       "      <td>0</td>\n",
       "      <td>...</td>\n",
       "      <td>282</td>\n",
       "      <td>368</td>\n",
       "      <td>25.0</td>\n",
       "      <td>4/21</td>\n",
       "      <td>14.72</td>\n",
       "      <td>7.82</td>\n",
       "      <td>11.28</td>\n",
       "      <td>2</td>\n",
       "      <td>0</td>\n",
       "      <td>3.229439</td>\n",
       "    </tr>\n",
       "    <tr>\n",
       "      <th>793</th>\n",
       "      <td>2021</td>\n",
       "      <td>Harshal Patel</td>\n",
       "      <td>15</td>\n",
       "      <td>4</td>\n",
       "      <td>59.0</td>\n",
       "      <td>31.0</td>\n",
       "      <td>46</td>\n",
       "      <td>128.26</td>\n",
       "      <td>0</td>\n",
       "      <td>0</td>\n",
       "      <td>...</td>\n",
       "      <td>338</td>\n",
       "      <td>459</td>\n",
       "      <td>32.0</td>\n",
       "      <td>5/27</td>\n",
       "      <td>14.34</td>\n",
       "      <td>8.14</td>\n",
       "      <td>10.56</td>\n",
       "      <td>1</td>\n",
       "      <td>1</td>\n",
       "      <td>4.329988</td>\n",
       "    </tr>\n",
       "    <tr>\n",
       "      <th>868</th>\n",
       "      <td>2021</td>\n",
       "      <td>Avesh Khan</td>\n",
       "      <td>16</td>\n",
       "      <td>1</td>\n",
       "      <td>5.0</td>\n",
       "      <td>5.0</td>\n",
       "      <td>3</td>\n",
       "      <td>166.66</td>\n",
       "      <td>0</td>\n",
       "      <td>0</td>\n",
       "      <td>...</td>\n",
       "      <td>366</td>\n",
       "      <td>450</td>\n",
       "      <td>24.0</td>\n",
       "      <td>3/13</td>\n",
       "      <td>18.75</td>\n",
       "      <td>7.37</td>\n",
       "      <td>15.25</td>\n",
       "      <td>0</td>\n",
       "      <td>0</td>\n",
       "      <td>3.072217</td>\n",
       "    </tr>\n",
       "    <tr>\n",
       "      <th>901</th>\n",
       "      <td>2020</td>\n",
       "      <td>Trent Boult</td>\n",
       "      <td>15</td>\n",
       "      <td>0</td>\n",
       "      <td>0.0</td>\n",
       "      <td>0.0</td>\n",
       "      <td>1</td>\n",
       "      <td>0.00</td>\n",
       "      <td>0</td>\n",
       "      <td>0</td>\n",
       "      <td>...</td>\n",
       "      <td>344</td>\n",
       "      <td>457</td>\n",
       "      <td>25.0</td>\n",
       "      <td>4/18</td>\n",
       "      <td>18.28</td>\n",
       "      <td>7.97</td>\n",
       "      <td>13.76</td>\n",
       "      <td>1</td>\n",
       "      <td>0</td>\n",
       "      <td>3.229439</td>\n",
       "    </tr>\n",
       "    <tr>\n",
       "      <th>909</th>\n",
       "      <td>2022</td>\n",
       "      <td>Yuzvendra Chahal</td>\n",
       "      <td>17</td>\n",
       "      <td>1</td>\n",
       "      <td>5.0</td>\n",
       "      <td>5.0</td>\n",
       "      <td>8</td>\n",
       "      <td>62.50</td>\n",
       "      <td>0</td>\n",
       "      <td>0</td>\n",
       "      <td>...</td>\n",
       "      <td>408</td>\n",
       "      <td>527</td>\n",
       "      <td>27.0</td>\n",
       "      <td>5/40</td>\n",
       "      <td>19.52</td>\n",
       "      <td>7.75</td>\n",
       "      <td>15.11</td>\n",
       "      <td>1</td>\n",
       "      <td>1</td>\n",
       "      <td>3.543881</td>\n",
       "    </tr>\n",
       "    <tr>\n",
       "      <th>1110</th>\n",
       "      <td>2022</td>\n",
       "      <td>Wanindu Hasaranga</td>\n",
       "      <td>16</td>\n",
       "      <td>0</td>\n",
       "      <td>38.0</td>\n",
       "      <td>18.0</td>\n",
       "      <td>43</td>\n",
       "      <td>88.37</td>\n",
       "      <td>0</td>\n",
       "      <td>0</td>\n",
       "      <td>...</td>\n",
       "      <td>342</td>\n",
       "      <td>430</td>\n",
       "      <td>26.0</td>\n",
       "      <td>5/18</td>\n",
       "      <td>16.54</td>\n",
       "      <td>7.54</td>\n",
       "      <td>13.15</td>\n",
       "      <td>1</td>\n",
       "      <td>1</td>\n",
       "      <td>3.386660</td>\n",
       "    </tr>\n",
       "    <tr>\n",
       "      <th>1133</th>\n",
       "      <td>2017</td>\n",
       "      <td>Bhuvneshwar Kumar</td>\n",
       "      <td>14</td>\n",
       "      <td>1</td>\n",
       "      <td>4.0</td>\n",
       "      <td>4.0</td>\n",
       "      <td>4</td>\n",
       "      <td>100.00</td>\n",
       "      <td>0</td>\n",
       "      <td>0</td>\n",
       "      <td>...</td>\n",
       "      <td>314</td>\n",
       "      <td>369</td>\n",
       "      <td>26.0</td>\n",
       "      <td>5/19</td>\n",
       "      <td>14.19</td>\n",
       "      <td>7.05</td>\n",
       "      <td>12.07</td>\n",
       "      <td>0</td>\n",
       "      <td>1</td>\n",
       "      <td>3.386660</td>\n",
       "    </tr>\n",
       "    <tr>\n",
       "      <th>1148</th>\n",
       "      <td>2017</td>\n",
       "      <td>Jaydev Unadkat</td>\n",
       "      <td>12</td>\n",
       "      <td>2</td>\n",
       "      <td>2.0</td>\n",
       "      <td>2.0</td>\n",
       "      <td>5</td>\n",
       "      <td>40.00</td>\n",
       "      <td>0</td>\n",
       "      <td>0</td>\n",
       "      <td>...</td>\n",
       "      <td>275</td>\n",
       "      <td>322</td>\n",
       "      <td>24.0</td>\n",
       "      <td>5/30</td>\n",
       "      <td>13.41</td>\n",
       "      <td>7.02</td>\n",
       "      <td>11.45</td>\n",
       "      <td>0</td>\n",
       "      <td>1</td>\n",
       "      <td>3.072217</td>\n",
       "    </tr>\n",
       "  </tbody>\n",
       "</table>\n",
       "<p>13 rows × 25 columns</p>\n",
       "</div>"
      ],
      "text/plain": [
       "      Year        Player_Name  Matches_Batted  Not_Outs  Runs_Scored  \\\n",
       "341   2023        Rashid Khan              17         5        130.0   \n",
       "350   2023       Mohit Sharma              14         1          0.0   \n",
       "452   2012       Sunil Narine              15         1          9.0   \n",
       "656   2020     Jasprit Bumrah              15         1          5.0   \n",
       "776   2020      Kagiso Rabada              17         4         56.0   \n",
       "777   2019      Kagiso Rabada              12         1         14.0   \n",
       "793   2021      Harshal Patel              15         4         59.0   \n",
       "868   2021         Avesh Khan              16         1          5.0   \n",
       "901   2020        Trent Boult              15         0          0.0   \n",
       "909   2022   Yuzvendra Chahal              17         1          5.0   \n",
       "1110  2022  Wanindu Hasaranga              16         0         38.0   \n",
       "1133  2017  Bhuvneshwar Kumar              14         1          4.0   \n",
       "1148  2017     Jaydev Unadkat              12         2          2.0   \n",
       "\n",
       "      Highest_Score  Balls_Faced  Batting_Strike_Rate Centuries  \\\n",
       "341            79.0           60               216.67         0   \n",
       "350             0.0            1                 0.00         0   \n",
       "452             9.0            7               128.57         0   \n",
       "656             5.0            3               166.66         0   \n",
       "776            15.0           49               114.28         0   \n",
       "777             9.0           15                93.33         0   \n",
       "793            31.0           46               128.26         0   \n",
       "868             5.0            3               166.66         0   \n",
       "901             0.0            1                 0.00         0   \n",
       "909             5.0            8                62.50         0   \n",
       "1110           18.0           43                88.37         0   \n",
       "1133            4.0            4               100.00         0   \n",
       "1148            2.0            5                40.00         0   \n",
       "\n",
       "     Half_Centuries  ... Balls_Bowled Runs_Conceded Wickets_Taken  \\\n",
       "341               1  ...          402           552          27.0   \n",
       "350               0  ...          265           361          27.0   \n",
       "452               0  ...          355           324          24.0   \n",
       "656               0  ...          360           404          27.0   \n",
       "776               0  ...          394           548          30.0   \n",
       "777               0  ...          282           368          25.0   \n",
       "793               0  ...          338           459          32.0   \n",
       "868               0  ...          366           450          24.0   \n",
       "901               0  ...          344           457          25.0   \n",
       "909               0  ...          408           527          27.0   \n",
       "1110              0  ...          342           430          26.0   \n",
       "1133              0  ...          314           369          26.0   \n",
       "1148              0  ...          275           322          24.0   \n",
       "\n",
       "     Best_Bowling_Match Bowling_Average Economy_Rate Bowling_Strike_Rate  \\\n",
       "341                4/30           20.44         8.24               14.89   \n",
       "350                5/10           13.37         8.17                9.81   \n",
       "452                5/19           13.50         5.47               14.79   \n",
       "656                4/14           14.96         6.73               13.33   \n",
       "776                4/24           18.26         8.34               13.13   \n",
       "777                4/21           14.72         7.82               11.28   \n",
       "793                5/27           14.34         8.14               10.56   \n",
       "868                3/13           18.75         7.37               15.25   \n",
       "901                4/18           18.28         7.97               13.76   \n",
       "909                5/40           19.52         7.75               15.11   \n",
       "1110               5/18           16.54         7.54               13.15   \n",
       "1133               5/19           14.19         7.05               12.07   \n",
       "1148               5/30           13.41         7.02               11.45   \n",
       "\n",
       "      Four_Wicket_Hauls Five_Wicket_Hauls    zscore  \n",
       "341                   1                 0  3.543881  \n",
       "350                   2                 1  3.543881  \n",
       "452                   1                 1  3.072217  \n",
       "656                   2                 0  3.543881  \n",
       "776                   2                 0  4.015546  \n",
       "777                   2                 0  3.229439  \n",
       "793                   1                 1  4.329988  \n",
       "868                   0                 0  3.072217  \n",
       "901                   1                 0  3.229439  \n",
       "909                   1                 1  3.543881  \n",
       "1110                  1                 1  3.386660  \n",
       "1133                  0                 1  3.386660  \n",
       "1148                  0                 1  3.072217  \n",
       "\n",
       "[13 rows x 25 columns]"
      ]
     },
     "execution_count": 50,
     "metadata": {},
     "output_type": "execute_result"
    }
   ],
   "source": [
    "# Treating Outliers in Wickets_Taken\n",
    "from scipy.stats import zscore\n",
    "df['zscore'] = zscore(df['Wickets_Taken'])\n",
    "df[df['zscore'].abs() > 3]"
   ]
  },
  {
   "cell_type": "markdown",
   "metadata": {},
   "source": [
    "# Observations:\n",
    "1. The z-score calculation for 'Wickets_Taken' identifies extreme values, helping to flag potential outliers for this variable.\n",
    "2. This step is important for ensuring that the distribution of 'Wickets_Taken' is suitable for analysis and modeling."
   ]
  },
  {
   "cell_type": "code",
   "execution_count": 51,
   "metadata": {
    "colab": {
     "base_uri": "https://localhost:8080/",
     "height": 335
    },
    "id": "5kcLQbTx1RwM",
    "outputId": "73975318-f579-4956-ded3-e08e2b23f7e5"
   },
   "outputs": [
    {
     "data": {
      "text/plain": [
       "count    1130.000000\n",
       "mean        4.459292\n",
       "std         6.363274\n",
       "min         0.000000\n",
       "25%         0.000000\n",
       "50%         1.000000\n",
       "75%         8.000000\n",
       "max        32.000000\n",
       "Name: Wickets_Taken, dtype: float64"
      ]
     },
     "execution_count": 51,
     "metadata": {},
     "output_type": "execute_result"
    }
   ],
   "source": [
    "df['Wickets_Taken'].describe()"
   ]
  },
  {
   "cell_type": "markdown",
   "metadata": {},
   "source": [
    "# Observations:\n",
    "1. The describe() output for 'Wickets_Taken' provides key statistics, helping to assess the impact of outlier treatment.\n",
    "2. This summary is useful for understanding the central tendency and spread of the variable."
   ]
  },
  {
   "cell_type": "code",
   "execution_count": 52,
   "metadata": {
    "colab": {
     "base_uri": "https://localhost:8080/",
     "height": 467
    },
    "id": "kkKyacEy1jeH",
    "outputId": "d9ba08ac-e879-49c4-c7ce-1a0098b710eb"
   },
   "outputs": [
    {
     "data": {
      "text/plain": [
       "<Axes: xlabel='Wickets_Taken', ylabel='Count'>"
      ]
     },
     "execution_count": 52,
     "metadata": {},
     "output_type": "execute_result"
    },
    {
     "data": {
      "image/png": "[encoded data removed]",
      "text/plain": [
       "<Figure size 640x480 with 1 Axes>"
      ]
     },
     "metadata": {},
     "output_type": "display_data"
    }
   ],
   "source": [
    "sns.histplot(data=df, x='Wickets_Taken')\n",
    "#plt.xticks(np.arange(58,680000,1000));"
   ]
  },
  {
   "cell_type": "markdown",
   "metadata": {},
   "source": [
    "# Observations:\n",
    "1. The histogram for 'Wickets_Taken' shows the distribution of wickets among players, highlighting common and rare values.\n",
    "2. The plot can reveal skewness or outliers that may need further attention."
   ]
  },
  {
   "cell_type": "code",
   "execution_count": 53,
   "metadata": {
    "id": "F16dgvIX1rdn"
   },
   "outputs": [],
   "source": [
    "df['Wickets_Taken'] =np.where(df['zscore'].abs()>3,df['Wickets_Taken'].median(),df['Wickets_Taken'])"
   ]
  },
  {
   "cell_type": "code",
   "execution_count": 54,
   "metadata": {
    "colab": {
     "base_uri": "https://localhost:8080/",
     "height": 450
    },
    "id": "-8ftXESi1xTZ",
    "outputId": "912eda3e-6991-4a9a-eb78-6898388bcc6d"
   },
   "outputs": [
    {
     "data": {
      "image/png": "[encoded data removed]",
      "text/plain": [
       "<Figure size 640x480 with 1 Axes>"
      ]
     },
     "metadata": {},
     "output_type": "display_data"
    }
   ],
   "source": [
    "sns.boxplot(data=df, x='Wickets_Taken');"
   ]
  },
  {
   "cell_type": "markdown",
   "metadata": {},
   "source": [
    "# Observations:\n",
    "1. The boxplot for 'Wickets_Taken' after z-score treatment should show a reduction in outliers, indicating successful cleaning.\n",
    "2. The plot provides a visual summary of the variable's spread and central tendency post-cleaning."
   ]
  },
  {
   "cell_type": "markdown",
   "metadata": {
    "id": "rlwEVGXz2ehx"
   },
   "source": [
    "## 3.4 Encoding\n",
    "\n",
    "Encoding is the process of converting categorical variables (text labels or categories) into a numerical format, so they can be used in machine learning models (which require numerical input).\n",
    "\n",
    "Types of Categorical Variables\n",
    "* Nominal – No natural order. E.g., Gender, Color, Country\n",
    "* Ordinal – Has a meaningful order. E.g., Size (Small < Medium < Large), Rating (Low < Medium < High)"
   ]
  },
  {
   "cell_type": "code",
   "execution_count": 55,
   "metadata": {
    "colab": {
     "base_uri": "https://localhost:8080/",
     "height": 342
    },
    "id": "gkyAIuCI11Ww",
    "outputId": "25b1f5c4-ad68-47b9-9c1c-49eda2aecee2"
   },
   "outputs": [
    {
     "data": {
      "text/html": [
       "<div>\n",
       "<style scoped>\n",
       "    .dataframe tbody tr th:only-of-type {\n",
       "        vertical-align: middle;\n",
       "    }\n",
       "\n",
       "    .dataframe tbody tr th {\n",
       "        vertical-align: top;\n",
       "    }\n",
       "\n",
       "    .dataframe thead th {\n",
       "        text-align: right;\n",
       "    }\n",
       "</style>\n",
       "<table border=\"1\" class=\"dataframe\">\n",
       "  <thead>\n",
       "    <tr style=\"text-align: right;\">\n",
       "      <th></th>\n",
       "      <th>Year</th>\n",
       "      <th>Player_Name</th>\n",
       "      <th>Matches_Batted</th>\n",
       "      <th>Not_Outs</th>\n",
       "      <th>Runs_Scored</th>\n",
       "      <th>Highest_Score</th>\n",
       "      <th>Balls_Faced</th>\n",
       "      <th>Batting_Strike_Rate</th>\n",
       "      <th>Centuries</th>\n",
       "      <th>Half_Centuries</th>\n",
       "      <th>...</th>\n",
       "      <th>Balls_Bowled</th>\n",
       "      <th>Runs_Conceded</th>\n",
       "      <th>Wickets_Taken</th>\n",
       "      <th>Best_Bowling_Match</th>\n",
       "      <th>Bowling_Average</th>\n",
       "      <th>Economy_Rate</th>\n",
       "      <th>Bowling_Strike_Rate</th>\n",
       "      <th>Four_Wicket_Hauls</th>\n",
       "      <th>Five_Wicket_Hauls</th>\n",
       "      <th>zscore</th>\n",
       "    </tr>\n",
       "  </thead>\n",
       "  <tbody>\n",
       "    <tr>\n",
       "      <th>0</th>\n",
       "      <td>2024</td>\n",
       "      <td>Ruturaj Gaikwad</td>\n",
       "      <td>2</td>\n",
       "      <td>0</td>\n",
       "      <td>61.0</td>\n",
       "      <td>46.0</td>\n",
       "      <td>51</td>\n",
       "      <td>119.61</td>\n",
       "      <td>0</td>\n",
       "      <td>0</td>\n",
       "      <td>...</td>\n",
       "      <td>0</td>\n",
       "      <td>0</td>\n",
       "      <td>0.0</td>\n",
       "      <td>0</td>\n",
       "      <td>0.0</td>\n",
       "      <td>0</td>\n",
       "      <td>0</td>\n",
       "      <td>0</td>\n",
       "      <td>0</td>\n",
       "      <td>-0.701096</td>\n",
       "    </tr>\n",
       "    <tr>\n",
       "      <th>1</th>\n",
       "      <td>2023</td>\n",
       "      <td>Ruturaj Gaikwad</td>\n",
       "      <td>16</td>\n",
       "      <td>1</td>\n",
       "      <td>590.0</td>\n",
       "      <td>92.0</td>\n",
       "      <td>400</td>\n",
       "      <td>147.50</td>\n",
       "      <td>0</td>\n",
       "      <td>4</td>\n",
       "      <td>...</td>\n",
       "      <td>0</td>\n",
       "      <td>0</td>\n",
       "      <td>0.0</td>\n",
       "      <td>0</td>\n",
       "      <td>0.0</td>\n",
       "      <td>0</td>\n",
       "      <td>0</td>\n",
       "      <td>0</td>\n",
       "      <td>0</td>\n",
       "      <td>-0.701096</td>\n",
       "    </tr>\n",
       "    <tr>\n",
       "      <th>2</th>\n",
       "      <td>2022</td>\n",
       "      <td>Ruturaj Gaikwad</td>\n",
       "      <td>14</td>\n",
       "      <td>0</td>\n",
       "      <td>368.0</td>\n",
       "      <td>99.0</td>\n",
       "      <td>291</td>\n",
       "      <td>126.46</td>\n",
       "      <td>0</td>\n",
       "      <td>3</td>\n",
       "      <td>...</td>\n",
       "      <td>0</td>\n",
       "      <td>0</td>\n",
       "      <td>0.0</td>\n",
       "      <td>0</td>\n",
       "      <td>0.0</td>\n",
       "      <td>0</td>\n",
       "      <td>0</td>\n",
       "      <td>0</td>\n",
       "      <td>0</td>\n",
       "      <td>-0.701096</td>\n",
       "    </tr>\n",
       "    <tr>\n",
       "      <th>3</th>\n",
       "      <td>2021</td>\n",
       "      <td>Ruturaj Gaikwad</td>\n",
       "      <td>16</td>\n",
       "      <td>2</td>\n",
       "      <td>635.0</td>\n",
       "      <td>101.0</td>\n",
       "      <td>466</td>\n",
       "      <td>136.26</td>\n",
       "      <td>1</td>\n",
       "      <td>4</td>\n",
       "      <td>...</td>\n",
       "      <td>0</td>\n",
       "      <td>0</td>\n",
       "      <td>0.0</td>\n",
       "      <td>0</td>\n",
       "      <td>0.0</td>\n",
       "      <td>0</td>\n",
       "      <td>0</td>\n",
       "      <td>0</td>\n",
       "      <td>0</td>\n",
       "      <td>-0.701096</td>\n",
       "    </tr>\n",
       "    <tr>\n",
       "      <th>4</th>\n",
       "      <td>2020</td>\n",
       "      <td>Ruturaj Gaikwad</td>\n",
       "      <td>6</td>\n",
       "      <td>2</td>\n",
       "      <td>204.0</td>\n",
       "      <td>72.0</td>\n",
       "      <td>169</td>\n",
       "      <td>120.71</td>\n",
       "      <td>0</td>\n",
       "      <td>3</td>\n",
       "      <td>...</td>\n",
       "      <td>0</td>\n",
       "      <td>0</td>\n",
       "      <td>0.0</td>\n",
       "      <td>0</td>\n",
       "      <td>0.0</td>\n",
       "      <td>0</td>\n",
       "      <td>0</td>\n",
       "      <td>0</td>\n",
       "      <td>0</td>\n",
       "      <td>-0.701096</td>\n",
       "    </tr>\n",
       "  </tbody>\n",
       "</table>\n",
       "<p>5 rows × 25 columns</p>\n",
       "</div>"
      ],
      "text/plain": [
       "   Year      Player_Name  Matches_Batted  Not_Outs  Runs_Scored  \\\n",
       "0  2024  Ruturaj Gaikwad               2         0         61.0   \n",
       "1  2023  Ruturaj Gaikwad              16         1        590.0   \n",
       "2  2022  Ruturaj Gaikwad              14         0        368.0   \n",
       "3  2021  Ruturaj Gaikwad              16         2        635.0   \n",
       "4  2020  Ruturaj Gaikwad               6         2        204.0   \n",
       "\n",
       "   Highest_Score  Balls_Faced  Batting_Strike_Rate Centuries Half_Centuries  \\\n",
       "0           46.0           51               119.61         0              0   \n",
       "1           92.0          400               147.50         0              4   \n",
       "2           99.0          291               126.46         0              3   \n",
       "3          101.0          466               136.26         1              4   \n",
       "4           72.0          169               120.71         0              3   \n",
       "\n",
       "   ... Balls_Bowled Runs_Conceded Wickets_Taken Best_Bowling_Match  \\\n",
       "0  ...            0             0           0.0                  0   \n",
       "1  ...            0             0           0.0                  0   \n",
       "2  ...            0             0           0.0                  0   \n",
       "3  ...            0             0           0.0                  0   \n",
       "4  ...            0             0           0.0                  0   \n",
       "\n",
       "  Bowling_Average Economy_Rate Bowling_Strike_Rate  Four_Wicket_Hauls  \\\n",
       "0             0.0            0                   0                  0   \n",
       "1             0.0            0                   0                  0   \n",
       "2             0.0            0                   0                  0   \n",
       "3             0.0            0                   0                  0   \n",
       "4             0.0            0                   0                  0   \n",
       "\n",
       "  Five_Wicket_Hauls    zscore  \n",
       "0                 0 -0.701096  \n",
       "1                 0 -0.701096  \n",
       "2                 0 -0.701096  \n",
       "3                 0 -0.701096  \n",
       "4                 0 -0.701096  \n",
       "\n",
       "[5 rows x 25 columns]"
      ]
     },
     "execution_count": 55,
     "metadata": {},
     "output_type": "execute_result"
    }
   ],
   "source": [
    "df.head()"
   ]
  },
  {
   "cell_type": "code",
   "execution_count": 56,
   "metadata": {
    "id": "_0a7qNM72pCu"
   },
   "outputs": [],
   "source": [
    "cat_variables= df.select_dtypes('object')\n",
    "num_variables= df.select_dtypes(['int','float'])"
   ]
  },
  {
   "cell_type": "code",
   "execution_count": 57,
   "metadata": {
    "colab": {
     "base_uri": "https://localhost:8080/"
    },
    "id": "_SG9quEL2tbQ",
    "outputId": "ba3f99d5-183e-481d-82e0-b6df822cf538"
   },
   "outputs": [
    {
     "data": {
      "text/plain": [
       "Index(['Year', 'Matches_Batted', 'Not_Outs', 'Runs_Scored', 'Highest_Score',\n",
       "       'Balls_Faced', 'Batting_Strike_Rate', 'Wickets_Taken',\n",
       "       'Bowling_Average', 'zscore'],\n",
       "      dtype='object')"
      ]
     },
     "execution_count": 57,
     "metadata": {},
     "output_type": "execute_result"
    }
   ],
   "source": [
    "num_variables.columns"
   ]
  },
  {
   "cell_type": "code",
   "execution_count": 58,
   "metadata": {
    "colab": {
     "base_uri": "https://localhost:8080/",
     "height": 206
    },
    "id": "t3iioP_q2ySw",
    "outputId": "78ce7371-4cd9-4e62-9af1-0bf9b147f697"
   },
   "outputs": [
    {
     "data": {
      "text/html": [
       "<div>\n",
       "<style scoped>\n",
       "    .dataframe tbody tr th:only-of-type {\n",
       "        vertical-align: middle;\n",
       "    }\n",
       "\n",
       "    .dataframe tbody tr th {\n",
       "        vertical-align: top;\n",
       "    }\n",
       "\n",
       "    .dataframe thead th {\n",
       "        text-align: right;\n",
       "    }\n",
       "</style>\n",
       "<table border=\"1\" class=\"dataframe\">\n",
       "  <thead>\n",
       "    <tr style=\"text-align: right;\">\n",
       "      <th></th>\n",
       "      <th>Year</th>\n",
       "      <th>Matches_Batted</th>\n",
       "      <th>Not_Outs</th>\n",
       "      <th>Runs_Scored</th>\n",
       "      <th>Highest_Score</th>\n",
       "      <th>Balls_Faced</th>\n",
       "      <th>Batting_Strike_Rate</th>\n",
       "      <th>Wickets_Taken</th>\n",
       "      <th>Bowling_Average</th>\n",
       "      <th>zscore</th>\n",
       "    </tr>\n",
       "  </thead>\n",
       "  <tbody>\n",
       "    <tr>\n",
       "      <th>0</th>\n",
       "      <td>2024</td>\n",
       "      <td>2</td>\n",
       "      <td>0</td>\n",
       "      <td>61.0</td>\n",
       "      <td>46.0</td>\n",
       "      <td>51</td>\n",
       "      <td>119.61</td>\n",
       "      <td>0.0</td>\n",
       "      <td>0.0</td>\n",
       "      <td>-0.701096</td>\n",
       "    </tr>\n",
       "    <tr>\n",
       "      <th>1</th>\n",
       "      <td>2023</td>\n",
       "      <td>16</td>\n",
       "      <td>1</td>\n",
       "      <td>590.0</td>\n",
       "      <td>92.0</td>\n",
       "      <td>400</td>\n",
       "      <td>147.50</td>\n",
       "      <td>0.0</td>\n",
       "      <td>0.0</td>\n",
       "      <td>-0.701096</td>\n",
       "    </tr>\n",
       "    <tr>\n",
       "      <th>2</th>\n",
       "      <td>2022</td>\n",
       "      <td>14</td>\n",
       "      <td>0</td>\n",
       "      <td>368.0</td>\n",
       "      <td>99.0</td>\n",
       "      <td>291</td>\n",
       "      <td>126.46</td>\n",
       "      <td>0.0</td>\n",
       "      <td>0.0</td>\n",
       "      <td>-0.701096</td>\n",
       "    </tr>\n",
       "    <tr>\n",
       "      <th>3</th>\n",
       "      <td>2021</td>\n",
       "      <td>16</td>\n",
       "      <td>2</td>\n",
       "      <td>635.0</td>\n",
       "      <td>101.0</td>\n",
       "      <td>466</td>\n",
       "      <td>136.26</td>\n",
       "      <td>0.0</td>\n",
       "      <td>0.0</td>\n",
       "      <td>-0.701096</td>\n",
       "    </tr>\n",
       "    <tr>\n",
       "      <th>4</th>\n",
       "      <td>2020</td>\n",
       "      <td>6</td>\n",
       "      <td>2</td>\n",
       "      <td>204.0</td>\n",
       "      <td>72.0</td>\n",
       "      <td>169</td>\n",
       "      <td>120.71</td>\n",
       "      <td>0.0</td>\n",
       "      <td>0.0</td>\n",
       "      <td>-0.701096</td>\n",
       "    </tr>\n",
       "  </tbody>\n",
       "</table>\n",
       "</div>"
      ],
      "text/plain": [
       "   Year  Matches_Batted  Not_Outs  Runs_Scored  Highest_Score  Balls_Faced  \\\n",
       "0  2024               2         0         61.0           46.0           51   \n",
       "1  2023              16         1        590.0           92.0          400   \n",
       "2  2022              14         0        368.0           99.0          291   \n",
       "3  2021              16         2        635.0          101.0          466   \n",
       "4  2020               6         2        204.0           72.0          169   \n",
       "\n",
       "   Batting_Strike_Rate  Wickets_Taken  Bowling_Average    zscore  \n",
       "0               119.61            0.0              0.0 -0.701096  \n",
       "1               147.50            0.0              0.0 -0.701096  \n",
       "2               126.46            0.0              0.0 -0.701096  \n",
       "3               136.26            0.0              0.0 -0.701096  \n",
       "4               120.71            0.0              0.0 -0.701096  "
      ]
     },
     "execution_count": 58,
     "metadata": {},
     "output_type": "execute_result"
    }
   ],
   "source": [
    "num_variables.head()"
   ]
  },
  {
   "cell_type": "code",
   "execution_count": 59,
   "metadata": {
    "colab": {
     "base_uri": "https://localhost:8080/",
     "height": 342
    },
    "id": "ktzdajlYAYEK",
    "outputId": "412aa530-3ac1-4da2-e8a6-06cc2b356403"
   },
   "outputs": [
    {
     "data": {
      "text/html": [
       "<div>\n",
       "<style scoped>\n",
       "    .dataframe tbody tr th:only-of-type {\n",
       "        vertical-align: middle;\n",
       "    }\n",
       "\n",
       "    .dataframe tbody tr th {\n",
       "        vertical-align: top;\n",
       "    }\n",
       "\n",
       "    .dataframe thead th {\n",
       "        text-align: right;\n",
       "    }\n",
       "</style>\n",
       "<table border=\"1\" class=\"dataframe\">\n",
       "  <thead>\n",
       "    <tr style=\"text-align: right;\">\n",
       "      <th></th>\n",
       "      <th>Year</th>\n",
       "      <th>Player_Name</th>\n",
       "      <th>Matches_Batted</th>\n",
       "      <th>Not_Outs</th>\n",
       "      <th>Runs_Scored</th>\n",
       "      <th>Highest_Score</th>\n",
       "      <th>Balls_Faced</th>\n",
       "      <th>Batting_Strike_Rate</th>\n",
       "      <th>Centuries</th>\n",
       "      <th>Half_Centuries</th>\n",
       "      <th>...</th>\n",
       "      <th>Balls_Bowled</th>\n",
       "      <th>Runs_Conceded</th>\n",
       "      <th>Wickets_Taken</th>\n",
       "      <th>Best_Bowling_Match</th>\n",
       "      <th>Bowling_Average</th>\n",
       "      <th>Economy_Rate</th>\n",
       "      <th>Bowling_Strike_Rate</th>\n",
       "      <th>Four_Wicket_Hauls</th>\n",
       "      <th>Five_Wicket_Hauls</th>\n",
       "      <th>zscore</th>\n",
       "    </tr>\n",
       "  </thead>\n",
       "  <tbody>\n",
       "    <tr>\n",
       "      <th>0</th>\n",
       "      <td>2024</td>\n",
       "      <td>Ruturaj Gaikwad</td>\n",
       "      <td>2</td>\n",
       "      <td>0</td>\n",
       "      <td>61.0</td>\n",
       "      <td>46.0</td>\n",
       "      <td>51</td>\n",
       "      <td>119.61</td>\n",
       "      <td>0</td>\n",
       "      <td>0</td>\n",
       "      <td>...</td>\n",
       "      <td>0</td>\n",
       "      <td>0</td>\n",
       "      <td>0.0</td>\n",
       "      <td>0</td>\n",
       "      <td>0.0</td>\n",
       "      <td>0</td>\n",
       "      <td>0</td>\n",
       "      <td>0</td>\n",
       "      <td>0</td>\n",
       "      <td>-0.701096</td>\n",
       "    </tr>\n",
       "    <tr>\n",
       "      <th>1</th>\n",
       "      <td>2023</td>\n",
       "      <td>Ruturaj Gaikwad</td>\n",
       "      <td>16</td>\n",
       "      <td>1</td>\n",
       "      <td>590.0</td>\n",
       "      <td>92.0</td>\n",
       "      <td>400</td>\n",
       "      <td>147.50</td>\n",
       "      <td>0</td>\n",
       "      <td>4</td>\n",
       "      <td>...</td>\n",
       "      <td>0</td>\n",
       "      <td>0</td>\n",
       "      <td>0.0</td>\n",
       "      <td>0</td>\n",
       "      <td>0.0</td>\n",
       "      <td>0</td>\n",
       "      <td>0</td>\n",
       "      <td>0</td>\n",
       "      <td>0</td>\n",
       "      <td>-0.701096</td>\n",
       "    </tr>\n",
       "    <tr>\n",
       "      <th>2</th>\n",
       "      <td>2022</td>\n",
       "      <td>Ruturaj Gaikwad</td>\n",
       "      <td>14</td>\n",
       "      <td>0</td>\n",
       "      <td>368.0</td>\n",
       "      <td>99.0</td>\n",
       "      <td>291</td>\n",
       "      <td>126.46</td>\n",
       "      <td>0</td>\n",
       "      <td>3</td>\n",
       "      <td>...</td>\n",
       "      <td>0</td>\n",
       "      <td>0</td>\n",
       "      <td>0.0</td>\n",
       "      <td>0</td>\n",
       "      <td>0.0</td>\n",
       "      <td>0</td>\n",
       "      <td>0</td>\n",
       "      <td>0</td>\n",
       "      <td>0</td>\n",
       "      <td>-0.701096</td>\n",
       "    </tr>\n",
       "    <tr>\n",
       "      <th>3</th>\n",
       "      <td>2021</td>\n",
       "      <td>Ruturaj Gaikwad</td>\n",
       "      <td>16</td>\n",
       "      <td>2</td>\n",
       "      <td>635.0</td>\n",
       "      <td>101.0</td>\n",
       "      <td>466</td>\n",
       "      <td>136.26</td>\n",
       "      <td>1</td>\n",
       "      <td>4</td>\n",
       "      <td>...</td>\n",
       "      <td>0</td>\n",
       "      <td>0</td>\n",
       "      <td>0.0</td>\n",
       "      <td>0</td>\n",
       "      <td>0.0</td>\n",
       "      <td>0</td>\n",
       "      <td>0</td>\n",
       "      <td>0</td>\n",
       "      <td>0</td>\n",
       "      <td>-0.701096</td>\n",
       "    </tr>\n",
       "    <tr>\n",
       "      <th>4</th>\n",
       "      <td>2020</td>\n",
       "      <td>Ruturaj Gaikwad</td>\n",
       "      <td>6</td>\n",
       "      <td>2</td>\n",
       "      <td>204.0</td>\n",
       "      <td>72.0</td>\n",
       "      <td>169</td>\n",
       "      <td>120.71</td>\n",
       "      <td>0</td>\n",
       "      <td>3</td>\n",
       "      <td>...</td>\n",
       "      <td>0</td>\n",
       "      <td>0</td>\n",
       "      <td>0.0</td>\n",
       "      <td>0</td>\n",
       "      <td>0.0</td>\n",
       "      <td>0</td>\n",
       "      <td>0</td>\n",
       "      <td>0</td>\n",
       "      <td>0</td>\n",
       "      <td>-0.701096</td>\n",
       "    </tr>\n",
       "  </tbody>\n",
       "</table>\n",
       "<p>5 rows × 25 columns</p>\n",
       "</div>"
      ],
      "text/plain": [
       "   Year      Player_Name  Matches_Batted  Not_Outs  Runs_Scored  \\\n",
       "0  2024  Ruturaj Gaikwad               2         0         61.0   \n",
       "1  2023  Ruturaj Gaikwad              16         1        590.0   \n",
       "2  2022  Ruturaj Gaikwad              14         0        368.0   \n",
       "3  2021  Ruturaj Gaikwad              16         2        635.0   \n",
       "4  2020  Ruturaj Gaikwad               6         2        204.0   \n",
       "\n",
       "   Highest_Score  Balls_Faced  Batting_Strike_Rate Centuries Half_Centuries  \\\n",
       "0           46.0           51               119.61         0              0   \n",
       "1           92.0          400               147.50         0              4   \n",
       "2           99.0          291               126.46         0              3   \n",
       "3          101.0          466               136.26         1              4   \n",
       "4           72.0          169               120.71         0              3   \n",
       "\n",
       "   ... Balls_Bowled Runs_Conceded Wickets_Taken Best_Bowling_Match  \\\n",
       "0  ...            0             0           0.0                  0   \n",
       "1  ...            0             0           0.0                  0   \n",
       "2  ...            0             0           0.0                  0   \n",
       "3  ...            0             0           0.0                  0   \n",
       "4  ...            0             0           0.0                  0   \n",
       "\n",
       "  Bowling_Average Economy_Rate Bowling_Strike_Rate  Four_Wicket_Hauls  \\\n",
       "0             0.0            0                   0                  0   \n",
       "1             0.0            0                   0                  0   \n",
       "2             0.0            0                   0                  0   \n",
       "3             0.0            0                   0                  0   \n",
       "4             0.0            0                   0                  0   \n",
       "\n",
       "  Five_Wicket_Hauls    zscore  \n",
       "0                 0 -0.701096  \n",
       "1                 0 -0.701096  \n",
       "2                 0 -0.701096  \n",
       "3                 0 -0.701096  \n",
       "4                 0 -0.701096  \n",
       "\n",
       "[5 rows x 25 columns]"
      ]
     },
     "execution_count": 59,
     "metadata": {},
     "output_type": "execute_result"
    }
   ],
   "source": [
    "df.head()"
   ]
  },
  {
   "cell_type": "code",
   "execution_count": 60,
   "metadata": {
    "colab": {
     "base_uri": "https://localhost:8080/"
    },
    "id": "09yG8Cv8tjBy",
    "outputId": "fa72f67d-e151-4b82-b90f-10176b598c15"
   },
   "outputs": [
    {
     "name": "stdout",
     "output_type": "stream",
     "text": [
      "Cleaned data saved as 'df_copy.csv'\n"
     ]
    }
   ],
   "source": [
    "df.to_csv(\"df_copy.csv\", index=False)\n",
    "print(\"Cleaned data saved as 'df_copy.csv'\")"
   ]
  },
  {
   "cell_type": "markdown",
   "metadata": {
    "id": "gUpPZXvA84iq"
   },
   "source": [
    "# 3.5 Train Test Split (Required when building model for predictions)\n",
    "#### What is train_test_split?\n",
    "train_test_split is a function from scikit-learn used to split your dataset into two parts:\n",
    "\n",
    "Training set – to train the model\n",
    "\n",
    "Validation set – to evaluate the model's performance\n",
    "\n",
    "#### Why is it required?\n",
    "When building machine learning models, we train the model on one portion of the data and test it on unseen data to check how well it generalizes.\n",
    "\n",
    "This prevents overfitting and gives a fair estimate of model accuracy."
   ]
  },
  {
   "cell_type": "code",
   "execution_count": 61,
   "metadata": {
    "id": "uWHpgTSQuSHs"
   },
   "outputs": [],
   "source": [
    "df_TrainTestSplit= pd.read_csv('df_copy.csv')"
   ]
  },
  {
   "cell_type": "code",
   "execution_count": 62,
   "metadata": {
    "colab": {
     "base_uri": "https://localhost:8080/",
     "height": 342
    },
    "id": "7JqpSQ6a8-KT",
    "outputId": "33bdff04-34b4-4d69-eaae-2c2e37118122"
   },
   "outputs": [
    {
     "data": {
      "text/html": [
       "<div>\n",
       "<style scoped>\n",
       "    .dataframe tbody tr th:only-of-type {\n",
       "        vertical-align: middle;\n",
       "    }\n",
       "\n",
       "    .dataframe tbody tr th {\n",
       "        vertical-align: top;\n",
       "    }\n",
       "\n",
       "    .dataframe thead th {\n",
       "        text-align: right;\n",
       "    }\n",
       "</style>\n",
       "<table border=\"1\" class=\"dataframe\">\n",
       "  <thead>\n",
       "    <tr style=\"text-align: right;\">\n",
       "      <th></th>\n",
       "      <th>Year</th>\n",
       "      <th>Player_Name</th>\n",
       "      <th>Matches_Batted</th>\n",
       "      <th>Not_Outs</th>\n",
       "      <th>Runs_Scored</th>\n",
       "      <th>Highest_Score</th>\n",
       "      <th>Balls_Faced</th>\n",
       "      <th>Batting_Strike_Rate</th>\n",
       "      <th>Centuries</th>\n",
       "      <th>Half_Centuries</th>\n",
       "      <th>...</th>\n",
       "      <th>Balls_Bowled</th>\n",
       "      <th>Runs_Conceded</th>\n",
       "      <th>Wickets_Taken</th>\n",
       "      <th>Best_Bowling_Match</th>\n",
       "      <th>Bowling_Average</th>\n",
       "      <th>Economy_Rate</th>\n",
       "      <th>Bowling_Strike_Rate</th>\n",
       "      <th>Four_Wicket_Hauls</th>\n",
       "      <th>Five_Wicket_Hauls</th>\n",
       "      <th>zscore</th>\n",
       "    </tr>\n",
       "  </thead>\n",
       "  <tbody>\n",
       "    <tr>\n",
       "      <th>0</th>\n",
       "      <td>2024</td>\n",
       "      <td>Ruturaj Gaikwad</td>\n",
       "      <td>2</td>\n",
       "      <td>0</td>\n",
       "      <td>61.0</td>\n",
       "      <td>46.0</td>\n",
       "      <td>51</td>\n",
       "      <td>119.61</td>\n",
       "      <td>0</td>\n",
       "      <td>0</td>\n",
       "      <td>...</td>\n",
       "      <td>0</td>\n",
       "      <td>0</td>\n",
       "      <td>0.0</td>\n",
       "      <td>0</td>\n",
       "      <td>0.0</td>\n",
       "      <td>0.0</td>\n",
       "      <td>0.0</td>\n",
       "      <td>0</td>\n",
       "      <td>0</td>\n",
       "      <td>-0.701096</td>\n",
       "    </tr>\n",
       "    <tr>\n",
       "      <th>1</th>\n",
       "      <td>2023</td>\n",
       "      <td>Ruturaj Gaikwad</td>\n",
       "      <td>16</td>\n",
       "      <td>1</td>\n",
       "      <td>590.0</td>\n",
       "      <td>92.0</td>\n",
       "      <td>400</td>\n",
       "      <td>147.50</td>\n",
       "      <td>0</td>\n",
       "      <td>4</td>\n",
       "      <td>...</td>\n",
       "      <td>0</td>\n",
       "      <td>0</td>\n",
       "      <td>0.0</td>\n",
       "      <td>0</td>\n",
       "      <td>0.0</td>\n",
       "      <td>0.0</td>\n",
       "      <td>0.0</td>\n",
       "      <td>0</td>\n",
       "      <td>0</td>\n",
       "      <td>-0.701096</td>\n",
       "    </tr>\n",
       "    <tr>\n",
       "      <th>2</th>\n",
       "      <td>2022</td>\n",
       "      <td>Ruturaj Gaikwad</td>\n",
       "      <td>14</td>\n",
       "      <td>0</td>\n",
       "      <td>368.0</td>\n",
       "      <td>99.0</td>\n",
       "      <td>291</td>\n",
       "      <td>126.46</td>\n",
       "      <td>0</td>\n",
       "      <td>3</td>\n",
       "      <td>...</td>\n",
       "      <td>0</td>\n",
       "      <td>0</td>\n",
       "      <td>0.0</td>\n",
       "      <td>0</td>\n",
       "      <td>0.0</td>\n",
       "      <td>0.0</td>\n",
       "      <td>0.0</td>\n",
       "      <td>0</td>\n",
       "      <td>0</td>\n",
       "      <td>-0.701096</td>\n",
       "    </tr>\n",
       "    <tr>\n",
       "      <th>3</th>\n",
       "      <td>2021</td>\n",
       "      <td>Ruturaj Gaikwad</td>\n",
       "      <td>16</td>\n",
       "      <td>2</td>\n",
       "      <td>635.0</td>\n",
       "      <td>101.0</td>\n",
       "      <td>466</td>\n",
       "      <td>136.26</td>\n",
       "      <td>1</td>\n",
       "      <td>4</td>\n",
       "      <td>...</td>\n",
       "      <td>0</td>\n",
       "      <td>0</td>\n",
       "      <td>0.0</td>\n",
       "      <td>0</td>\n",
       "      <td>0.0</td>\n",
       "      <td>0.0</td>\n",
       "      <td>0.0</td>\n",
       "      <td>0</td>\n",
       "      <td>0</td>\n",
       "      <td>-0.701096</td>\n",
       "    </tr>\n",
       "    <tr>\n",
       "      <th>4</th>\n",
       "      <td>2020</td>\n",
       "      <td>Ruturaj Gaikwad</td>\n",
       "      <td>6</td>\n",
       "      <td>2</td>\n",
       "      <td>204.0</td>\n",
       "      <td>72.0</td>\n",
       "      <td>169</td>\n",
       "      <td>120.71</td>\n",
       "      <td>0</td>\n",
       "      <td>3</td>\n",
       "      <td>...</td>\n",
       "      <td>0</td>\n",
       "      <td>0</td>\n",
       "      <td>0.0</td>\n",
       "      <td>0</td>\n",
       "      <td>0.0</td>\n",
       "      <td>0.0</td>\n",
       "      <td>0.0</td>\n",
       "      <td>0</td>\n",
       "      <td>0</td>\n",
       "      <td>-0.701096</td>\n",
       "    </tr>\n",
       "  </tbody>\n",
       "</table>\n",
       "<p>5 rows × 25 columns</p>\n",
       "</div>"
      ],
      "text/plain": [
       "   Year      Player_Name  Matches_Batted  Not_Outs  Runs_Scored  \\\n",
       "0  2024  Ruturaj Gaikwad               2         0         61.0   \n",
       "1  2023  Ruturaj Gaikwad              16         1        590.0   \n",
       "2  2022  Ruturaj Gaikwad              14         0        368.0   \n",
       "3  2021  Ruturaj Gaikwad              16         2        635.0   \n",
       "4  2020  Ruturaj Gaikwad               6         2        204.0   \n",
       "\n",
       "   Highest_Score  Balls_Faced  Batting_Strike_Rate  Centuries  Half_Centuries  \\\n",
       "0           46.0           51               119.61          0               0   \n",
       "1           92.0          400               147.50          0               4   \n",
       "2           99.0          291               126.46          0               3   \n",
       "3          101.0          466               136.26          1               4   \n",
       "4           72.0          169               120.71          0               3   \n",
       "\n",
       "   ...  Balls_Bowled  Runs_Conceded  Wickets_Taken  Best_Bowling_Match  \\\n",
       "0  ...             0              0            0.0                   0   \n",
       "1  ...             0              0            0.0                   0   \n",
       "2  ...             0              0            0.0                   0   \n",
       "3  ...             0              0            0.0                   0   \n",
       "4  ...             0              0            0.0                   0   \n",
       "\n",
       "   Bowling_Average  Economy_Rate  Bowling_Strike_Rate  Four_Wicket_Hauls  \\\n",
       "0              0.0           0.0                  0.0                  0   \n",
       "1              0.0           0.0                  0.0                  0   \n",
       "2              0.0           0.0                  0.0                  0   \n",
       "3              0.0           0.0                  0.0                  0   \n",
       "4              0.0           0.0                  0.0                  0   \n",
       "\n",
       "  Five_Wicket_Hauls    zscore  \n",
       "0                 0 -0.701096  \n",
       "1                 0 -0.701096  \n",
       "2                 0 -0.701096  \n",
       "3                 0 -0.701096  \n",
       "4                 0 -0.701096  \n",
       "\n",
       "[5 rows x 25 columns]"
      ]
     },
     "execution_count": 62,
     "metadata": {},
     "output_type": "execute_result"
    }
   ],
   "source": [
    "df_TrainTestSplit.head()"
   ]
  },
  {
   "cell_type": "markdown",
   "metadata": {
    "id": "rhWnixaf97FC"
   },
   "source": [
    "# Separating Features and Target"
   ]
  },
  {
   "cell_type": "code",
   "execution_count": 63,
   "metadata": {
    "id": "ha1JDtlA9YoM"
   },
   "outputs": [],
   "source": [
    "X = df_TrainTestSplit.drop('Bowling_Average', axis=1)\n",
    "y = df_TrainTestSplit['Bowling_Average']"
   ]
  },
  {
   "cell_type": "code",
   "execution_count": 64,
   "metadata": {
    "colab": {
     "base_uri": "https://localhost:8080/",
     "height": 342
    },
    "id": "ia8XVkLh9vXU",
    "outputId": "b1393e3a-4e59-4f51-c98c-65b7f5de874f"
   },
   "outputs": [
    {
     "data": {
      "text/html": [
       "<div>\n",
       "<style scoped>\n",
       "    .dataframe tbody tr th:only-of-type {\n",
       "        vertical-align: middle;\n",
       "    }\n",
       "\n",
       "    .dataframe tbody tr th {\n",
       "        vertical-align: top;\n",
       "    }\n",
       "\n",
       "    .dataframe thead th {\n",
       "        text-align: right;\n",
       "    }\n",
       "</style>\n",
       "<table border=\"1\" class=\"dataframe\">\n",
       "  <thead>\n",
       "    <tr style=\"text-align: right;\">\n",
       "      <th></th>\n",
       "      <th>Year</th>\n",
       "      <th>Player_Name</th>\n",
       "      <th>Matches_Batted</th>\n",
       "      <th>Not_Outs</th>\n",
       "      <th>Runs_Scored</th>\n",
       "      <th>Highest_Score</th>\n",
       "      <th>Balls_Faced</th>\n",
       "      <th>Batting_Strike_Rate</th>\n",
       "      <th>Centuries</th>\n",
       "      <th>Half_Centuries</th>\n",
       "      <th>...</th>\n",
       "      <th>Matches_Bowled</th>\n",
       "      <th>Balls_Bowled</th>\n",
       "      <th>Runs_Conceded</th>\n",
       "      <th>Wickets_Taken</th>\n",
       "      <th>Best_Bowling_Match</th>\n",
       "      <th>Economy_Rate</th>\n",
       "      <th>Bowling_Strike_Rate</th>\n",
       "      <th>Four_Wicket_Hauls</th>\n",
       "      <th>Five_Wicket_Hauls</th>\n",
       "      <th>zscore</th>\n",
       "    </tr>\n",
       "  </thead>\n",
       "  <tbody>\n",
       "    <tr>\n",
       "      <th>0</th>\n",
       "      <td>2024</td>\n",
       "      <td>Ruturaj Gaikwad</td>\n",
       "      <td>2</td>\n",
       "      <td>0</td>\n",
       "      <td>61.0</td>\n",
       "      <td>46.0</td>\n",
       "      <td>51</td>\n",
       "      <td>119.61</td>\n",
       "      <td>0</td>\n",
       "      <td>0</td>\n",
       "      <td>...</td>\n",
       "      <td>2</td>\n",
       "      <td>0</td>\n",
       "      <td>0</td>\n",
       "      <td>0.0</td>\n",
       "      <td>0</td>\n",
       "      <td>0.0</td>\n",
       "      <td>0.0</td>\n",
       "      <td>0</td>\n",
       "      <td>0</td>\n",
       "      <td>-0.701096</td>\n",
       "    </tr>\n",
       "    <tr>\n",
       "      <th>1</th>\n",
       "      <td>2023</td>\n",
       "      <td>Ruturaj Gaikwad</td>\n",
       "      <td>16</td>\n",
       "      <td>1</td>\n",
       "      <td>590.0</td>\n",
       "      <td>92.0</td>\n",
       "      <td>400</td>\n",
       "      <td>147.50</td>\n",
       "      <td>0</td>\n",
       "      <td>4</td>\n",
       "      <td>...</td>\n",
       "      <td>16</td>\n",
       "      <td>0</td>\n",
       "      <td>0</td>\n",
       "      <td>0.0</td>\n",
       "      <td>0</td>\n",
       "      <td>0.0</td>\n",
       "      <td>0.0</td>\n",
       "      <td>0</td>\n",
       "      <td>0</td>\n",
       "      <td>-0.701096</td>\n",
       "    </tr>\n",
       "    <tr>\n",
       "      <th>2</th>\n",
       "      <td>2022</td>\n",
       "      <td>Ruturaj Gaikwad</td>\n",
       "      <td>14</td>\n",
       "      <td>0</td>\n",
       "      <td>368.0</td>\n",
       "      <td>99.0</td>\n",
       "      <td>291</td>\n",
       "      <td>126.46</td>\n",
       "      <td>0</td>\n",
       "      <td>3</td>\n",
       "      <td>...</td>\n",
       "      <td>14</td>\n",
       "      <td>0</td>\n",
       "      <td>0</td>\n",
       "      <td>0.0</td>\n",
       "      <td>0</td>\n",
       "      <td>0.0</td>\n",
       "      <td>0.0</td>\n",
       "      <td>0</td>\n",
       "      <td>0</td>\n",
       "      <td>-0.701096</td>\n",
       "    </tr>\n",
       "    <tr>\n",
       "      <th>3</th>\n",
       "      <td>2021</td>\n",
       "      <td>Ruturaj Gaikwad</td>\n",
       "      <td>16</td>\n",
       "      <td>2</td>\n",
       "      <td>635.0</td>\n",
       "      <td>101.0</td>\n",
       "      <td>466</td>\n",
       "      <td>136.26</td>\n",
       "      <td>1</td>\n",
       "      <td>4</td>\n",
       "      <td>...</td>\n",
       "      <td>16</td>\n",
       "      <td>0</td>\n",
       "      <td>0</td>\n",
       "      <td>0.0</td>\n",
       "      <td>0</td>\n",
       "      <td>0.0</td>\n",
       "      <td>0.0</td>\n",
       "      <td>0</td>\n",
       "      <td>0</td>\n",
       "      <td>-0.701096</td>\n",
       "    </tr>\n",
       "    <tr>\n",
       "      <th>4</th>\n",
       "      <td>2020</td>\n",
       "      <td>Ruturaj Gaikwad</td>\n",
       "      <td>6</td>\n",
       "      <td>2</td>\n",
       "      <td>204.0</td>\n",
       "      <td>72.0</td>\n",
       "      <td>169</td>\n",
       "      <td>120.71</td>\n",
       "      <td>0</td>\n",
       "      <td>3</td>\n",
       "      <td>...</td>\n",
       "      <td>6</td>\n",
       "      <td>0</td>\n",
       "      <td>0</td>\n",
       "      <td>0.0</td>\n",
       "      <td>0</td>\n",
       "      <td>0.0</td>\n",
       "      <td>0.0</td>\n",
       "      <td>0</td>\n",
       "      <td>0</td>\n",
       "      <td>-0.701096</td>\n",
       "    </tr>\n",
       "  </tbody>\n",
       "</table>\n",
       "<p>5 rows × 24 columns</p>\n",
       "</div>"
      ],
      "text/plain": [
       "   Year      Player_Name  Matches_Batted  Not_Outs  Runs_Scored  \\\n",
       "0  2024  Ruturaj Gaikwad               2         0         61.0   \n",
       "1  2023  Ruturaj Gaikwad              16         1        590.0   \n",
       "2  2022  Ruturaj Gaikwad              14         0        368.0   \n",
       "3  2021  Ruturaj Gaikwad              16         2        635.0   \n",
       "4  2020  Ruturaj Gaikwad               6         2        204.0   \n",
       "\n",
       "   Highest_Score  Balls_Faced  Batting_Strike_Rate  Centuries  Half_Centuries  \\\n",
       "0           46.0           51               119.61          0               0   \n",
       "1           92.0          400               147.50          0               4   \n",
       "2           99.0          291               126.46          0               3   \n",
       "3          101.0          466               136.26          1               4   \n",
       "4           72.0          169               120.71          0               3   \n",
       "\n",
       "   ...  Matches_Bowled  Balls_Bowled  Runs_Conceded  Wickets_Taken  \\\n",
       "0  ...               2             0              0            0.0   \n",
       "1  ...              16             0              0            0.0   \n",
       "2  ...              14             0              0            0.0   \n",
       "3  ...              16             0              0            0.0   \n",
       "4  ...               6             0              0            0.0   \n",
       "\n",
       "   Best_Bowling_Match  Economy_Rate  Bowling_Strike_Rate  Four_Wicket_Hauls  \\\n",
       "0                   0           0.0                  0.0                  0   \n",
       "1                   0           0.0                  0.0                  0   \n",
       "2                   0           0.0                  0.0                  0   \n",
       "3                   0           0.0                  0.0                  0   \n",
       "4                   0           0.0                  0.0                  0   \n",
       "\n",
       "  Five_Wicket_Hauls    zscore  \n",
       "0                 0 -0.701096  \n",
       "1                 0 -0.701096  \n",
       "2                 0 -0.701096  \n",
       "3                 0 -0.701096  \n",
       "4                 0 -0.701096  \n",
       "\n",
       "[5 rows x 24 columns]"
      ]
     },
     "execution_count": 64,
     "metadata": {},
     "output_type": "execute_result"
    }
   ],
   "source": [
    "X.head()"
   ]
  },
  {
   "cell_type": "code",
   "execution_count": 65,
   "metadata": {
    "colab": {
     "base_uri": "https://localhost:8080/",
     "height": 458
    },
    "id": "RsTHn_ud9xdW",
    "outputId": "7ee68841-0280-4e83-b4b3-38f181e7fb67"
   },
   "outputs": [
    {
     "data": {
      "text/plain": [
       "0        0.00\n",
       "1        0.00\n",
       "2        0.00\n",
       "3        0.00\n",
       "4        0.00\n",
       "        ...  \n",
       "1125    25.00\n",
       "1126    57.00\n",
       "1127     0.00\n",
       "1128    59.00\n",
       "1129    24.53\n",
       "Name: Bowling_Average, Length: 1130, dtype: float64"
      ]
     },
     "execution_count": 65,
     "metadata": {},
     "output_type": "execute_result"
    }
   ],
   "source": [
    "y"
   ]
  },
  {
   "cell_type": "code",
   "execution_count": 66,
   "metadata": {
    "id": "QIa01upd92mn"
   },
   "outputs": [],
   "source": [
    "from sklearn.model_selection import train_test_split\n",
    "X_train, x_val, y_train, y_val = train_test_split(X, y,test_size=0.2,random_state=20)"
   ]
  },
  {
   "cell_type": "code",
   "execution_count": 67,
   "metadata": {
    "colab": {
     "base_uri": "https://localhost:8080/",
     "height": 273
    },
    "id": "bLaEP6Ss9_f_",
    "outputId": "bcd243c7-2b45-4ca1-cd3a-3cc21a6057ad"
   },
   "outputs": [
    {
     "data": {
      "text/html": [
       "<div>\n",
       "<style scoped>\n",
       "    .dataframe tbody tr th:only-of-type {\n",
       "        vertical-align: middle;\n",
       "    }\n",
       "\n",
       "    .dataframe tbody tr th {\n",
       "        vertical-align: top;\n",
       "    }\n",
       "\n",
       "    .dataframe thead th {\n",
       "        text-align: right;\n",
       "    }\n",
       "</style>\n",
       "<table border=\"1\" class=\"dataframe\">\n",
       "  <thead>\n",
       "    <tr style=\"text-align: right;\">\n",
       "      <th></th>\n",
       "      <th>Year</th>\n",
       "      <th>Player_Name</th>\n",
       "      <th>Matches_Batted</th>\n",
       "      <th>Not_Outs</th>\n",
       "      <th>Runs_Scored</th>\n",
       "      <th>Highest_Score</th>\n",
       "      <th>Balls_Faced</th>\n",
       "      <th>Batting_Strike_Rate</th>\n",
       "      <th>Centuries</th>\n",
       "      <th>Half_Centuries</th>\n",
       "      <th>...</th>\n",
       "      <th>Matches_Bowled</th>\n",
       "      <th>Balls_Bowled</th>\n",
       "      <th>Runs_Conceded</th>\n",
       "      <th>Wickets_Taken</th>\n",
       "      <th>Best_Bowling_Match</th>\n",
       "      <th>Economy_Rate</th>\n",
       "      <th>Bowling_Strike_Rate</th>\n",
       "      <th>Four_Wicket_Hauls</th>\n",
       "      <th>Five_Wicket_Hauls</th>\n",
       "      <th>zscore</th>\n",
       "    </tr>\n",
       "  </thead>\n",
       "  <tbody>\n",
       "    <tr>\n",
       "      <th>197</th>\n",
       "      <td>2019</td>\n",
       "      <td>Ishant Sharma</td>\n",
       "      <td>13</td>\n",
       "      <td>3</td>\n",
       "      <td>10.0</td>\n",
       "      <td>10.0</td>\n",
       "      <td>3</td>\n",
       "      <td>333.33</td>\n",
       "      <td>0</td>\n",
       "      <td>0</td>\n",
       "      <td>...</td>\n",
       "      <td>13</td>\n",
       "      <td>276</td>\n",
       "      <td>349</td>\n",
       "      <td>13.0</td>\n",
       "      <td>3/38</td>\n",
       "      <td>7.58</td>\n",
       "      <td>21.23</td>\n",
       "      <td>0</td>\n",
       "      <td>0</td>\n",
       "      <td>1.342782</td>\n",
       "    </tr>\n",
       "    <tr>\n",
       "      <th>569</th>\n",
       "      <td>2016</td>\n",
       "      <td>Rohit Sharma</td>\n",
       "      <td>14</td>\n",
       "      <td>3</td>\n",
       "      <td>489.0</td>\n",
       "      <td>85.0</td>\n",
       "      <td>368</td>\n",
       "      <td>132.88</td>\n",
       "      <td>0</td>\n",
       "      <td>5</td>\n",
       "      <td>...</td>\n",
       "      <td>14</td>\n",
       "      <td>0</td>\n",
       "      <td>0</td>\n",
       "      <td>0.0</td>\n",
       "      <td>0</td>\n",
       "      <td>0.00</td>\n",
       "      <td>0.00</td>\n",
       "      <td>0</td>\n",
       "      <td>0</td>\n",
       "      <td>-0.701096</td>\n",
       "    </tr>\n",
       "    <tr>\n",
       "      <th>574</th>\n",
       "      <td>2011</td>\n",
       "      <td>Rohit Sharma</td>\n",
       "      <td>16</td>\n",
       "      <td>3</td>\n",
       "      <td>372.0</td>\n",
       "      <td>87.0</td>\n",
       "      <td>297</td>\n",
       "      <td>125.25</td>\n",
       "      <td>0</td>\n",
       "      <td>3</td>\n",
       "      <td>...</td>\n",
       "      <td>16</td>\n",
       "      <td>48</td>\n",
       "      <td>53</td>\n",
       "      <td>0.0</td>\n",
       "      <td>0/14</td>\n",
       "      <td>13.25</td>\n",
       "      <td>0.00</td>\n",
       "      <td>0</td>\n",
       "      <td>0</td>\n",
       "      <td>-0.701096</td>\n",
       "    </tr>\n",
       "    <tr>\n",
       "      <th>784</th>\n",
       "      <td>2024</td>\n",
       "      <td>Jos Buttler</td>\n",
       "      <td>1</td>\n",
       "      <td>0</td>\n",
       "      <td>11.0</td>\n",
       "      <td>11.0</td>\n",
       "      <td>9</td>\n",
       "      <td>122.22</td>\n",
       "      <td>0</td>\n",
       "      <td>0</td>\n",
       "      <td>...</td>\n",
       "      <td>1</td>\n",
       "      <td>0</td>\n",
       "      <td>0</td>\n",
       "      <td>0.0</td>\n",
       "      <td>0</td>\n",
       "      <td>0.00</td>\n",
       "      <td>0.00</td>\n",
       "      <td>0</td>\n",
       "      <td>0</td>\n",
       "      <td>-0.701096</td>\n",
       "    </tr>\n",
       "    <tr>\n",
       "      <th>920</th>\n",
       "      <td>2023</td>\n",
       "      <td>Anuj Rawat</td>\n",
       "      <td>9</td>\n",
       "      <td>4</td>\n",
       "      <td>91.0</td>\n",
       "      <td>29.0</td>\n",
       "      <td>71</td>\n",
       "      <td>128.17</td>\n",
       "      <td>0</td>\n",
       "      <td>0</td>\n",
       "      <td>...</td>\n",
       "      <td>9</td>\n",
       "      <td>0</td>\n",
       "      <td>0</td>\n",
       "      <td>0.0</td>\n",
       "      <td>0</td>\n",
       "      <td>0.00</td>\n",
       "      <td>0.00</td>\n",
       "      <td>0</td>\n",
       "      <td>0</td>\n",
       "      <td>-0.701096</td>\n",
       "    </tr>\n",
       "  </tbody>\n",
       "</table>\n",
       "<p>5 rows × 24 columns</p>\n",
       "</div>"
      ],
      "text/plain": [
       "     Year    Player_Name  Matches_Batted  Not_Outs  Runs_Scored  \\\n",
       "197  2019  Ishant Sharma              13         3         10.0   \n",
       "569  2016   Rohit Sharma              14         3        489.0   \n",
       "574  2011   Rohit Sharma              16         3        372.0   \n",
       "784  2024    Jos Buttler               1         0         11.0   \n",
       "920  2023     Anuj Rawat               9         4         91.0   \n",
       "\n",
       "     Highest_Score  Balls_Faced  Batting_Strike_Rate  Centuries  \\\n",
       "197           10.0            3               333.33          0   \n",
       "569           85.0          368               132.88          0   \n",
       "574           87.0          297               125.25          0   \n",
       "784           11.0            9               122.22          0   \n",
       "920           29.0           71               128.17          0   \n",
       "\n",
       "     Half_Centuries  ...  Matches_Bowled  Balls_Bowled  Runs_Conceded  \\\n",
       "197               0  ...              13           276            349   \n",
       "569               5  ...              14             0              0   \n",
       "574               3  ...              16            48             53   \n",
       "784               0  ...               1             0              0   \n",
       "920               0  ...               9             0              0   \n",
       "\n",
       "     Wickets_Taken  Best_Bowling_Match  Economy_Rate  Bowling_Strike_Rate  \\\n",
       "197           13.0                3/38          7.58                21.23   \n",
       "569            0.0                   0          0.00                 0.00   \n",
       "574            0.0                0/14         13.25                 0.00   \n",
       "784            0.0                   0          0.00                 0.00   \n",
       "920            0.0                   0          0.00                 0.00   \n",
       "\n",
       "     Four_Wicket_Hauls Five_Wicket_Hauls    zscore  \n",
       "197                  0                 0  1.342782  \n",
       "569                  0                 0 -0.701096  \n",
       "574                  0                 0 -0.701096  \n",
       "784                  0                 0 -0.701096  \n",
       "920                  0                 0 -0.701096  \n",
       "\n",
       "[5 rows x 24 columns]"
      ]
     },
     "execution_count": 67,
     "metadata": {},
     "output_type": "execute_result"
    }
   ],
   "source": [
    "X_train.head()"
   ]
  },
  {
   "cell_type": "markdown",
   "metadata": {
    "id": "6Lpy7zsr-GJL"
   },
   "source": [
    "# 3.6 Scaling\n",
    "* Why Feature Scaling is Important:\n",
    "\n",
    "Many machine learning algorithms (like KNN, SVM, Gradient Descent-based models, Neural Networks) compute distances or rely on the magnitude of features. If one feature has a large range and another has a small range, the model might become biased toward the feature with the larger range."
   ]
  },
  {
   "cell_type": "code",
   "execution_count": 68,
   "metadata": {
    "colab": {
     "base_uri": "https://localhost:8080/"
    },
    "id": "L-XNiqnT0Ygg",
    "outputId": "7aa01c17-df42-492d-f4ba-31907b9e986c"
   },
   "outputs": [
    {
     "data": {
      "text/plain": [
       "Index(['Year', 'Player_Name', 'Matches_Batted', 'Not_Outs', 'Runs_Scored',\n",
       "       'Highest_Score', 'Balls_Faced', 'Batting_Strike_Rate', 'Centuries',\n",
       "       'Half_Centuries', 'Fours', 'Sixes', 'Catches_Taken', 'Stumpings',\n",
       "       'Matches_Bowled', 'Balls_Bowled', 'Runs_Conceded', 'Wickets_Taken',\n",
       "       'Best_Bowling_Match', 'Economy_Rate', 'Bowling_Strike_Rate',\n",
       "       'Four_Wicket_Hauls', 'Five_Wicket_Hauls', 'zscore'],\n",
       "      dtype='object')"
      ]
     },
     "execution_count": 68,
     "metadata": {},
     "output_type": "execute_result"
    }
   ],
   "source": [
    "X_train.columns"
   ]
  },
  {
   "cell_type": "code",
   "execution_count": 69,
   "metadata": {
    "id": "jaOCuYWn0vtR"
   },
   "outputs": [],
   "source": [
    "cat_cols=['Player_Name','Best_Bowling_Match']\n",
    "num_cols=['Year', 'Matches_Batted', 'Not_Outs', 'Runs_Scored',\n",
    "       'Highest_Score', 'Balls_Faced',\n",
    "       'Batting_Strike_Rate', 'Centuries', 'Half_Centuries', 'Fours', 'Sixes',\n",
    "       'Catches_Taken', 'Stumpings', 'Matches_Bowled', 'Balls_Bowled',\n",
    "       'Runs_Conceded', 'Wickets_Taken', 'Economy_Rate',\n",
    "       'Bowling_Strike_Rate', 'Four_Wicket_Hauls', 'Five_Wicket_Hauls', 'zscore']"
   ]
  },
  {
   "cell_type": "code",
   "execution_count": 71,
   "metadata": {
    "id": "_ByWUYMb1BD5"
   },
   "outputs": [],
   "source": [
    "# 1. Min-Max Scaling\n",
    "from sklearn.preprocessing import MinMaxScaler\n",
    "MMscaler = MinMaxScaler()\n",
    "Xtrain_scaled_MinMax = MMscaler.fit_transform(X_train[num_cols])\n",
    "Xval_scaled_MinMax = MMscaler.transform(x_val[num_cols])"
   ]
  },
  {
   "cell_type": "code",
   "execution_count": 72,
   "metadata": {
    "id": "earNvOdi1BOu"
   },
   "outputs": [],
   "source": [
    "Xtrain_scaled_MinMax = pd.DataFrame(Xtrain_scaled_MinMax, columns=X_train[num_cols].columns)\n",
    "Xval_scaled_MinMax = pd.DataFrame(Xval_scaled_MinMax, columns=x_val[num_cols].columns)"
   ]
  },
  {
   "cell_type": "code",
   "execution_count": 73,
   "metadata": {
    "colab": {
     "base_uri": "https://localhost:8080/",
     "height": 161
    },
    "id": "YxAxXmDr1BRK",
    "outputId": "e2bb82e6-d230-492f-f458-02e730a0ce24"
   },
   "outputs": [
    {
     "data": {
      "text/html": [
       "<div>\n",
       "<style scoped>\n",
       "    .dataframe tbody tr th:only-of-type {\n",
       "        vertical-align: middle;\n",
       "    }\n",
       "\n",
       "    .dataframe tbody tr th {\n",
       "        vertical-align: top;\n",
       "    }\n",
       "\n",
       "    .dataframe thead th {\n",
       "        text-align: right;\n",
       "    }\n",
       "</style>\n",
       "<table border=\"1\" class=\"dataframe\">\n",
       "  <thead>\n",
       "    <tr style=\"text-align: right;\">\n",
       "      <th></th>\n",
       "      <th>Year</th>\n",
       "      <th>Matches_Batted</th>\n",
       "      <th>Not_Outs</th>\n",
       "      <th>Runs_Scored</th>\n",
       "      <th>Highest_Score</th>\n",
       "      <th>Balls_Faced</th>\n",
       "      <th>Batting_Strike_Rate</th>\n",
       "      <th>Centuries</th>\n",
       "      <th>Half_Centuries</th>\n",
       "      <th>Fours</th>\n",
       "      <th>...</th>\n",
       "      <th>Stumpings</th>\n",
       "      <th>Matches_Bowled</th>\n",
       "      <th>Balls_Bowled</th>\n",
       "      <th>Runs_Conceded</th>\n",
       "      <th>Wickets_Taken</th>\n",
       "      <th>Economy_Rate</th>\n",
       "      <th>Bowling_Strike_Rate</th>\n",
       "      <th>Four_Wicket_Hauls</th>\n",
       "      <th>Five_Wicket_Hauls</th>\n",
       "      <th>zscore</th>\n",
       "    </tr>\n",
       "  </thead>\n",
       "  <tbody>\n",
       "    <tr>\n",
       "      <th>0</th>\n",
       "      <td>0.6875</td>\n",
       "      <td>0.684211</td>\n",
       "      <td>0.3</td>\n",
       "      <td>0.010277</td>\n",
       "      <td>0.075758</td>\n",
       "      <td>0.004688</td>\n",
       "      <td>0.833325</td>\n",
       "      <td>0.0</td>\n",
       "      <td>0.000</td>\n",
       "      <td>0.012048</td>\n",
       "      <td>...</td>\n",
       "      <td>0.0</td>\n",
       "      <td>0.684211</td>\n",
       "      <td>0.676471</td>\n",
       "      <td>0.618794</td>\n",
       "      <td>0.565217</td>\n",
       "      <td>0.210556</td>\n",
       "      <td>0.186228</td>\n",
       "      <td>0.0</td>\n",
       "      <td>0.0</td>\n",
       "      <td>0.40625</td>\n",
       "    </tr>\n",
       "    <tr>\n",
       "      <th>1</th>\n",
       "      <td>0.5000</td>\n",
       "      <td>0.736842</td>\n",
       "      <td>0.3</td>\n",
       "      <td>0.502569</td>\n",
       "      <td>0.643939</td>\n",
       "      <td>0.575000</td>\n",
       "      <td>0.332200</td>\n",
       "      <td>0.0</td>\n",
       "      <td>0.625</td>\n",
       "      <td>0.590361</td>\n",
       "      <td>...</td>\n",
       "      <td>0.0</td>\n",
       "      <td>0.736842</td>\n",
       "      <td>0.000000</td>\n",
       "      <td>0.000000</td>\n",
       "      <td>0.000000</td>\n",
       "      <td>0.000000</td>\n",
       "      <td>0.000000</td>\n",
       "      <td>0.0</td>\n",
       "      <td>0.0</td>\n",
       "      <td>0.00000</td>\n",
       "    </tr>\n",
       "  </tbody>\n",
       "</table>\n",
       "<p>2 rows × 22 columns</p>\n",
       "</div>"
      ],
      "text/plain": [
       "     Year  Matches_Batted  Not_Outs  Runs_Scored  Highest_Score  Balls_Faced  \\\n",
       "0  0.6875        0.684211       0.3     0.010277       0.075758     0.004688   \n",
       "1  0.5000        0.736842       0.3     0.502569       0.643939     0.575000   \n",
       "\n",
       "   Batting_Strike_Rate  Centuries  Half_Centuries     Fours  ...  Stumpings  \\\n",
       "0             0.833325        0.0           0.000  0.012048  ...        0.0   \n",
       "1             0.332200        0.0           0.625  0.590361  ...        0.0   \n",
       "\n",
       "   Matches_Bowled  Balls_Bowled  Runs_Conceded  Wickets_Taken  Economy_Rate  \\\n",
       "0        0.684211      0.676471       0.618794       0.565217      0.210556   \n",
       "1        0.736842      0.000000       0.000000       0.000000      0.000000   \n",
       "\n",
       "   Bowling_Strike_Rate  Four_Wicket_Hauls  Five_Wicket_Hauls   zscore  \n",
       "0             0.186228                0.0                0.0  0.40625  \n",
       "1             0.000000                0.0                0.0  0.00000  \n",
       "\n",
       "[2 rows x 22 columns]"
      ]
     },
     "execution_count": 73,
     "metadata": {},
     "output_type": "execute_result"
    }
   ],
   "source": [
    "Xtrain_scaled_MinMax.head(2)"
   ]
  },
  {
   "cell_type": "code",
   "execution_count": 74,
   "metadata": {
    "colab": {
     "base_uri": "https://localhost:8080/",
     "height": 179
    },
    "id": "8kHByrqR1BTh",
    "outputId": "e6a56ce0-233f-4ac2-fca9-5c2d14b1c45e"
   },
   "outputs": [
    {
     "data": {
      "text/html": [
       "<div>\n",
       "<style scoped>\n",
       "    .dataframe tbody tr th:only-of-type {\n",
       "        vertical-align: middle;\n",
       "    }\n",
       "\n",
       "    .dataframe tbody tr th {\n",
       "        vertical-align: top;\n",
       "    }\n",
       "\n",
       "    .dataframe thead th {\n",
       "        text-align: right;\n",
       "    }\n",
       "</style>\n",
       "<table border=\"1\" class=\"dataframe\">\n",
       "  <thead>\n",
       "    <tr style=\"text-align: right;\">\n",
       "      <th></th>\n",
       "      <th>Year</th>\n",
       "      <th>Player_Name</th>\n",
       "      <th>Matches_Batted</th>\n",
       "      <th>Not_Outs</th>\n",
       "      <th>Runs_Scored</th>\n",
       "      <th>Highest_Score</th>\n",
       "      <th>Balls_Faced</th>\n",
       "      <th>Batting_Strike_Rate</th>\n",
       "      <th>Centuries</th>\n",
       "      <th>Half_Centuries</th>\n",
       "      <th>...</th>\n",
       "      <th>Matches_Bowled</th>\n",
       "      <th>Balls_Bowled</th>\n",
       "      <th>Runs_Conceded</th>\n",
       "      <th>Wickets_Taken</th>\n",
       "      <th>Best_Bowling_Match</th>\n",
       "      <th>Economy_Rate</th>\n",
       "      <th>Bowling_Strike_Rate</th>\n",
       "      <th>Four_Wicket_Hauls</th>\n",
       "      <th>Five_Wicket_Hauls</th>\n",
       "      <th>zscore</th>\n",
       "    </tr>\n",
       "  </thead>\n",
       "  <tbody>\n",
       "    <tr>\n",
       "      <th>197</th>\n",
       "      <td>2019</td>\n",
       "      <td>Ishant Sharma</td>\n",
       "      <td>13</td>\n",
       "      <td>3</td>\n",
       "      <td>10.0</td>\n",
       "      <td>10.0</td>\n",
       "      <td>3</td>\n",
       "      <td>333.33</td>\n",
       "      <td>0</td>\n",
       "      <td>0</td>\n",
       "      <td>...</td>\n",
       "      <td>13</td>\n",
       "      <td>276</td>\n",
       "      <td>349</td>\n",
       "      <td>13.0</td>\n",
       "      <td>3/38</td>\n",
       "      <td>7.58</td>\n",
       "      <td>21.23</td>\n",
       "      <td>0</td>\n",
       "      <td>0</td>\n",
       "      <td>1.342782</td>\n",
       "    </tr>\n",
       "    <tr>\n",
       "      <th>569</th>\n",
       "      <td>2016</td>\n",
       "      <td>Rohit Sharma</td>\n",
       "      <td>14</td>\n",
       "      <td>3</td>\n",
       "      <td>489.0</td>\n",
       "      <td>85.0</td>\n",
       "      <td>368</td>\n",
       "      <td>132.88</td>\n",
       "      <td>0</td>\n",
       "      <td>5</td>\n",
       "      <td>...</td>\n",
       "      <td>14</td>\n",
       "      <td>0</td>\n",
       "      <td>0</td>\n",
       "      <td>0.0</td>\n",
       "      <td>0</td>\n",
       "      <td>0.00</td>\n",
       "      <td>0.00</td>\n",
       "      <td>0</td>\n",
       "      <td>0</td>\n",
       "      <td>-0.701096</td>\n",
       "    </tr>\n",
       "  </tbody>\n",
       "</table>\n",
       "<p>2 rows × 24 columns</p>\n",
       "</div>"
      ],
      "text/plain": [
       "     Year    Player_Name  Matches_Batted  Not_Outs  Runs_Scored  \\\n",
       "197  2019  Ishant Sharma              13         3         10.0   \n",
       "569  2016   Rohit Sharma              14         3        489.0   \n",
       "\n",
       "     Highest_Score  Balls_Faced  Batting_Strike_Rate  Centuries  \\\n",
       "197           10.0            3               333.33          0   \n",
       "569           85.0          368               132.88          0   \n",
       "\n",
       "     Half_Centuries  ...  Matches_Bowled  Balls_Bowled  Runs_Conceded  \\\n",
       "197               0  ...              13           276            349   \n",
       "569               5  ...              14             0              0   \n",
       "\n",
       "     Wickets_Taken  Best_Bowling_Match  Economy_Rate  Bowling_Strike_Rate  \\\n",
       "197           13.0                3/38          7.58                21.23   \n",
       "569            0.0                   0          0.00                 0.00   \n",
       "\n",
       "     Four_Wicket_Hauls Five_Wicket_Hauls    zscore  \n",
       "197                  0                 0  1.342782  \n",
       "569                  0                 0 -0.701096  \n",
       "\n",
       "[2 rows x 24 columns]"
      ]
     },
     "execution_count": 74,
     "metadata": {},
     "output_type": "execute_result"
    }
   ],
   "source": [
    "X_train.head(2)"
   ]
  },
  {
   "cell_type": "code",
   "execution_count": 75,
   "metadata": {
    "colab": {
     "base_uri": "https://localhost:8080/",
     "height": 350
    },
    "id": "0jjGOVvO3mYC",
    "outputId": "c363d660-64bc-4834-b518-e87ea13d25e1"
   },
   "outputs": [
    {
     "data": {
      "text/html": [
       "<div>\n",
       "<style scoped>\n",
       "    .dataframe tbody tr th:only-of-type {\n",
       "        vertical-align: middle;\n",
       "    }\n",
       "\n",
       "    .dataframe tbody tr th {\n",
       "        vertical-align: top;\n",
       "    }\n",
       "\n",
       "    .dataframe thead th {\n",
       "        text-align: right;\n",
       "    }\n",
       "</style>\n",
       "<table border=\"1\" class=\"dataframe\">\n",
       "  <thead>\n",
       "    <tr style=\"text-align: right;\">\n",
       "      <th></th>\n",
       "      <th>Year</th>\n",
       "      <th>Matches_Batted</th>\n",
       "      <th>Not_Outs</th>\n",
       "      <th>Runs_Scored</th>\n",
       "      <th>Highest_Score</th>\n",
       "      <th>Balls_Faced</th>\n",
       "      <th>Batting_Strike_Rate</th>\n",
       "      <th>Centuries</th>\n",
       "      <th>Half_Centuries</th>\n",
       "      <th>Fours</th>\n",
       "      <th>...</th>\n",
       "      <th>Stumpings</th>\n",
       "      <th>Matches_Bowled</th>\n",
       "      <th>Balls_Bowled</th>\n",
       "      <th>Runs_Conceded</th>\n",
       "      <th>Wickets_Taken</th>\n",
       "      <th>Economy_Rate</th>\n",
       "      <th>Bowling_Strike_Rate</th>\n",
       "      <th>Four_Wicket_Hauls</th>\n",
       "      <th>Five_Wicket_Hauls</th>\n",
       "      <th>zscore</th>\n",
       "    </tr>\n",
       "  </thead>\n",
       "  <tbody>\n",
       "    <tr>\n",
       "      <th>count</th>\n",
       "      <td>904.000000</td>\n",
       "      <td>904.000000</td>\n",
       "      <td>904.000000</td>\n",
       "      <td>904.000000</td>\n",
       "      <td>904.000000</td>\n",
       "      <td>904.000000</td>\n",
       "      <td>904.000000</td>\n",
       "      <td>904.000000</td>\n",
       "      <td>904.000000</td>\n",
       "      <td>904.000000</td>\n",
       "      <td>...</td>\n",
       "      <td>904.000000</td>\n",
       "      <td>904.000000</td>\n",
       "      <td>904.000000</td>\n",
       "      <td>904.000000</td>\n",
       "      <td>904.000000</td>\n",
       "      <td>904.000000</td>\n",
       "      <td>904.000000</td>\n",
       "      <td>904.000000</td>\n",
       "      <td>904.000000</td>\n",
       "      <td>904.000000</td>\n",
       "    </tr>\n",
       "    <tr>\n",
       "      <th>mean</th>\n",
       "      <td>0.699668</td>\n",
       "      <td>0.477352</td>\n",
       "      <td>0.149336</td>\n",
       "      <td>0.133776</td>\n",
       "      <td>0.248567</td>\n",
       "      <td>0.153061</td>\n",
       "      <td>0.254954</td>\n",
       "      <td>0.011062</td>\n",
       "      <td>0.089187</td>\n",
       "      <td>0.138648</td>\n",
       "      <td>...</td>\n",
       "      <td>0.023783</td>\n",
       "      <td>0.478749</td>\n",
       "      <td>0.231178</td>\n",
       "      <td>0.225495</td>\n",
       "      <td>0.184686</td>\n",
       "      <td>0.152687</td>\n",
       "      <td>0.112778</td>\n",
       "      <td>0.026549</td>\n",
       "      <td>0.018805</td>\n",
       "      <td>0.140902</td>\n",
       "    </tr>\n",
       "    <tr>\n",
       "      <th>std</th>\n",
       "      <td>0.251739</td>\n",
       "      <td>0.290937</td>\n",
       "      <td>0.170205</td>\n",
       "      <td>0.172660</td>\n",
       "      <td>0.244205</td>\n",
       "      <td>0.190012</td>\n",
       "      <td>0.145384</td>\n",
       "      <td>0.068720</td>\n",
       "      <td>0.168086</td>\n",
       "      <td>0.194453</td>\n",
       "      <td>...</td>\n",
       "      <td>0.109051</td>\n",
       "      <td>0.291127</td>\n",
       "      <td>0.294546</td>\n",
       "      <td>0.278020</td>\n",
       "      <td>0.261729</td>\n",
       "      <td>0.128004</td>\n",
       "      <td>0.132974</td>\n",
       "      <td>0.104215</td>\n",
       "      <td>0.135912</td>\n",
       "      <td>0.201017</td>\n",
       "    </tr>\n",
       "    <tr>\n",
       "      <th>min</th>\n",
       "      <td>0.000000</td>\n",
       "      <td>0.000000</td>\n",
       "      <td>0.000000</td>\n",
       "      <td>0.000000</td>\n",
       "      <td>0.000000</td>\n",
       "      <td>0.000000</td>\n",
       "      <td>0.000000</td>\n",
       "      <td>0.000000</td>\n",
       "      <td>0.000000</td>\n",
       "      <td>0.000000</td>\n",
       "      <td>...</td>\n",
       "      <td>0.000000</td>\n",
       "      <td>0.000000</td>\n",
       "      <td>0.000000</td>\n",
       "      <td>0.000000</td>\n",
       "      <td>0.000000</td>\n",
       "      <td>0.000000</td>\n",
       "      <td>0.000000</td>\n",
       "      <td>0.000000</td>\n",
       "      <td>0.000000</td>\n",
       "      <td>0.000000</td>\n",
       "    </tr>\n",
       "    <tr>\n",
       "      <th>25%</th>\n",
       "      <td>0.562500</td>\n",
       "      <td>0.157895</td>\n",
       "      <td>0.000000</td>\n",
       "      <td>0.005139</td>\n",
       "      <td>0.030303</td>\n",
       "      <td>0.010547</td>\n",
       "      <td>0.166650</td>\n",
       "      <td>0.000000</td>\n",
       "      <td>0.000000</td>\n",
       "      <td>0.000000</td>\n",
       "      <td>...</td>\n",
       "      <td>0.000000</td>\n",
       "      <td>0.157895</td>\n",
       "      <td>0.000000</td>\n",
       "      <td>0.000000</td>\n",
       "      <td>0.000000</td>\n",
       "      <td>0.000000</td>\n",
       "      <td>0.000000</td>\n",
       "      <td>0.000000</td>\n",
       "      <td>0.000000</td>\n",
       "      <td>0.000000</td>\n",
       "    </tr>\n",
       "    <tr>\n",
       "      <th>50%</th>\n",
       "      <td>0.750000</td>\n",
       "      <td>0.526316</td>\n",
       "      <td>0.100000</td>\n",
       "      <td>0.043165</td>\n",
       "      <td>0.166667</td>\n",
       "      <td>0.058594</td>\n",
       "      <td>0.295588</td>\n",
       "      <td>0.000000</td>\n",
       "      <td>0.000000</td>\n",
       "      <td>0.036145</td>\n",
       "      <td>...</td>\n",
       "      <td>0.000000</td>\n",
       "      <td>0.526316</td>\n",
       "      <td>0.058824</td>\n",
       "      <td>0.078901</td>\n",
       "      <td>0.043478</td>\n",
       "      <td>0.202222</td>\n",
       "      <td>0.105263</td>\n",
       "      <td>0.000000</td>\n",
       "      <td>0.000000</td>\n",
       "      <td>0.031250</td>\n",
       "    </tr>\n",
       "    <tr>\n",
       "      <th>75%</th>\n",
       "      <td>0.875000</td>\n",
       "      <td>0.736842</td>\n",
       "      <td>0.200000</td>\n",
       "      <td>0.231501</td>\n",
       "      <td>0.439394</td>\n",
       "      <td>0.259766</td>\n",
       "      <td>0.347650</td>\n",
       "      <td>0.000000</td>\n",
       "      <td>0.125000</td>\n",
       "      <td>0.219880</td>\n",
       "      <td>...</td>\n",
       "      <td>0.000000</td>\n",
       "      <td>0.736842</td>\n",
       "      <td>0.441176</td>\n",
       "      <td>0.431294</td>\n",
       "      <td>0.304348</td>\n",
       "      <td>0.245903</td>\n",
       "      <td>0.192982</td>\n",
       "      <td>0.000000</td>\n",
       "      <td>0.000000</td>\n",
       "      <td>0.250000</td>\n",
       "    </tr>\n",
       "    <tr>\n",
       "      <th>max</th>\n",
       "      <td>1.000000</td>\n",
       "      <td>1.000000</td>\n",
       "      <td>1.000000</td>\n",
       "      <td>1.000000</td>\n",
       "      <td>1.000000</td>\n",
       "      <td>1.000000</td>\n",
       "      <td>1.000000</td>\n",
       "      <td>1.000000</td>\n",
       "      <td>1.000000</td>\n",
       "      <td>1.000000</td>\n",
       "      <td>...</td>\n",
       "      <td>1.000000</td>\n",
       "      <td>1.000000</td>\n",
       "      <td>1.000000</td>\n",
       "      <td>1.000000</td>\n",
       "      <td>1.000000</td>\n",
       "      <td>1.000000</td>\n",
       "      <td>1.000000</td>\n",
       "      <td>1.000000</td>\n",
       "      <td>1.000000</td>\n",
       "      <td>1.000000</td>\n",
       "    </tr>\n",
       "  </tbody>\n",
       "</table>\n",
       "<p>8 rows × 22 columns</p>\n",
       "</div>"
      ],
      "text/plain": [
       "             Year  Matches_Batted    Not_Outs  Runs_Scored  Highest_Score  \\\n",
       "count  904.000000      904.000000  904.000000   904.000000     904.000000   \n",
       "mean     0.699668        0.477352    0.149336     0.133776       0.248567   \n",
       "std      0.251739        0.290937    0.170205     0.172660       0.244205   \n",
       "min      0.000000        0.000000    0.000000     0.000000       0.000000   \n",
       "25%      0.562500        0.157895    0.000000     0.005139       0.030303   \n",
       "50%      0.750000        0.526316    0.100000     0.043165       0.166667   \n",
       "75%      0.875000        0.736842    0.200000     0.231501       0.439394   \n",
       "max      1.000000        1.000000    1.000000     1.000000       1.000000   \n",
       "\n",
       "       Balls_Faced  Batting_Strike_Rate   Centuries  Half_Centuries  \\\n",
       "count   904.000000           904.000000  904.000000      904.000000   \n",
       "mean      0.153061             0.254954    0.011062        0.089187   \n",
       "std       0.190012             0.145384    0.068720        0.168086   \n",
       "min       0.000000             0.000000    0.000000        0.000000   \n",
       "25%       0.010547             0.166650    0.000000        0.000000   \n",
       "50%       0.058594             0.295588    0.000000        0.000000   \n",
       "75%       0.259766             0.347650    0.000000        0.125000   \n",
       "max       1.000000             1.000000    1.000000        1.000000   \n",
       "\n",
       "            Fours  ...   Stumpings  Matches_Bowled  Balls_Bowled  \\\n",
       "count  904.000000  ...  904.000000      904.000000    904.000000   \n",
       "mean     0.138648  ...    0.023783        0.478749      0.231178   \n",
       "std      0.194453  ...    0.109051        0.291127      0.294546   \n",
       "min      0.000000  ...    0.000000        0.000000      0.000000   \n",
       "25%      0.000000  ...    0.000000        0.157895      0.000000   \n",
       "50%      0.036145  ...    0.000000        0.526316      0.058824   \n",
       "75%      0.219880  ...    0.000000        0.736842      0.441176   \n",
       "max      1.000000  ...    1.000000        1.000000      1.000000   \n",
       "\n",
       "       Runs_Conceded  Wickets_Taken  Economy_Rate  Bowling_Strike_Rate  \\\n",
       "count     904.000000     904.000000    904.000000           904.000000   \n",
       "mean        0.225495       0.184686      0.152687             0.112778   \n",
       "std         0.278020       0.261729      0.128004             0.132974   \n",
       "min         0.000000       0.000000      0.000000             0.000000   \n",
       "25%         0.000000       0.000000      0.000000             0.000000   \n",
       "50%         0.078901       0.043478      0.202222             0.105263   \n",
       "75%         0.431294       0.304348      0.245903             0.192982   \n",
       "max         1.000000       1.000000      1.000000             1.000000   \n",
       "\n",
       "       Four_Wicket_Hauls  Five_Wicket_Hauls      zscore  \n",
       "count         904.000000         904.000000  904.000000  \n",
       "mean            0.026549           0.018805    0.140902  \n",
       "std             0.104215           0.135912    0.201017  \n",
       "min             0.000000           0.000000    0.000000  \n",
       "25%             0.000000           0.000000    0.000000  \n",
       "50%             0.000000           0.000000    0.031250  \n",
       "75%             0.000000           0.000000    0.250000  \n",
       "max             1.000000           1.000000    1.000000  \n",
       "\n",
       "[8 rows x 22 columns]"
      ]
     },
     "execution_count": 75,
     "metadata": {},
     "output_type": "execute_result"
    }
   ],
   "source": [
    "Xtrain_scaled_MinMax.describe()"
   ]
  },
  {
   "cell_type": "code",
   "execution_count": 76,
   "metadata": {
    "id": "wbJcLbJ7-B24"
   },
   "outputs": [],
   "source": [
    "# 2. z-score Scaling (standardization)\n",
    "from sklearn.preprocessing import StandardScaler\n",
    "SSscaler = StandardScaler()\n",
    "Xtrain_scaled_StandardScalar = SSscaler.fit_transform(X_train[num_cols])\n",
    "Xval_scaled_StandardScalar = SSscaler.transform(x_val[num_cols])"
   ]
  },
  {
   "cell_type": "code",
   "execution_count": 77,
   "metadata": {
    "id": "1qrXbnxQvz68"
   },
   "outputs": [],
   "source": [
    "Xtrain_scaled_StandardScalar=pd.DataFrame(Xtrain_scaled_StandardScalar,columns=X_train[num_cols].columns)\n",
    "Xval_scaled_StandardScalar=pd.DataFrame(Xval_scaled_StandardScalar,columns=x_val[num_cols].columns)"
   ]
  },
  {
   "cell_type": "code",
   "execution_count": 78,
   "metadata": {
    "colab": {
     "base_uri": "https://localhost:8080/",
     "height": 350
    },
    "id": "19AKChcovDPl",
    "outputId": "acdfa813-f0df-4243-98cb-192f4732b570"
   },
   "outputs": [
    {
     "data": {
      "text/html": [
       "<div>\n",
       "<style scoped>\n",
       "    .dataframe tbody tr th:only-of-type {\n",
       "        vertical-align: middle;\n",
       "    }\n",
       "\n",
       "    .dataframe tbody tr th {\n",
       "        vertical-align: top;\n",
       "    }\n",
       "\n",
       "    .dataframe thead th {\n",
       "        text-align: right;\n",
       "    }\n",
       "</style>\n",
       "<table border=\"1\" class=\"dataframe\">\n",
       "  <thead>\n",
       "    <tr style=\"text-align: right;\">\n",
       "      <th></th>\n",
       "      <th>Year</th>\n",
       "      <th>Matches_Batted</th>\n",
       "      <th>Not_Outs</th>\n",
       "      <th>Runs_Scored</th>\n",
       "      <th>Highest_Score</th>\n",
       "      <th>Balls_Faced</th>\n",
       "      <th>Batting_Strike_Rate</th>\n",
       "      <th>Centuries</th>\n",
       "      <th>Half_Centuries</th>\n",
       "      <th>Fours</th>\n",
       "      <th>...</th>\n",
       "      <th>Stumpings</th>\n",
       "      <th>Matches_Bowled</th>\n",
       "      <th>Balls_Bowled</th>\n",
       "      <th>Runs_Conceded</th>\n",
       "      <th>Wickets_Taken</th>\n",
       "      <th>Economy_Rate</th>\n",
       "      <th>Bowling_Strike_Rate</th>\n",
       "      <th>Four_Wicket_Hauls</th>\n",
       "      <th>Five_Wicket_Hauls</th>\n",
       "      <th>zscore</th>\n",
       "    </tr>\n",
       "  </thead>\n",
       "  <tbody>\n",
       "    <tr>\n",
       "      <th>count</th>\n",
       "      <td>904.00</td>\n",
       "      <td>904.00</td>\n",
       "      <td>904.00</td>\n",
       "      <td>904.00</td>\n",
       "      <td>904.00</td>\n",
       "      <td>904.00</td>\n",
       "      <td>904.00</td>\n",
       "      <td>904.00</td>\n",
       "      <td>904.00</td>\n",
       "      <td>904.00</td>\n",
       "      <td>...</td>\n",
       "      <td>904.00</td>\n",
       "      <td>904.00</td>\n",
       "      <td>904.00</td>\n",
       "      <td>904.00</td>\n",
       "      <td>904.00</td>\n",
       "      <td>904.00</td>\n",
       "      <td>904.00</td>\n",
       "      <td>904.00</td>\n",
       "      <td>904.00</td>\n",
       "      <td>904.00</td>\n",
       "    </tr>\n",
       "    <tr>\n",
       "      <th>mean</th>\n",
       "      <td>-0.00</td>\n",
       "      <td>0.00</td>\n",
       "      <td>-0.00</td>\n",
       "      <td>-0.00</td>\n",
       "      <td>-0.00</td>\n",
       "      <td>-0.00</td>\n",
       "      <td>0.00</td>\n",
       "      <td>0.00</td>\n",
       "      <td>-0.00</td>\n",
       "      <td>-0.00</td>\n",
       "      <td>...</td>\n",
       "      <td>0.00</td>\n",
       "      <td>-0.00</td>\n",
       "      <td>-0.00</td>\n",
       "      <td>0.00</td>\n",
       "      <td>-0.00</td>\n",
       "      <td>-0.00</td>\n",
       "      <td>-0.00</td>\n",
       "      <td>0.00</td>\n",
       "      <td>-0.00</td>\n",
       "      <td>0.00</td>\n",
       "    </tr>\n",
       "    <tr>\n",
       "      <th>std</th>\n",
       "      <td>1.00</td>\n",
       "      <td>1.00</td>\n",
       "      <td>1.00</td>\n",
       "      <td>1.00</td>\n",
       "      <td>1.00</td>\n",
       "      <td>1.00</td>\n",
       "      <td>1.00</td>\n",
       "      <td>1.00</td>\n",
       "      <td>1.00</td>\n",
       "      <td>1.00</td>\n",
       "      <td>...</td>\n",
       "      <td>1.00</td>\n",
       "      <td>1.00</td>\n",
       "      <td>1.00</td>\n",
       "      <td>1.00</td>\n",
       "      <td>1.00</td>\n",
       "      <td>1.00</td>\n",
       "      <td>1.00</td>\n",
       "      <td>1.00</td>\n",
       "      <td>1.00</td>\n",
       "      <td>1.00</td>\n",
       "    </tr>\n",
       "    <tr>\n",
       "      <th>min</th>\n",
       "      <td>-2.78</td>\n",
       "      <td>-1.64</td>\n",
       "      <td>-0.88</td>\n",
       "      <td>-0.78</td>\n",
       "      <td>-1.02</td>\n",
       "      <td>-0.81</td>\n",
       "      <td>-1.75</td>\n",
       "      <td>-0.16</td>\n",
       "      <td>-0.53</td>\n",
       "      <td>-0.71</td>\n",
       "      <td>...</td>\n",
       "      <td>-0.22</td>\n",
       "      <td>-1.65</td>\n",
       "      <td>-0.79</td>\n",
       "      <td>-0.81</td>\n",
       "      <td>-0.71</td>\n",
       "      <td>-1.19</td>\n",
       "      <td>-0.85</td>\n",
       "      <td>-0.25</td>\n",
       "      <td>-0.14</td>\n",
       "      <td>-0.70</td>\n",
       "    </tr>\n",
       "    <tr>\n",
       "      <th>25%</th>\n",
       "      <td>-0.55</td>\n",
       "      <td>-1.10</td>\n",
       "      <td>-0.88</td>\n",
       "      <td>-0.75</td>\n",
       "      <td>-0.89</td>\n",
       "      <td>-0.75</td>\n",
       "      <td>-0.61</td>\n",
       "      <td>-0.16</td>\n",
       "      <td>-0.53</td>\n",
       "      <td>-0.71</td>\n",
       "      <td>...</td>\n",
       "      <td>-0.22</td>\n",
       "      <td>-1.10</td>\n",
       "      <td>-0.79</td>\n",
       "      <td>-0.81</td>\n",
       "      <td>-0.71</td>\n",
       "      <td>-1.19</td>\n",
       "      <td>-0.85</td>\n",
       "      <td>-0.25</td>\n",
       "      <td>-0.14</td>\n",
       "      <td>-0.70</td>\n",
       "    </tr>\n",
       "    <tr>\n",
       "      <th>50%</th>\n",
       "      <td>0.20</td>\n",
       "      <td>0.17</td>\n",
       "      <td>-0.29</td>\n",
       "      <td>-0.53</td>\n",
       "      <td>-0.34</td>\n",
       "      <td>-0.50</td>\n",
       "      <td>0.28</td>\n",
       "      <td>-0.16</td>\n",
       "      <td>-0.53</td>\n",
       "      <td>-0.53</td>\n",
       "      <td>...</td>\n",
       "      <td>-0.22</td>\n",
       "      <td>0.16</td>\n",
       "      <td>-0.59</td>\n",
       "      <td>-0.53</td>\n",
       "      <td>-0.54</td>\n",
       "      <td>0.39</td>\n",
       "      <td>-0.06</td>\n",
       "      <td>-0.25</td>\n",
       "      <td>-0.14</td>\n",
       "      <td>-0.55</td>\n",
       "    </tr>\n",
       "    <tr>\n",
       "      <th>75%</th>\n",
       "      <td>0.70</td>\n",
       "      <td>0.89</td>\n",
       "      <td>0.30</td>\n",
       "      <td>0.57</td>\n",
       "      <td>0.78</td>\n",
       "      <td>0.56</td>\n",
       "      <td>0.64</td>\n",
       "      <td>-0.16</td>\n",
       "      <td>0.21</td>\n",
       "      <td>0.42</td>\n",
       "      <td>...</td>\n",
       "      <td>-0.22</td>\n",
       "      <td>0.89</td>\n",
       "      <td>0.71</td>\n",
       "      <td>0.74</td>\n",
       "      <td>0.46</td>\n",
       "      <td>0.73</td>\n",
       "      <td>0.60</td>\n",
       "      <td>-0.25</td>\n",
       "      <td>-0.14</td>\n",
       "      <td>0.54</td>\n",
       "    </tr>\n",
       "    <tr>\n",
       "      <th>max</th>\n",
       "      <td>1.19</td>\n",
       "      <td>1.80</td>\n",
       "      <td>5.00</td>\n",
       "      <td>5.02</td>\n",
       "      <td>3.08</td>\n",
       "      <td>4.46</td>\n",
       "      <td>5.13</td>\n",
       "      <td>14.40</td>\n",
       "      <td>5.42</td>\n",
       "      <td>4.43</td>\n",
       "      <td>...</td>\n",
       "      <td>8.96</td>\n",
       "      <td>1.79</td>\n",
       "      <td>2.61</td>\n",
       "      <td>2.79</td>\n",
       "      <td>3.12</td>\n",
       "      <td>6.62</td>\n",
       "      <td>6.68</td>\n",
       "      <td>9.35</td>\n",
       "      <td>7.22</td>\n",
       "      <td>4.28</td>\n",
       "    </tr>\n",
       "  </tbody>\n",
       "</table>\n",
       "<p>8 rows × 22 columns</p>\n",
       "</div>"
      ],
      "text/plain": [
       "         Year  Matches_Batted  Not_Outs  Runs_Scored  Highest_Score  \\\n",
       "count  904.00          904.00    904.00       904.00         904.00   \n",
       "mean    -0.00            0.00     -0.00        -0.00          -0.00   \n",
       "std      1.00            1.00      1.00         1.00           1.00   \n",
       "min     -2.78           -1.64     -0.88        -0.78          -1.02   \n",
       "25%     -0.55           -1.10     -0.88        -0.75          -0.89   \n",
       "50%      0.20            0.17     -0.29        -0.53          -0.34   \n",
       "75%      0.70            0.89      0.30         0.57           0.78   \n",
       "max      1.19            1.80      5.00         5.02           3.08   \n",
       "\n",
       "       Balls_Faced  Batting_Strike_Rate  Centuries  Half_Centuries   Fours  \\\n",
       "count       904.00               904.00     904.00          904.00  904.00   \n",
       "mean         -0.00                 0.00       0.00           -0.00   -0.00   \n",
       "std           1.00                 1.00       1.00            1.00    1.00   \n",
       "min          -0.81                -1.75      -0.16           -0.53   -0.71   \n",
       "25%          -0.75                -0.61      -0.16           -0.53   -0.71   \n",
       "50%          -0.50                 0.28      -0.16           -0.53   -0.53   \n",
       "75%           0.56                 0.64      -0.16            0.21    0.42   \n",
       "max           4.46                 5.13      14.40            5.42    4.43   \n",
       "\n",
       "       ...  Stumpings  Matches_Bowled  Balls_Bowled  Runs_Conceded  \\\n",
       "count  ...     904.00          904.00        904.00         904.00   \n",
       "mean   ...       0.00           -0.00         -0.00           0.00   \n",
       "std    ...       1.00            1.00          1.00           1.00   \n",
       "min    ...      -0.22           -1.65         -0.79          -0.81   \n",
       "25%    ...      -0.22           -1.10         -0.79          -0.81   \n",
       "50%    ...      -0.22            0.16         -0.59          -0.53   \n",
       "75%    ...      -0.22            0.89          0.71           0.74   \n",
       "max    ...       8.96            1.79          2.61           2.79   \n",
       "\n",
       "       Wickets_Taken  Economy_Rate  Bowling_Strike_Rate  Four_Wicket_Hauls  \\\n",
       "count         904.00        904.00               904.00             904.00   \n",
       "mean           -0.00         -0.00                -0.00               0.00   \n",
       "std             1.00          1.00                 1.00               1.00   \n",
       "min            -0.71         -1.19                -0.85              -0.25   \n",
       "25%            -0.71         -1.19                -0.85              -0.25   \n",
       "50%            -0.54          0.39                -0.06              -0.25   \n",
       "75%             0.46          0.73                 0.60              -0.25   \n",
       "max             3.12          6.62                 6.68               9.35   \n",
       "\n",
       "       Five_Wicket_Hauls  zscore  \n",
       "count             904.00  904.00  \n",
       "mean               -0.00    0.00  \n",
       "std                 1.00    1.00  \n",
       "min                -0.14   -0.70  \n",
       "25%                -0.14   -0.70  \n",
       "50%                -0.14   -0.55  \n",
       "75%                -0.14    0.54  \n",
       "max                 7.22    4.28  \n",
       "\n",
       "[8 rows x 22 columns]"
      ]
     },
     "execution_count": 78,
     "metadata": {},
     "output_type": "execute_result"
    }
   ],
   "source": [
    "round(Xtrain_scaled_StandardScalar.describe(),2)"
   ]
  },
  {
   "cell_type": "code",
   "execution_count": 79,
   "metadata": {
    "colab": {
     "base_uri": "https://localhost:8080/",
     "height": 161
    },
    "id": "mX3U1pemv9Kb",
    "outputId": "820d750f-0298-4925-c58d-3edc71694d17"
   },
   "outputs": [
    {
     "data": {
      "text/html": [
       "<div>\n",
       "<style scoped>\n",
       "    .dataframe tbody tr th:only-of-type {\n",
       "        vertical-align: middle;\n",
       "    }\n",
       "\n",
       "    .dataframe tbody tr th {\n",
       "        vertical-align: top;\n",
       "    }\n",
       "\n",
       "    .dataframe thead th {\n",
       "        text-align: right;\n",
       "    }\n",
       "</style>\n",
       "<table border=\"1\" class=\"dataframe\">\n",
       "  <thead>\n",
       "    <tr style=\"text-align: right;\">\n",
       "      <th></th>\n",
       "      <th>Year</th>\n",
       "      <th>Matches_Batted</th>\n",
       "      <th>Not_Outs</th>\n",
       "      <th>Runs_Scored</th>\n",
       "      <th>Highest_Score</th>\n",
       "      <th>Balls_Faced</th>\n",
       "      <th>Batting_Strike_Rate</th>\n",
       "      <th>Centuries</th>\n",
       "      <th>Half_Centuries</th>\n",
       "      <th>Fours</th>\n",
       "      <th>...</th>\n",
       "      <th>Stumpings</th>\n",
       "      <th>Matches_Bowled</th>\n",
       "      <th>Balls_Bowled</th>\n",
       "      <th>Runs_Conceded</th>\n",
       "      <th>Wickets_Taken</th>\n",
       "      <th>Economy_Rate</th>\n",
       "      <th>Bowling_Strike_Rate</th>\n",
       "      <th>Four_Wicket_Hauls</th>\n",
       "      <th>Five_Wicket_Hauls</th>\n",
       "      <th>zscore</th>\n",
       "    </tr>\n",
       "  </thead>\n",
       "  <tbody>\n",
       "    <tr>\n",
       "      <th>197</th>\n",
       "      <td>2019</td>\n",
       "      <td>13</td>\n",
       "      <td>3</td>\n",
       "      <td>10.0</td>\n",
       "      <td>10.0</td>\n",
       "      <td>3</td>\n",
       "      <td>333.33</td>\n",
       "      <td>0</td>\n",
       "      <td>0</td>\n",
       "      <td>1</td>\n",
       "      <td>...</td>\n",
       "      <td>0</td>\n",
       "      <td>13</td>\n",
       "      <td>276</td>\n",
       "      <td>349</td>\n",
       "      <td>13.0</td>\n",
       "      <td>7.58</td>\n",
       "      <td>21.23</td>\n",
       "      <td>0</td>\n",
       "      <td>0</td>\n",
       "      <td>1.342782</td>\n",
       "    </tr>\n",
       "    <tr>\n",
       "      <th>569</th>\n",
       "      <td>2016</td>\n",
       "      <td>14</td>\n",
       "      <td>3</td>\n",
       "      <td>489.0</td>\n",
       "      <td>85.0</td>\n",
       "      <td>368</td>\n",
       "      <td>132.88</td>\n",
       "      <td>0</td>\n",
       "      <td>5</td>\n",
       "      <td>49</td>\n",
       "      <td>...</td>\n",
       "      <td>0</td>\n",
       "      <td>14</td>\n",
       "      <td>0</td>\n",
       "      <td>0</td>\n",
       "      <td>0.0</td>\n",
       "      <td>0.00</td>\n",
       "      <td>0.00</td>\n",
       "      <td>0</td>\n",
       "      <td>0</td>\n",
       "      <td>-0.701096</td>\n",
       "    </tr>\n",
       "  </tbody>\n",
       "</table>\n",
       "<p>2 rows × 22 columns</p>\n",
       "</div>"
      ],
      "text/plain": [
       "     Year  Matches_Batted  Not_Outs  Runs_Scored  Highest_Score  Balls_Faced  \\\n",
       "197  2019              13         3         10.0           10.0            3   \n",
       "569  2016              14         3        489.0           85.0          368   \n",
       "\n",
       "     Batting_Strike_Rate  Centuries  Half_Centuries  Fours  ...  Stumpings  \\\n",
       "197               333.33          0               0      1  ...          0   \n",
       "569               132.88          0               5     49  ...          0   \n",
       "\n",
       "     Matches_Bowled  Balls_Bowled  Runs_Conceded  Wickets_Taken  Economy_Rate  \\\n",
       "197              13           276            349           13.0          7.58   \n",
       "569              14             0              0            0.0          0.00   \n",
       "\n",
       "     Bowling_Strike_Rate  Four_Wicket_Hauls  Five_Wicket_Hauls    zscore  \n",
       "197                21.23                  0                  0  1.342782  \n",
       "569                 0.00                  0                  0 -0.701096  \n",
       "\n",
       "[2 rows x 22 columns]"
      ]
     },
     "execution_count": 79,
     "metadata": {},
     "output_type": "execute_result"
    }
   ],
   "source": [
    "X_train[num_cols].head(2)"
   ]
  },
  {
   "cell_type": "code",
   "execution_count": 80,
   "metadata": {
    "colab": {
     "base_uri": "https://localhost:8080/",
     "height": 161
    },
    "id": "pv2a38_kv9MY",
    "outputId": "a6adb8e3-4768-4c4d-cdc3-e0bf1ccfea8d"
   },
   "outputs": [
    {
     "data": {
      "text/html": [
       "<div>\n",
       "<style scoped>\n",
       "    .dataframe tbody tr th:only-of-type {\n",
       "        vertical-align: middle;\n",
       "    }\n",
       "\n",
       "    .dataframe tbody tr th {\n",
       "        vertical-align: top;\n",
       "    }\n",
       "\n",
       "    .dataframe thead th {\n",
       "        text-align: right;\n",
       "    }\n",
       "</style>\n",
       "<table border=\"1\" class=\"dataframe\">\n",
       "  <thead>\n",
       "    <tr style=\"text-align: right;\">\n",
       "      <th></th>\n",
       "      <th>Year</th>\n",
       "      <th>Matches_Batted</th>\n",
       "      <th>Not_Outs</th>\n",
       "      <th>Runs_Scored</th>\n",
       "      <th>Highest_Score</th>\n",
       "      <th>Balls_Faced</th>\n",
       "      <th>Batting_Strike_Rate</th>\n",
       "      <th>Centuries</th>\n",
       "      <th>Half_Centuries</th>\n",
       "      <th>Fours</th>\n",
       "      <th>...</th>\n",
       "      <th>Stumpings</th>\n",
       "      <th>Matches_Bowled</th>\n",
       "      <th>Balls_Bowled</th>\n",
       "      <th>Runs_Conceded</th>\n",
       "      <th>Wickets_Taken</th>\n",
       "      <th>Economy_Rate</th>\n",
       "      <th>Bowling_Strike_Rate</th>\n",
       "      <th>Four_Wicket_Hauls</th>\n",
       "      <th>Five_Wicket_Hauls</th>\n",
       "      <th>zscore</th>\n",
       "    </tr>\n",
       "  </thead>\n",
       "  <tbody>\n",
       "    <tr>\n",
       "      <th>0</th>\n",
       "      <td>-0.048363</td>\n",
       "      <td>0.711401</td>\n",
       "      <td>0.885681</td>\n",
       "      <td>-0.715662</td>\n",
       "      <td>-0.708032</td>\n",
       "      <td>-0.781296</td>\n",
       "      <td>3.980434</td>\n",
       "      <td>-0.16106</td>\n",
       "      <td>-0.530896</td>\n",
       "      <td>-0.651413</td>\n",
       "      <td>...</td>\n",
       "      <td>-0.218212</td>\n",
       "      <td>0.706135</td>\n",
       "      <td>1.512630</td>\n",
       "      <td>1.415425</td>\n",
       "      <td>1.454718</td>\n",
       "      <td>0.452337</td>\n",
       "      <td>0.552665</td>\n",
       "      <td>-0.25489</td>\n",
       "      <td>-0.13844</td>\n",
       "      <td>1.320762</td>\n",
       "    </tr>\n",
       "    <tr>\n",
       "      <th>1</th>\n",
       "      <td>-0.793593</td>\n",
       "      <td>0.892405</td>\n",
       "      <td>0.885681</td>\n",
       "      <td>2.137131</td>\n",
       "      <td>1.619913</td>\n",
       "      <td>2.221819</td>\n",
       "      <td>0.531616</td>\n",
       "      <td>-0.16106</td>\n",
       "      <td>3.189493</td>\n",
       "      <td>2.324281</td>\n",
       "      <td>...</td>\n",
       "      <td>-0.218212</td>\n",
       "      <td>0.887021</td>\n",
       "      <td>-0.785299</td>\n",
       "      <td>-0.811523</td>\n",
       "      <td>-0.706031</td>\n",
       "      <td>-1.193492</td>\n",
       "      <td>-0.848591</td>\n",
       "      <td>-0.25489</td>\n",
       "      <td>-0.13844</td>\n",
       "      <td>-0.701332</td>\n",
       "    </tr>\n",
       "  </tbody>\n",
       "</table>\n",
       "<p>2 rows × 22 columns</p>\n",
       "</div>"
      ],
      "text/plain": [
       "       Year  Matches_Batted  Not_Outs  Runs_Scored  Highest_Score  \\\n",
       "0 -0.048363        0.711401  0.885681    -0.715662      -0.708032   \n",
       "1 -0.793593        0.892405  0.885681     2.137131       1.619913   \n",
       "\n",
       "   Balls_Faced  Batting_Strike_Rate  Centuries  Half_Centuries     Fours  ...  \\\n",
       "0    -0.781296             3.980434   -0.16106       -0.530896 -0.651413  ...   \n",
       "1     2.221819             0.531616   -0.16106        3.189493  2.324281  ...   \n",
       "\n",
       "   Stumpings  Matches_Bowled  Balls_Bowled  Runs_Conceded  Wickets_Taken  \\\n",
       "0  -0.218212        0.706135      1.512630       1.415425       1.454718   \n",
       "1  -0.218212        0.887021     -0.785299      -0.811523      -0.706031   \n",
       "\n",
       "   Economy_Rate  Bowling_Strike_Rate  Four_Wicket_Hauls  Five_Wicket_Hauls  \\\n",
       "0      0.452337             0.552665           -0.25489           -0.13844   \n",
       "1     -1.193492            -0.848591           -0.25489           -0.13844   \n",
       "\n",
       "     zscore  \n",
       "0  1.320762  \n",
       "1 -0.701332  \n",
       "\n",
       "[2 rows x 22 columns]"
      ]
     },
     "execution_count": 80,
     "metadata": {},
     "output_type": "execute_result"
    }
   ],
   "source": [
    "Xtrain_scaled_StandardScalar.head(2)"
   ]
  },
  {
   "cell_type": "code",
   "execution_count": 81,
   "metadata": {
    "colab": {
     "base_uri": "https://localhost:8080/"
    },
    "id": "IOrzpJODv9Od",
    "outputId": "d625d873-d4fe-465d-f662-b061fe121145"
   },
   "outputs": [
    {
     "data": {
      "text/plain": [
       "(904, 22)"
      ]
     },
     "execution_count": 81,
     "metadata": {},
     "output_type": "execute_result"
    }
   ],
   "source": [
    "Xtrain_scaled_StandardScalar.shape"
   ]
  },
  {
   "cell_type": "code",
   "execution_count": 82,
   "metadata": {
    "colab": {
     "base_uri": "https://localhost:8080/"
    },
    "id": "SWVb0Qtyv9RL",
    "outputId": "a7513bd7-18a2-4731-a2c8-265401ad129f"
   },
   "outputs": [
    {
     "data": {
      "text/plain": [
       "(904, 2)"
      ]
     },
     "execution_count": 82,
     "metadata": {},
     "output_type": "execute_result"
    }
   ],
   "source": [
    "X_train[cat_cols].shape"
   ]
  },
  {
   "cell_type": "code",
   "execution_count": 83,
   "metadata": {
    "colab": {
     "base_uri": "https://localhost:8080/",
     "height": 424
    },
    "id": "H9EEcuGOwOQ_",
    "outputId": "61947d0e-23a0-4bbb-a8fe-38476d9118d8"
   },
   "outputs": [
    {
     "data": {
      "text/html": [
       "<div>\n",
       "<style scoped>\n",
       "    .dataframe tbody tr th:only-of-type {\n",
       "        vertical-align: middle;\n",
       "    }\n",
       "\n",
       "    .dataframe tbody tr th {\n",
       "        vertical-align: top;\n",
       "    }\n",
       "\n",
       "    .dataframe thead th {\n",
       "        text-align: right;\n",
       "    }\n",
       "</style>\n",
       "<table border=\"1\" class=\"dataframe\">\n",
       "  <thead>\n",
       "    <tr style=\"text-align: right;\">\n",
       "      <th></th>\n",
       "      <th>Player_Name</th>\n",
       "      <th>Best_Bowling_Match</th>\n",
       "    </tr>\n",
       "  </thead>\n",
       "  <tbody>\n",
       "    <tr>\n",
       "      <th>0</th>\n",
       "      <td>Ishant Sharma</td>\n",
       "      <td>3/38</td>\n",
       "    </tr>\n",
       "    <tr>\n",
       "      <th>1</th>\n",
       "      <td>Rohit Sharma</td>\n",
       "      <td>0</td>\n",
       "    </tr>\n",
       "    <tr>\n",
       "      <th>2</th>\n",
       "      <td>Rohit Sharma</td>\n",
       "      <td>0/14</td>\n",
       "    </tr>\n",
       "    <tr>\n",
       "      <th>3</th>\n",
       "      <td>Jos Buttler</td>\n",
       "      <td>0</td>\n",
       "    </tr>\n",
       "    <tr>\n",
       "      <th>4</th>\n",
       "      <td>Anuj Rawat</td>\n",
       "      <td>0</td>\n",
       "    </tr>\n",
       "    <tr>\n",
       "      <th>...</th>\n",
       "      <td>...</td>\n",
       "      <td>...</td>\n",
       "    </tr>\n",
       "    <tr>\n",
       "      <th>899</th>\n",
       "      <td>Mohammed Siraj</td>\n",
       "      <td>3/27</td>\n",
       "    </tr>\n",
       "    <tr>\n",
       "      <th>900</th>\n",
       "      <td>Manish Pandey</td>\n",
       "      <td>0</td>\n",
       "    </tr>\n",
       "    <tr>\n",
       "      <th>901</th>\n",
       "      <td>Dinesh Karthik</td>\n",
       "      <td>0</td>\n",
       "    </tr>\n",
       "    <tr>\n",
       "      <th>902</th>\n",
       "      <td>Vijay Shankar</td>\n",
       "      <td>2/19</td>\n",
       "    </tr>\n",
       "    <tr>\n",
       "      <th>903</th>\n",
       "      <td>Quinton de Kock</td>\n",
       "      <td>0</td>\n",
       "    </tr>\n",
       "  </tbody>\n",
       "</table>\n",
       "<p>904 rows × 2 columns</p>\n",
       "</div>"
      ],
      "text/plain": [
       "         Player_Name Best_Bowling_Match\n",
       "0      Ishant Sharma               3/38\n",
       "1       Rohit Sharma                  0\n",
       "2       Rohit Sharma               0/14\n",
       "3        Jos Buttler                  0\n",
       "4         Anuj Rawat                  0\n",
       "..               ...                ...\n",
       "899   Mohammed Siraj               3/27\n",
       "900    Manish Pandey                  0\n",
       "901   Dinesh Karthik                  0\n",
       "902    Vijay Shankar               2/19\n",
       "903  Quinton de Kock                  0\n",
       "\n",
       "[904 rows x 2 columns]"
      ]
     },
     "execution_count": 83,
     "metadata": {},
     "output_type": "execute_result"
    }
   ],
   "source": [
    "X_train[cat_cols].reset_index(drop=True)"
   ]
  },
  {
   "cell_type": "code",
   "execution_count": 84,
   "metadata": {
    "colab": {
     "base_uri": "https://localhost:8080/",
     "height": 350
    },
    "id": "bBqcFYQB2MfM",
    "outputId": "10a247b0-e6ef-46a9-d0f1-3671c332e97b"
   },
   "outputs": [
    {
     "data": {
      "text/html": [
       "<div>\n",
       "<style scoped>\n",
       "    .dataframe tbody tr th:only-of-type {\n",
       "        vertical-align: middle;\n",
       "    }\n",
       "\n",
       "    .dataframe tbody tr th {\n",
       "        vertical-align: top;\n",
       "    }\n",
       "\n",
       "    .dataframe thead th {\n",
       "        text-align: right;\n",
       "    }\n",
       "</style>\n",
       "<table border=\"1\" class=\"dataframe\">\n",
       "  <thead>\n",
       "    <tr style=\"text-align: right;\">\n",
       "      <th></th>\n",
       "      <th>Year</th>\n",
       "      <th>Matches_Batted</th>\n",
       "      <th>Not_Outs</th>\n",
       "      <th>Runs_Scored</th>\n",
       "      <th>Highest_Score</th>\n",
       "      <th>Balls_Faced</th>\n",
       "      <th>Batting_Strike_Rate</th>\n",
       "      <th>Centuries</th>\n",
       "      <th>Half_Centuries</th>\n",
       "      <th>Fours</th>\n",
       "      <th>...</th>\n",
       "      <th>Stumpings</th>\n",
       "      <th>Matches_Bowled</th>\n",
       "      <th>Balls_Bowled</th>\n",
       "      <th>Runs_Conceded</th>\n",
       "      <th>Wickets_Taken</th>\n",
       "      <th>Economy_Rate</th>\n",
       "      <th>Bowling_Strike_Rate</th>\n",
       "      <th>Four_Wicket_Hauls</th>\n",
       "      <th>Five_Wicket_Hauls</th>\n",
       "      <th>zscore</th>\n",
       "    </tr>\n",
       "  </thead>\n",
       "  <tbody>\n",
       "    <tr>\n",
       "      <th>count</th>\n",
       "      <td>904.00</td>\n",
       "      <td>904.00</td>\n",
       "      <td>904.00</td>\n",
       "      <td>904.00</td>\n",
       "      <td>904.00</td>\n",
       "      <td>904.00</td>\n",
       "      <td>904.00</td>\n",
       "      <td>904.00</td>\n",
       "      <td>904.00</td>\n",
       "      <td>904.00</td>\n",
       "      <td>...</td>\n",
       "      <td>904.00</td>\n",
       "      <td>904.00</td>\n",
       "      <td>904.00</td>\n",
       "      <td>904.00</td>\n",
       "      <td>904.00</td>\n",
       "      <td>904.00</td>\n",
       "      <td>904.00</td>\n",
       "      <td>904.00</td>\n",
       "      <td>904.00</td>\n",
       "      <td>904.00</td>\n",
       "    </tr>\n",
       "    <tr>\n",
       "      <th>mean</th>\n",
       "      <td>-0.00</td>\n",
       "      <td>0.00</td>\n",
       "      <td>-0.00</td>\n",
       "      <td>-0.00</td>\n",
       "      <td>-0.00</td>\n",
       "      <td>-0.00</td>\n",
       "      <td>0.00</td>\n",
       "      <td>0.00</td>\n",
       "      <td>-0.00</td>\n",
       "      <td>-0.00</td>\n",
       "      <td>...</td>\n",
       "      <td>0.00</td>\n",
       "      <td>-0.00</td>\n",
       "      <td>-0.00</td>\n",
       "      <td>0.00</td>\n",
       "      <td>-0.00</td>\n",
       "      <td>-0.00</td>\n",
       "      <td>-0.00</td>\n",
       "      <td>0.00</td>\n",
       "      <td>-0.00</td>\n",
       "      <td>0.00</td>\n",
       "    </tr>\n",
       "    <tr>\n",
       "      <th>std</th>\n",
       "      <td>1.00</td>\n",
       "      <td>1.00</td>\n",
       "      <td>1.00</td>\n",
       "      <td>1.00</td>\n",
       "      <td>1.00</td>\n",
       "      <td>1.00</td>\n",
       "      <td>1.00</td>\n",
       "      <td>1.00</td>\n",
       "      <td>1.00</td>\n",
       "      <td>1.00</td>\n",
       "      <td>...</td>\n",
       "      <td>1.00</td>\n",
       "      <td>1.00</td>\n",
       "      <td>1.00</td>\n",
       "      <td>1.00</td>\n",
       "      <td>1.00</td>\n",
       "      <td>1.00</td>\n",
       "      <td>1.00</td>\n",
       "      <td>1.00</td>\n",
       "      <td>1.00</td>\n",
       "      <td>1.00</td>\n",
       "    </tr>\n",
       "    <tr>\n",
       "      <th>min</th>\n",
       "      <td>-2.78</td>\n",
       "      <td>-1.64</td>\n",
       "      <td>-0.88</td>\n",
       "      <td>-0.78</td>\n",
       "      <td>-1.02</td>\n",
       "      <td>-0.81</td>\n",
       "      <td>-1.75</td>\n",
       "      <td>-0.16</td>\n",
       "      <td>-0.53</td>\n",
       "      <td>-0.71</td>\n",
       "      <td>...</td>\n",
       "      <td>-0.22</td>\n",
       "      <td>-1.65</td>\n",
       "      <td>-0.79</td>\n",
       "      <td>-0.81</td>\n",
       "      <td>-0.71</td>\n",
       "      <td>-1.19</td>\n",
       "      <td>-0.85</td>\n",
       "      <td>-0.25</td>\n",
       "      <td>-0.14</td>\n",
       "      <td>-0.70</td>\n",
       "    </tr>\n",
       "    <tr>\n",
       "      <th>25%</th>\n",
       "      <td>-0.55</td>\n",
       "      <td>-1.10</td>\n",
       "      <td>-0.88</td>\n",
       "      <td>-0.75</td>\n",
       "      <td>-0.89</td>\n",
       "      <td>-0.75</td>\n",
       "      <td>-0.61</td>\n",
       "      <td>-0.16</td>\n",
       "      <td>-0.53</td>\n",
       "      <td>-0.71</td>\n",
       "      <td>...</td>\n",
       "      <td>-0.22</td>\n",
       "      <td>-1.10</td>\n",
       "      <td>-0.79</td>\n",
       "      <td>-0.81</td>\n",
       "      <td>-0.71</td>\n",
       "      <td>-1.19</td>\n",
       "      <td>-0.85</td>\n",
       "      <td>-0.25</td>\n",
       "      <td>-0.14</td>\n",
       "      <td>-0.70</td>\n",
       "    </tr>\n",
       "    <tr>\n",
       "      <th>50%</th>\n",
       "      <td>0.20</td>\n",
       "      <td>0.17</td>\n",
       "      <td>-0.29</td>\n",
       "      <td>-0.53</td>\n",
       "      <td>-0.34</td>\n",
       "      <td>-0.50</td>\n",
       "      <td>0.28</td>\n",
       "      <td>-0.16</td>\n",
       "      <td>-0.53</td>\n",
       "      <td>-0.53</td>\n",
       "      <td>...</td>\n",
       "      <td>-0.22</td>\n",
       "      <td>0.16</td>\n",
       "      <td>-0.59</td>\n",
       "      <td>-0.53</td>\n",
       "      <td>-0.54</td>\n",
       "      <td>0.39</td>\n",
       "      <td>-0.06</td>\n",
       "      <td>-0.25</td>\n",
       "      <td>-0.14</td>\n",
       "      <td>-0.55</td>\n",
       "    </tr>\n",
       "    <tr>\n",
       "      <th>75%</th>\n",
       "      <td>0.70</td>\n",
       "      <td>0.89</td>\n",
       "      <td>0.30</td>\n",
       "      <td>0.57</td>\n",
       "      <td>0.78</td>\n",
       "      <td>0.56</td>\n",
       "      <td>0.64</td>\n",
       "      <td>-0.16</td>\n",
       "      <td>0.21</td>\n",
       "      <td>0.42</td>\n",
       "      <td>...</td>\n",
       "      <td>-0.22</td>\n",
       "      <td>0.89</td>\n",
       "      <td>0.71</td>\n",
       "      <td>0.74</td>\n",
       "      <td>0.46</td>\n",
       "      <td>0.73</td>\n",
       "      <td>0.60</td>\n",
       "      <td>-0.25</td>\n",
       "      <td>-0.14</td>\n",
       "      <td>0.54</td>\n",
       "    </tr>\n",
       "    <tr>\n",
       "      <th>max</th>\n",
       "      <td>1.19</td>\n",
       "      <td>1.80</td>\n",
       "      <td>5.00</td>\n",
       "      <td>5.02</td>\n",
       "      <td>3.08</td>\n",
       "      <td>4.46</td>\n",
       "      <td>5.13</td>\n",
       "      <td>14.40</td>\n",
       "      <td>5.42</td>\n",
       "      <td>4.43</td>\n",
       "      <td>...</td>\n",
       "      <td>8.96</td>\n",
       "      <td>1.79</td>\n",
       "      <td>2.61</td>\n",
       "      <td>2.79</td>\n",
       "      <td>3.12</td>\n",
       "      <td>6.62</td>\n",
       "      <td>6.68</td>\n",
       "      <td>9.35</td>\n",
       "      <td>7.22</td>\n",
       "      <td>4.28</td>\n",
       "    </tr>\n",
       "  </tbody>\n",
       "</table>\n",
       "<p>8 rows × 22 columns</p>\n",
       "</div>"
      ],
      "text/plain": [
       "         Year  Matches_Batted  Not_Outs  Runs_Scored  Highest_Score  \\\n",
       "count  904.00          904.00    904.00       904.00         904.00   \n",
       "mean    -0.00            0.00     -0.00        -0.00          -0.00   \n",
       "std      1.00            1.00      1.00         1.00           1.00   \n",
       "min     -2.78           -1.64     -0.88        -0.78          -1.02   \n",
       "25%     -0.55           -1.10     -0.88        -0.75          -0.89   \n",
       "50%      0.20            0.17     -0.29        -0.53          -0.34   \n",
       "75%      0.70            0.89      0.30         0.57           0.78   \n",
       "max      1.19            1.80      5.00         5.02           3.08   \n",
       "\n",
       "       Balls_Faced  Batting_Strike_Rate  Centuries  Half_Centuries   Fours  \\\n",
       "count       904.00               904.00     904.00          904.00  904.00   \n",
       "mean         -0.00                 0.00       0.00           -0.00   -0.00   \n",
       "std           1.00                 1.00       1.00            1.00    1.00   \n",
       "min          -0.81                -1.75      -0.16           -0.53   -0.71   \n",
       "25%          -0.75                -0.61      -0.16           -0.53   -0.71   \n",
       "50%          -0.50                 0.28      -0.16           -0.53   -0.53   \n",
       "75%           0.56                 0.64      -0.16            0.21    0.42   \n",
       "max           4.46                 5.13      14.40            5.42    4.43   \n",
       "\n",
       "       ...  Stumpings  Matches_Bowled  Balls_Bowled  Runs_Conceded  \\\n",
       "count  ...     904.00          904.00        904.00         904.00   \n",
       "mean   ...       0.00           -0.00         -0.00           0.00   \n",
       "std    ...       1.00            1.00          1.00           1.00   \n",
       "min    ...      -0.22           -1.65         -0.79          -0.81   \n",
       "25%    ...      -0.22           -1.10         -0.79          -0.81   \n",
       "50%    ...      -0.22            0.16         -0.59          -0.53   \n",
       "75%    ...      -0.22            0.89          0.71           0.74   \n",
       "max    ...       8.96            1.79          2.61           2.79   \n",
       "\n",
       "       Wickets_Taken  Economy_Rate  Bowling_Strike_Rate  Four_Wicket_Hauls  \\\n",
       "count         904.00        904.00               904.00             904.00   \n",
       "mean           -0.00         -0.00                -0.00               0.00   \n",
       "std             1.00          1.00                 1.00               1.00   \n",
       "min            -0.71         -1.19                -0.85              -0.25   \n",
       "25%            -0.71         -1.19                -0.85              -0.25   \n",
       "50%            -0.54          0.39                -0.06              -0.25   \n",
       "75%             0.46          0.73                 0.60              -0.25   \n",
       "max             3.12          6.62                 6.68               9.35   \n",
       "\n",
       "       Five_Wicket_Hauls  zscore  \n",
       "count             904.00  904.00  \n",
       "mean               -0.00    0.00  \n",
       "std                 1.00    1.00  \n",
       "min                -0.14   -0.70  \n",
       "25%                -0.14   -0.70  \n",
       "50%                -0.14   -0.55  \n",
       "75%                -0.14    0.54  \n",
       "max                 7.22    4.28  \n",
       "\n",
       "[8 rows x 22 columns]"
      ]
     },
     "execution_count": 84,
     "metadata": {},
     "output_type": "execute_result"
    }
   ],
   "source": [
    "round(Xtrain_scaled_StandardScalar.describe(),2)"
   ]
  },
  {
   "cell_type": "code",
   "execution_count": 85,
   "metadata": {
    "id": "IUcj4g4t2Ppe"
   },
   "outputs": [],
   "source": [
    "scaled_train=pd.concat([Xtrain_scaled_StandardScalar,X_train[cat_cols].reset_index(drop=True)],axis=1)\n",
    "scaled_test=pd.concat([Xval_scaled_StandardScalar,x_val[cat_cols].reset_index(drop=True)],axis=1)"
   ]
  },
  {
   "cell_type": "code",
   "execution_count": 86,
   "metadata": {
    "id": "3YkX_7lD2SKQ"
   },
   "outputs": [],
   "source": [
    "scaled_train.to_csv('Scaled_data_train',index=False)\n",
    "scaled_test.to_csv('Scaled_data_val',index=False)"
   ]
  },
  {
   "cell_type": "markdown",
   "metadata": {
    "id": "IPL5td-A2Zdq"
   },
   "source": [
    "# 4-Model Building (Regression), Evaluation & Tuning\n",
    "\n",
    "### 4.1 Regression algorithms\n",
    "    * Linear Regression\n",
    "    * KNN\n",
    "    * Decision Trees (CART)\n",
    "    * Random Forest\n",
    "    * Boosting\n",
    "        * Adaboost,\n",
    "        * Gboost,\n",
    "        * XGboost\n",
    "### 4.2 Model Evaluation: Regression metrics: R² & RMSE\n",
    "1. R-squared (R²) — Coefficient of Determination\n",
    "    * What it means:\n",
    "        * Measures how well the model explains the variability in the target variable.\n",
    "        * Value lies between 0 and 1 (can be negative if model performs worse than the mean).\n",
    "    * Interpretation:\n",
    "        * R² = 1 → perfect prediction\n",
    "        * R² = 0 → model is no better than the average\n",
    "        * Higher is better\n",
    "          ![image.png](attachment:e23679fd-3fe1-4ef2-b9e9-1dfed173e585.png)\n",
    "\n",
    "2. RMSE — Root Mean Squared Error\n",
    "    * What it means:\n",
    "        * Measures average prediction error in the same units as the target variable.\n",
    "        * It gives more weight to larger errors.\n",
    "    * Interpretation:\n",
    "        * Lower is better\n",
    "        * Easy to interpret because it’s in the same unit as\n",
    "          ![image.png](attachment:65110f95-03fd-4549-be04-631970e6b345.png)\n",
    "### 4.3 Model Tuning\n",
    "    * GridSearchCV\n",
    "    * Hyper Parameter Tuning\n"
   ]
  },
  {
   "cell_type": "code",
   "execution_count": 87,
   "metadata": {
    "id": "NScUpzcL2UV3"
   },
   "outputs": [],
   "source": [
    "import pandas as pd\n",
    "from sklearn.model_selection import train_test_split\n",
    "from sklearn.metrics import mean_squared_error, r2_score\n",
    "from sklearn.linear_model import LinearRegression\n",
    "from sklearn.neighbors import KNeighborsRegressor\n",
    "from sklearn.tree import DecisionTreeRegressor\n",
    "from sklearn.preprocessing import MinMaxScaler\n",
    "from sklearn.metrics import mean_squared_error, r2_score\n",
    "from sklearn.ensemble import RandomForestRegressor, AdaBoostRegressor, GradientBoostingRegressor\n",
    "# pip install xgboost\n",
    "from xgboost import XGBRegressor"
   ]
  },
  {
   "cell_type": "code",
   "execution_count": 88,
   "metadata": {
    "id": "bV9YNyk4Dmet"
   },
   "outputs": [],
   "source": [
    "# Features and target\n",
    "X = df[['Matches_Batted', 'Balls_Faced', 'Batting_Strike_Rate', 'Not_Outs']]\n",
    "y = df['Runs_Scored']"
   ]
  },
  {
   "cell_type": "code",
   "execution_count": 89,
   "metadata": {
    "id": "uYCJj2weDrnR"
   },
   "outputs": [],
   "source": [
    "# Split the data into train and validation sets\n",
    "x_trainFinal, x_valFinal, y_train, y_val = train_test_split(X, y, test_size=0.2, random_state=42)"
   ]
  },
  {
   "cell_type": "code",
   "execution_count": 90,
   "metadata": {
    "colab": {
     "base_uri": "https://localhost:8080/"
    },
    "id": "EHYIpsU4QzTg",
    "outputId": "773577ef-0d54-42cf-f49e-bc1dbe12beff"
   },
   "outputs": [
    {
     "name": "stdout",
     "output_type": "stream",
     "text": [
      "Train RMSE: 24.958275514373295 Train R2: 0.9790370748763013\n",
      "Test RMSE: 25.33252325964707 Test R2: 0.9763931773085178\n"
     ]
    }
   ],
   "source": [
    "# Build a Linear Regression model\n",
    "LR = LinearRegression()\n",
    "LR.fit(x_trainFinal, y_train)\n",
    "y_train_pred = LR.predict(x_trainFinal)\n",
    "y_val_pred = LR.predict(x_valFinal)\n",
    "rmse_train = np.sqrt(mean_squared_error(y_train, y_train_pred))\n",
    "r2_train = r2_score(y_train, y_train_pred)\n",
    "rmse_val = np.sqrt(mean_squared_error(y_val, y_val_pred))\n",
    "r2_val = r2_score(y_val, y_val_pred)\n",
    "print(\"Train RMSE:\", rmse_train, \"Train R2:\", r2_train)\n",
    "print(\"Test RMSE:\", rmse_val, \"Test R2:\", r2_val)"
   ]
  },
  {
   "cell_type": "code",
   "execution_count": 91,
   "metadata": {
    "colab": {
     "base_uri": "https://localhost:8080/"
    },
    "id": "LEe97tcuRhcM",
    "outputId": "fc180d2e-f2fe-49d9-af7f-af8346bd1180"
   },
   "outputs": [
    {
     "name": "stdout",
     "output_type": "stream",
     "text": [
      "Train RMSE: 10.391436229061641 Train R2: 0.9963660923397764\n",
      "Test RMSE: 12.057883992296551 Test R2: 0.9946516128041238\n"
     ]
    }
   ],
   "source": [
    "# Build a KNN Regressor model\n",
    "knn = KNeighborsRegressor()\n",
    "knn.fit(x_trainFinal, y_train)\n",
    "y_train_pred = knn.predict(x_trainFinal)\n",
    "y_val_pred = knn.predict(x_valFinal)\n",
    "rmse_train = np.sqrt(mean_squared_error(y_train, y_train_pred))\n",
    "r2_train = r2_score(y_train, y_train_pred)\n",
    "rmse_val = np.sqrt(mean_squared_error(y_val, y_val_pred))\n",
    "r2_val = r2_score(y_val, y_val_pred)\n",
    "print(\"Train RMSE:\", rmse_train, \"Train R2:\", r2_train)\n",
    "print(\"Test RMSE:\", rmse_val, \"Test R2:\", r2_val)"
   ]
  },
  {
   "cell_type": "markdown",
   "metadata": {
    "id": "1cgYjGfPShKC"
   },
   "source": [
    "# Building various models and comparing their performance"
   ]
  },
  {
   "cell_type": "code",
   "execution_count": 92,
   "metadata": {
    "id": "x60uahA_Sj0W"
   },
   "outputs": [],
   "source": [
    "models = {\n",
    "    \"Linear Regression\": LinearRegression(),\n",
    "    \"KNN\": KNeighborsRegressor(),\n",
    "    \"Decision Tree\": DecisionTreeRegressor(random_state=42),\n",
    "    \"Random Forest\": RandomForestRegressor(random_state=42),\n",
    "    \"AdaBoost\": AdaBoostRegressor(random_state=42),\n",
    "    \"Gradient Boosting\": GradientBoostingRegressor(random_state=42),\n",
    "    \"XGBoost\": XGBRegressor(random_state=42)\n",
    "}"
   ]
  },
  {
   "cell_type": "code",
   "execution_count": 93,
   "metadata": {
    "colab": {
     "base_uri": "https://localhost:8080/"
    },
    "id": "VlxSDY0QS77N",
    "outputId": "912f6948-03fb-4c7d-848b-0f94a58e2b6f"
   },
   "outputs": [
    {
     "name": "stdout",
     "output_type": "stream",
     "text": [
      "               Model  Train_RMSE  Train_R²   Val_RMSE    Val_R²\n",
      "5  Gradient Boosting    3.384404  0.999615   7.556419  0.997900\n",
      "6            XGBoost    0.435220  0.999994   8.531840  0.997322\n",
      "3      Random Forest    3.686022  0.999543  10.394655  0.996025\n",
      "1                KNN   10.391436  0.996366  12.057884  0.994652\n",
      "2      Decision Tree    0.023518  1.000000  14.588758  0.992171\n",
      "0  Linear Regression   24.958276  0.979037  25.332523  0.976393\n",
      "4           AdaBoost   22.029421  0.983668  25.805033  0.975504\n"
     ]
    }
   ],
   "source": [
    "results = []\n",
    "\n",
    "for name, model in models.items():\n",
    "    model.fit(x_trainFinal, y_train)\n",
    "\n",
    "    # Predictions\n",
    "    y_train_pred = model.predict(x_trainFinal)\n",
    "    y_val_pred = model.predict(x_valFinal)\n",
    "\n",
    "    # Metrics\n",
    "    rmse_train = np.sqrt(mean_squared_error(y_train, y_train_pred))\n",
    "    r2_train = r2_score(y_train, y_train_pred)\n",
    "\n",
    "    rmse_val = np.sqrt(mean_squared_error(y_val, y_val_pred))\n",
    "    r2_val = r2_score(y_val, y_val_pred)\n",
    "\n",
    "    # Store results\n",
    "    results.append({\n",
    "        \"Model\": name,\n",
    "        \"Train_RMSE\": rmse_train,\n",
    "        \"Train_R²\": r2_train,\n",
    "        \"Val_RMSE\": rmse_val,\n",
    "        \"Val_R²\": r2_val\n",
    "    })\n",
    "\n",
    "# Convert to DataFrame and sort by Validation RMSE\n",
    "results_df = pd.DataFrame(results).sort_values(by='Val_RMSE')\n",
    "print(results_df)"
   ]
  },
  {
   "cell_type": "code",
   "execution_count": 94,
   "metadata": {
    "id": "OVU39m2RTA7U"
   },
   "outputs": [],
   "source": [
    "knn=KNeighborsRegressor()"
   ]
  },
  {
   "cell_type": "code",
   "execution_count": 95,
   "metadata": {
    "colab": {
     "base_uri": "https://localhost:8080/",
     "height": 80
    },
    "id": "ZX4aDPPdTO00",
    "outputId": "0c0077bb-089f-40e8-a664-61e94d5102d7"
   },
   "outputs": [
    {
     "data": {
      "text/html": [
       "<style>#sk-container-id-1 {\n",
       "  /* Definition of color scheme common for light and dark mode */\n",
       "  --sklearn-color-text: black;\n",
       "  --sklearn-color-line: gray;\n",
       "  /* Definition of color scheme for unfitted estimators */\n",
       "  --sklearn-color-unfitted-level-0: #fff5e6;\n",
       "  --sklearn-color-unfitted-level-1: #f6e4d2;\n",
       "  --sklearn-color-unfitted-level-2: #ffe0b3;\n",
       "  --sklearn-color-unfitted-level-3: chocolate;\n",
       "  /* Definition of color scheme for fitted estimators */\n",
       "  --sklearn-color-fitted-level-0: #f0f8ff;\n",
       "  --sklearn-color-fitted-level-1: #d4ebff;\n",
       "  --sklearn-color-fitted-level-2: #b3dbfd;\n",
       "  --sklearn-color-fitted-level-3: cornflowerblue;\n",
       "\n",
       "  /* Specific color for light theme */\n",
       "  --sklearn-color-text-on-default-background: var(--sg-text-color, var(--theme-code-foreground, var(--jp-content-font-color1, black)));\n",
       "  --sklearn-color-background: var(--sg-background-color, var(--theme-background, var(--jp-layout-color0, white)));\n",
       "  --sklearn-color-border-box: var(--sg-text-color, var(--theme-code-foreground, var(--jp-content-font-color1, black)));\n",
       "  --sklearn-color-icon: #696969;\n",
       "\n",
       "  @media (prefers-color-scheme: dark) {\n",
       "    /* Redefinition of color scheme for dark theme */\n",
       "    --sklearn-color-text-on-default-background: var(--sg-text-color, var(--theme-code-foreground, var(--jp-content-font-color1, white)));\n",
       "    --sklearn-color-background: var(--sg-background-color, var(--theme-background, var(--jp-layout-color0, #111)));\n",
       "    --sklearn-color-border-box: var(--sg-text-color, var(--theme-code-foreground, var(--jp-content-font-color1, white)));\n",
       "    --sklearn-color-icon: #878787;\n",
       "  }\n",
       "}\n",
       "\n",
       "#sk-container-id-1 {\n",
       "  color: var(--sklearn-color-text);\n",
       "}\n",
       "\n",
       "#sk-container-id-1 pre {\n",
       "  padding: 0;\n",
       "}\n",
       "\n",
       "#sk-container-id-1 input.sk-hidden--visually {\n",
       "  border: 0;\n",
       "  clip: rect(1px 1px 1px 1px);\n",
       "  clip: rect(1px, 1px, 1px, 1px);\n",
       "  height: 1px;\n",
       "  margin: -1px;\n",
       "  overflow: hidden;\n",
       "  padding: 0;\n",
       "  position: absolute;\n",
       "  width: 1px;\n",
       "}\n",
       "\n",
       "#sk-container-id-1 div.sk-dashed-wrapped {\n",
       "  border: 1px dashed var(--sklearn-color-line);\n",
       "  margin: 0 0.4em 0.5em 0.4em;\n",
       "  box-sizing: border-box;\n",
       "  padding-bottom: 0.4em;\n",
       "  background-color: var(--sklearn-color-background);\n",
       "}\n",
       "\n",
       "#sk-container-id-1 div.sk-container {\n",
       "  /* jupyter's `normalize.less` sets `[hidden] { display: none; }`\n",
       "     but bootstrap.min.css set `[hidden] { display: none !important; }`\n",
       "     so we also need the `!important` here to be able to override the\n",
       "     default hidden behavior on the sphinx rendered scikit-learn.org.\n",
       "     See: https://github.com/scikit-learn/scikit-learn/issues/21755 */\n",
       "  display: inline-block !important;\n",
       "  position: relative;\n",
       "}\n",
       "\n",
       "#sk-container-id-1 div.sk-text-repr-fallback {\n",
       "  display: none;\n",
       "}\n",
       "\n",
       "div.sk-parallel-item,\n",
       "div.sk-serial,\n",
       "div.sk-item {\n",
       "  /* draw centered vertical line to link estimators */\n",
       "  background-image: linear-gradient(var(--sklearn-color-text-on-default-background), var(--sklearn-color-text-on-default-background));\n",
       "  background-size: 2px 100%;\n",
       "  background-repeat: no-repeat;\n",
       "  background-position: center center;\n",
       "}\n",
       "\n",
       "/* Parallel-specific style estimator block */\n",
       "\n",
       "#sk-container-id-1 div.sk-parallel-item::after {\n",
       "  content: \"\";\n",
       "  width: 100%;\n",
       "  border-bottom: 2px solid var(--sklearn-color-text-on-default-background);\n",
       "  flex-grow: 1;\n",
       "}\n",
       "\n",
       "#sk-container-id-1 div.sk-parallel {\n",
       "  display: flex;\n",
       "  align-items: stretch;\n",
       "  justify-content: center;\n",
       "  background-color: var(--sklearn-color-background);\n",
       "  position: relative;\n",
       "}\n",
       "\n",
       "#sk-container-id-1 div.sk-parallel-item {\n",
       "  display: flex;\n",
       "  flex-direction: column;\n",
       "}\n",
       "\n",
       "#sk-container-id-1 div.sk-parallel-item:first-child::after {\n",
       "  align-self: flex-end;\n",
       "  width: 50%;\n",
       "}\n",
       "\n",
       "#sk-container-id-1 div.sk-parallel-item:last-child::after {\n",
       "  align-self: flex-start;\n",
       "  width: 50%;\n",
       "}\n",
       "\n",
       "#sk-container-id-1 div.sk-parallel-item:only-child::after {\n",
       "  width: 0;\n",
       "}\n",
       "\n",
       "/* Serial-specific style estimator block */\n",
       "\n",
       "#sk-container-id-1 div.sk-serial {\n",
       "  display: flex;\n",
       "  flex-direction: column;\n",
       "  align-items: center;\n",
       "  background-color: var(--sklearn-color-background);\n",
       "  padding-right: 1em;\n",
       "  padding-left: 1em;\n",
       "}\n",
       "\n",
       "\n",
       "/* Toggleable style: style used for estimator/Pipeline/ColumnTransformer box that is\n",
       "clickable and can be expanded/collapsed.\n",
       "- Pipeline and ColumnTransformer use this feature and define the default style\n",
       "- Estimators will overwrite some part of the style using the `sk-estimator` class\n",
       "*/\n",
       "\n",
       "/* Pipeline and ColumnTransformer style (default) */\n",
       "\n",
       "#sk-container-id-1 div.sk-toggleable {\n",
       "  /* Default theme specific background. It is overwritten whether we have a\n",
       "  specific estimator or a Pipeline/ColumnTransformer */\n",
       "  background-color: var(--sklearn-color-background);\n",
       "}\n",
       "\n",
       "/* Toggleable label */\n",
       "#sk-container-id-1 label.sk-toggleable__label {\n",
       "  cursor: pointer;\n",
       "  display: block;\n",
       "  width: 100%;\n",
       "  margin-bottom: 0;\n",
       "  padding: 0.5em;\n",
       "  box-sizing: border-box;\n",
       "  text-align: center;\n",
       "}\n",
       "\n",
       "#sk-container-id-1 label.sk-toggleable__label-arrow:before {\n",
       "  /* Arrow on the left of the label */\n",
       "  content: \"▸\";\n",
       "  float: left;\n",
       "  margin-right: 0.25em;\n",
       "  color: var(--sklearn-color-icon);\n",
       "}\n",
       "\n",
       "#sk-container-id-1 label.sk-toggleable__label-arrow:hover:before {\n",
       "  color: var(--sklearn-color-text);\n",
       "}\n",
       "\n",
       "/* Toggleable content - dropdown */\n",
       "\n",
       "#sk-container-id-1 div.sk-toggleable__content {\n",
       "  max-height: 0;\n",
       "  max-width: 0;\n",
       "  overflow: hidden;\n",
       "  text-align: left;\n",
       "  /* unfitted */\n",
       "  background-color: var(--sklearn-color-unfitted-level-0);\n",
       "}\n",
       "\n",
       "#sk-container-id-1 div.sk-toggleable__content.fitted {\n",
       "  /* fitted */\n",
       "  background-color: var(--sklearn-color-fitted-level-0);\n",
       "}\n",
       "\n",
       "#sk-container-id-1 div.sk-toggleable__content pre {\n",
       "  margin: 0.2em;\n",
       "  border-radius: 0.25em;\n",
       "  color: var(--sklearn-color-text);\n",
       "  /* unfitted */\n",
       "  background-color: var(--sklearn-color-unfitted-level-0);\n",
       "}\n",
       "\n",
       "#sk-container-id-1 div.sk-toggleable__content.fitted pre {\n",
       "  /* unfitted */\n",
       "  background-color: var(--sklearn-color-fitted-level-0);\n",
       "}\n",
       "\n",
       "#sk-container-id-1 input.sk-toggleable__control:checked~div.sk-toggleable__content {\n",
       "  /* Expand drop-down */\n",
       "  max-height: 200px;\n",
       "  max-width: 100%;\n",
       "  overflow: auto;\n",
       "}\n",
       "\n",
       "#sk-container-id-1 input.sk-toggleable__control:checked~label.sk-toggleable__label-arrow:before {\n",
       "  content: \"▾\";\n",
       "}\n",
       "\n",
       "/* Pipeline/ColumnTransformer-specific style */\n",
       "\n",
       "#sk-container-id-1 div.sk-label input.sk-toggleable__control:checked~label.sk-toggleable__label {\n",
       "  color: var(--sklearn-color-text);\n",
       "  background-color: var(--sklearn-color-unfitted-level-2);\n",
       "}\n",
       "\n",
       "#sk-container-id-1 div.sk-label.fitted input.sk-toggleable__control:checked~label.sk-toggleable__label {\n",
       "  background-color: var(--sklearn-color-fitted-level-2);\n",
       "}\n",
       "\n",
       "/* Estimator-specific style */\n",
       "\n",
       "/* Colorize estimator box */\n",
       "#sk-container-id-1 div.sk-estimator input.sk-toggleable__control:checked~label.sk-toggleable__label {\n",
       "  /* unfitted */\n",
       "  background-color: var(--sklearn-color-unfitted-level-2);\n",
       "}\n",
       "\n",
       "#sk-container-id-1 div.sk-estimator.fitted input.sk-toggleable__control:checked~label.sk-toggleable__label {\n",
       "  /* fitted */\n",
       "  background-color: var(--sklearn-color-fitted-level-2);\n",
       "}\n",
       "\n",
       "#sk-container-id-1 div.sk-label label.sk-toggleable__label,\n",
       "#sk-container-id-1 div.sk-label label {\n",
       "  /* The background is the default theme color */\n",
       "  color: var(--sklearn-color-text-on-default-background);\n",
       "}\n",
       "\n",
       "/* On hover, darken the color of the background */\n",
       "#sk-container-id-1 div.sk-label:hover label.sk-toggleable__label {\n",
       "  color: var(--sklearn-color-text);\n",
       "  background-color: var(--sklearn-color-unfitted-level-2);\n",
       "}\n",
       "\n",
       "/* Label box, darken color on hover, fitted */\n",
       "#sk-container-id-1 div.sk-label.fitted:hover label.sk-toggleable__label.fitted {\n",
       "  color: var(--sklearn-color-text);\n",
       "  background-color: var(--sklearn-color-fitted-level-2);\n",
       "}\n",
       "\n",
       "/* Estimator label */\n",
       "\n",
       "#sk-container-id-1 div.sk-label label {\n",
       "  font-family: monospace;\n",
       "  font-weight: bold;\n",
       "  display: inline-block;\n",
       "  line-height: 1.2em;\n",
       "}\n",
       "\n",
       "#sk-container-id-1 div.sk-label-container {\n",
       "  text-align: center;\n",
       "}\n",
       "\n",
       "/* Estimator-specific */\n",
       "#sk-container-id-1 div.sk-estimator {\n",
       "  font-family: monospace;\n",
       "  border: 1px dotted var(--sklearn-color-border-box);\n",
       "  border-radius: 0.25em;\n",
       "  box-sizing: border-box;\n",
       "  margin-bottom: 0.5em;\n",
       "  /* unfitted */\n",
       "  background-color: var(--sklearn-color-unfitted-level-0);\n",
       "}\n",
       "\n",
       "#sk-container-id-1 div.sk-estimator.fitted {\n",
       "  /* fitted */\n",
       "  background-color: var(--sklearn-color-fitted-level-0);\n",
       "}\n",
       "\n",
       "/* on hover */\n",
       "#sk-container-id-1 div.sk-estimator:hover {\n",
       "  /* unfitted */\n",
       "  background-color: var(--sklearn-color-unfitted-level-2);\n",
       "}\n",
       "\n",
       "#sk-container-id-1 div.sk-estimator.fitted:hover {\n",
       "  /* fitted */\n",
       "  background-color: var(--sklearn-color-fitted-level-2);\n",
       "}\n",
       "\n",
       "/* Specification for estimator info (e.g. \"i\" and \"?\") */\n",
       "\n",
       "/* Common style for \"i\" and \"?\" */\n",
       "\n",
       ".sk-estimator-doc-link,\n",
       "a:link.sk-estimator-doc-link,\n",
       "a:visited.sk-estimator-doc-link {\n",
       "  float: right;\n",
       "  font-size: smaller;\n",
       "  line-height: 1em;\n",
       "  font-family: monospace;\n",
       "  background-color: var(--sklearn-color-background);\n",
       "  border-radius: 1em;\n",
       "  height: 1em;\n",
       "  width: 1em;\n",
       "  text-decoration: none !important;\n",
       "  margin-left: 1ex;\n",
       "  /* unfitted */\n",
       "  border: var(--sklearn-color-unfitted-level-1) 1pt solid;\n",
       "  color: var(--sklearn-color-unfitted-level-1);\n",
       "}\n",
       "\n",
       ".sk-estimator-doc-link.fitted,\n",
       "a:link.sk-estimator-doc-link.fitted,\n",
       "a:visited.sk-estimator-doc-link.fitted {\n",
       "  /* fitted */\n",
       "  border: var(--sklearn-color-fitted-level-1) 1pt solid;\n",
       "  color: var(--sklearn-color-fitted-level-1);\n",
       "}\n",
       "\n",
       "/* On hover */\n",
       "div.sk-estimator:hover .sk-estimator-doc-link:hover,\n",
       ".sk-estimator-doc-link:hover,\n",
       "div.sk-label-container:hover .sk-estimator-doc-link:hover,\n",
       ".sk-estimator-doc-link:hover {\n",
       "  /* unfitted */\n",
       "  background-color: var(--sklearn-color-unfitted-level-3);\n",
       "  color: var(--sklearn-color-background);\n",
       "  text-decoration: none;\n",
       "}\n",
       "\n",
       "div.sk-estimator.fitted:hover .sk-estimator-doc-link.fitted:hover,\n",
       ".sk-estimator-doc-link.fitted:hover,\n",
       "div.sk-label-container:hover .sk-estimator-doc-link.fitted:hover,\n",
       ".sk-estimator-doc-link.fitted:hover {\n",
       "  /* fitted */\n",
       "  background-color: var(--sklearn-color-fitted-level-3);\n",
       "  color: var(--sklearn-color-background);\n",
       "  text-decoration: none;\n",
       "}\n",
       "\n",
       "/* Span, style for the box shown on hovering the info icon */\n",
       ".sk-estimator-doc-link span {\n",
       "  display: none;\n",
       "  z-index: 9999;\n",
       "  position: relative;\n",
       "  font-weight: normal;\n",
       "  right: .2ex;\n",
       "  padding: .5ex;\n",
       "  margin: .5ex;\n",
       "  width: min-content;\n",
       "  min-width: 20ex;\n",
       "  max-width: 50ex;\n",
       "  color: var(--sklearn-color-text);\n",
       "  box-shadow: 2pt 2pt 4pt #999;\n",
       "  /* unfitted */\n",
       "  background: var(--sklearn-color-unfitted-level-0);\n",
       "  border: .5pt solid var(--sklearn-color-unfitted-level-3);\n",
       "}\n",
       "\n",
       ".sk-estimator-doc-link.fitted span {\n",
       "  /* fitted */\n",
       "  background: var(--sklearn-color-fitted-level-0);\n",
       "  border: var(--sklearn-color-fitted-level-3);\n",
       "}\n",
       "\n",
       ".sk-estimator-doc-link:hover span {\n",
       "  display: block;\n",
       "}\n",
       "\n",
       "/* \"?\"-specific style due to the `<a>` HTML tag */\n",
       "\n",
       "#sk-container-id-1 a.estimator_doc_link {\n",
       "  float: right;\n",
       "  font-size: 1rem;\n",
       "  line-height: 1em;\n",
       "  font-family: monospace;\n",
       "  background-color: var(--sklearn-color-background);\n",
       "  border-radius: 1rem;\n",
       "  height: 1rem;\n",
       "  width: 1rem;\n",
       "  text-decoration: none;\n",
       "  /* unfitted */\n",
       "  color: var(--sklearn-color-unfitted-level-1);\n",
       "  border: var(--sklearn-color-unfitted-level-1) 1pt solid;\n",
       "}\n",
       "\n",
       "#sk-container-id-1 a.estimator_doc_link.fitted {\n",
       "  /* fitted */\n",
       "  border: var(--sklearn-color-fitted-level-1) 1pt solid;\n",
       "  color: var(--sklearn-color-fitted-level-1);\n",
       "}\n",
       "\n",
       "/* On hover */\n",
       "#sk-container-id-1 a.estimator_doc_link:hover {\n",
       "  /* unfitted */\n",
       "  background-color: var(--sklearn-color-unfitted-level-3);\n",
       "  color: var(--sklearn-color-background);\n",
       "  text-decoration: none;\n",
       "}\n",
       "\n",
       "#sk-container-id-1 a.estimator_doc_link.fitted:hover {\n",
       "  /* fitted */\n",
       "  background-color: var(--sklearn-color-fitted-level-3);\n",
       "}\n",
       "</style><div id=\"sk-container-id-1\" class=\"sk-top-container\"><div class=\"sk-text-repr-fallback\"><pre>KNeighborsRegressor()</pre><b>In a Jupyter environment, please rerun this cell to show the HTML representation or trust the notebook. <br />On GitHub, the HTML representation is unable to render, please try loading this page with nbviewer.org.</b></div><div class=\"sk-container\" hidden><div class=\"sk-item\"><div class=\"sk-estimator fitted sk-toggleable\"><input class=\"sk-toggleable__control sk-hidden--visually\" id=\"sk-estimator-id-1\" type=\"checkbox\" checked><label for=\"sk-estimator-id-1\" class=\"sk-toggleable__label fitted sk-toggleable__label-arrow fitted\">&nbsp;&nbsp;KNeighborsRegressor<a class=\"sk-estimator-doc-link fitted\" rel=\"noreferrer\" target=\"_blank\" href=\"https://scikit-learn.org/1.5/modules/generated/sklearn.neighbors.KNeighborsRegressor.html\">?<span>Documentation for KNeighborsRegressor</span></a><span class=\"sk-estimator-doc-link fitted\">i<span>Fitted</span></span></label><div class=\"sk-toggleable__content fitted\"><pre>KNeighborsRegressor()</pre></div> </div></div></div></div>"
      ],
      "text/plain": [
       "KNeighborsRegressor()"
      ]
     },
     "execution_count": 95,
     "metadata": {},
     "output_type": "execute_result"
    }
   ],
   "source": [
    "knn.fit(x_trainFinal,y_train)"
   ]
  },
  {
   "cell_type": "markdown",
   "metadata": {
    "id": "txv6HfUpTTaL"
   },
   "source": [
    "# Using K-Fold Cross Validation (e.g. cv=5) to make models work better"
   ]
  },
  {
   "cell_type": "code",
   "execution_count": 96,
   "metadata": {
    "colab": {
     "base_uri": "https://localhost:8080/"
    },
    "id": "G8lJTGsjTQTE",
    "outputId": "c6b7a7d0-6dba-4a4b-bf79-bad128670c5e"
   },
   "outputs": [
    {
     "name": "stdout",
     "output_type": "stream",
     "text": [
      "               Model  CV_RMSE_(Train)  CV_R²_(Train)   Val_RMSE    Val_R²\n",
      "5  Gradient Boosting         8.902185       0.997246   7.556419  0.997900\n",
      "6            XGBoost        11.449819       0.995416   8.531840  0.997322\n",
      "3      Random Forest        11.814907       0.995187  10.394655  0.996025\n",
      "1                KNN        14.984132       0.992236  12.057884  0.994652\n",
      "2      Decision Tree        15.039184       0.992326  14.588758  0.992171\n",
      "0  Linear Regression        25.152172       0.978590  25.332523  0.976393\n",
      "4           AdaBoost        25.206441       0.978202  25.805033  0.975504\n"
     ]
    }
   ],
   "source": [
    "from sklearn.model_selection import train_test_split, cross_val_score, KFold\n",
    "cv = KFold(n_splits=5, shuffle=True, random_state=42)\n",
    "# Store results\n",
    "results = []\n",
    "\n",
    "for name, model in models.items():\n",
    "    # Cross-validation scores (negative RMSE)\n",
    "    neg_mse_scores = cross_val_score(model, x_trainFinal, y_train, scoring='neg_root_mean_squared_error', cv=cv)\n",
    "    r2_scores = cross_val_score(model, x_trainFinal, y_train, scoring='r2', cv=cv)\n",
    "\n",
    "    cv_rmse_mean = -np.mean(neg_mse_scores)\n",
    "    cv_r2_mean = np.mean(r2_scores)\n",
    "\n",
    "    # Train model on full training data\n",
    "    model.fit(x_trainFinal, y_train)\n",
    "\n",
    "    # Predict on validation set\n",
    "    y_val_pred = model.predict(x_valFinal)\n",
    "\n",
    "    val_rmse = np.sqrt(mean_squared_error(y_val, y_val_pred))\n",
    "    val_r2 = r2_score(y_val, y_val_pred)\n",
    "\n",
    "    results.append({\n",
    "        \"Model\": name,\n",
    "        \"CV_RMSE_(Train)\": cv_rmse_mean,\n",
    "        \"CV_R²_(Train)\": cv_r2_mean,\n",
    "        \"Val_RMSE\": val_rmse,\n",
    "        \"Val_R²\": val_r2\n",
    "    })\n",
    "\n",
    "# Display final results sorted by Validation RMSE\n",
    "results_df = pd.DataFrame(results).sort_values(by='Val_RMSE')\n",
    "print(results_df)"
   ]
  },
  {
   "cell_type": "markdown",
   "metadata": {
    "id": "RTaXU7-XT2kd"
   },
   "source": [
    "# Note Why we use \"neg_root_mean_squared_error\" in cross_val_score:\n",
    "* The issue: cross_val_score() in scikit-learn is designed so that higher scores are better.\n",
    "* But: RMSE (Root Mean Squared Error) is a loss function – lower is better.\n",
    "* So, scikit-learn returns the negative of RMSE to keep all scorers consistent (maximize = better)."
   ]
  },
  {
   "cell_type": "markdown",
   "metadata": {
    "id": "u2DaE0IvT3bN"
   },
   "source": [
    "# Model tuning (Hyper parameter Tuning)"
   ]
  },
  {
   "cell_type": "code",
   "execution_count": 97,
   "metadata": {
    "colab": {
     "base_uri": "https://localhost:8080/"
    },
    "id": "hz2TGC6cTuJI",
    "outputId": "33f2e84f-49f4-4c20-de5e-7f34ba52224f"
   },
   "outputs": [
    {
     "name": "stdout",
     "output_type": "stream",
     "text": [
      "Fitting 5 folds for each of 27 candidates, totalling 135 fits\n",
      "\n",
      "Best Hyperparameters for Random Forest:\n",
      "{'max_depth': 10, 'min_samples_split': 2, 'n_estimators': 100}\n",
      "\n",
      "Performance Metrics:\n",
      "Train RMSE : 3.6798\n",
      "Train R²   : 0.9995\n",
      "Val RMSE   : 10.3691\n",
      "Val R²     : 0.9960\n"
     ]
    }
   ],
   "source": [
    "from sklearn.model_selection import train_test_split, GridSearchCV\n",
    "# Define the Random Forest model\n",
    "rf_model = RandomForestRegressor(random_state=42)\n",
    "\n",
    "# Define hyperparameter grid\n",
    "param_grid = {\n",
    "    \"n_estimators\": [50, 100, 150],\n",
    "    \"max_depth\": [None, 10, 20],\n",
    "    \"min_samples_split\": [2, 5, 10]\n",
    "}\n",
    "\n",
    "# GridSearchCV setup\n",
    "grid_search = GridSearchCV(\n",
    "    estimator=rf_model,\n",
    "    param_grid=param_grid,\n",
    "    scoring='neg_root_mean_squared_error',\n",
    "    cv=5,\n",
    "    n_jobs=-1,\n",
    "    verbose=1\n",
    ")\n",
    "\n",
    "# Fit GridSearchCV\n",
    "grid_search.fit(x_trainFinal, y_train)\n",
    "\n",
    "# Best Random Forest model\n",
    "best_rf = grid_search.best_estimator_\n",
    "best_params = grid_search.best_params_\n",
    "\n",
    "# Train predictions\n",
    "y_train_pred = best_rf.predict(x_trainFinal)\n",
    "train_rmse = np.sqrt(mean_squared_error(y_train, y_train_pred))\n",
    "train_r2 = r2_score(y_train, y_train_pred)\n",
    "\n",
    "# Validation predictions\n",
    "y_val_pred = best_rf.predict(x_valFinal)\n",
    "val_rmse = np.sqrt(mean_squared_error(y_val, y_val_pred))\n",
    "val_r2 = r2_score(y_val, y_val_pred)\n",
    "\n",
    "# Print results\n",
    "print(\"\\nBest Hyperparameters for Random Forest:\")\n",
    "print(best_params)\n",
    "\n",
    "print(\"\\nPerformance Metrics:\")\n",
    "print(f\"Train RMSE : {train_rmse:.4f}\")\n",
    "print(f\"Train R²   : {train_r2:.4f}\")\n",
    "print(f\"Val RMSE   : {val_rmse:.4f}\")\n",
    "print(f\"Val R²     : {val_r2:.4f}\")"
   ]
  },
  {
   "cell_type": "markdown",
   "metadata": {},
   "source": [
    "##### Note- We can further try changing the parameters and see if we can imporve the model performance"
   ]
  },
  {
   "cell_type": "markdown",
   "metadata": {},
   "source": [
    "# 5-Model Building (Classification), Evaluation & Tuning\n",
    "* Data splitting\n",
    "* Classification algorithms\n",
    "    * Logistic Regression\n",
    "    * Naive Bayes, KNN\n",
    "    * Decision Trees (CART)\n",
    "    * Random Forest\n",
    "    * Boosting - Adaboost, Gboost, XGboost\n",
    "* Model Evaluation\n",
    "    * Classification metrics:Accuracy, Precision, Recall, F1-score, Confusion matrix,ROC Curve, AUC\n",
    "* Model Tuning\n",
    "    * GridSearchCV"
   ]
  },
  {
   "cell_type": "markdown",
   "metadata": {},
   "source": [
    "##### Importing necessary modules"
   ]
  },
  {
   "cell_type": "code",
   "execution_count": 98,
   "metadata": {},
   "outputs": [],
   "source": [
    "from sklearn.metrics import classification_report,confusion_matrix, accuracy_score, precision_score,recall_score, f1_score\n",
    "from sklearn.linear_model import LogisticRegression\n",
    "from sklearn.naive_bayes import GaussianNB\n",
    "from sklearn.neighbors import KNeighborsClassifier\n",
    "from sklearn.tree import DecisionTreeClassifier\n",
    "from sklearn.ensemble import RandomForestClassifier,AdaBoostClassifier,GradientBoostingClassifier\n",
    "from xgboost import XGBClassifier"
   ]
  },
  {
   "cell_type": "markdown",
   "metadata": {},
   "source": [
    "#### For classification problem we need to scale \"Half_century\" as well"
   ]
  },
  {
   "cell_type": "code",
   "execution_count": 99,
   "metadata": {},
   "outputs": [],
   "source": [
    "import pandas as pd\n",
    "from sklearn.model_selection import train_test_split\n",
    "from sklearn.preprocessing import StandardScaler\n",
    "\n",
    "# Load dataset (update the path if needed)\n",
    "df_encoded = pd.read_csv('cricket_data.csv')\n",
    "\n",
    "# Create target: Predicting if a player scored any half-century\n",
    "df_encoded[\"Highest_Score\"] = df_encoded[\"Highest_Score\"].str.replace(\"*\", \"\", regex=False)\n",
    "df_encoded = df_encoded.apply(pd.to_numeric, errors='coerce')\n",
    "df_encoded.fillna(0, inplace=True)\n",
    "df_encoded[\"Make\"] = (df_encoded[\"Half_Centuries\"] > 0).astype(int)\n",
    "\n",
    "# Separate features and target\n",
    "X = df_encoded.drop(columns=[\"Player_Name\", \"Year\", \"Best_Bowling_Match\", \"Half_Centuries\", \"Make\"])\n",
    "y = df_encoded[\"Make\"]\n",
    "\n",
    "# Split data\n",
    "X_train, X_val, y_train, y_val = train_test_split(X, y, test_size=0.2, random_state=20)\n",
    "\n",
    "# Define numeric and categorical columns manually based on the structure\n",
    "num_cols = ['Matches_Batted', 'Not_Outs', 'Runs_Scored', 'Highest_Score', 'Batting_Average',\n",
    "            'Balls_Faced', 'Batting_Strike_Rate', 'Centuries', 'Fours', 'Sixes',\n",
    "            'Catches_Taken', 'Stumpings', 'Matches_Bowled', 'Balls_Bowled',\n",
    "            'Runs_Conceded', 'Wickets_Taken', 'Bowling_Average', 'Economy_Rate',\n",
    "            'Bowling_Strike_Rate', 'Four_Wicket_Hauls', 'Five_Wicket_Hauls']\n",
    "cat_cols = []  # Add any dummy/encoded categorical columns if applicable\n",
    "\n",
    "# Standardize numerical features\n",
    "scaler = StandardScaler()\n",
    "Xtrain_scaled = pd.DataFrame(scaler.fit_transform(X_train[num_cols]), columns=num_cols)\n",
    "Xval_scaled = pd.DataFrame(scaler.transform(X_val[num_cols]), columns=num_cols)\n",
    "\n",
    "# If you had encoded categorical columns, add them here\n",
    "scaled_train = pd.concat([Xtrain_scaled, X_train[cat_cols].reset_index(drop=True)], axis=1)\n",
    "scaled_val = pd.concat([Xval_scaled, X_val[cat_cols].reset_index(drop=True)], axis=1)\n",
    "\n",
    "# Now, scaled_train and scaled_val are ready for model training and validation\n"
   ]
  },
  {
   "cell_type": "code",
   "execution_count": 100,
   "metadata": {},
   "outputs": [
    {
     "data": {
      "text/plain": [
       "Make\n",
       "0    824\n",
       "1    348\n",
       "Name: count, dtype: int64"
      ]
     },
     "execution_count": 100,
     "metadata": {},
     "output_type": "execute_result"
    }
   ],
   "source": [
    "df_encoded[\"Make\"].value_counts()\n"
   ]
  },
  {
   "cell_type": "code",
   "execution_count": 101,
   "metadata": {},
   "outputs": [
    {
     "name": "stdout",
     "output_type": "stream",
     "text": [
      "Classification report for Train Dataset\n",
      "              precision    recall  f1-score   support\n",
      "\n",
      "           0       1.00      1.00      1.00       668\n",
      "           1       1.00      1.00      1.00       269\n",
      "\n",
      "    accuracy                           1.00       937\n",
      "   macro avg       1.00      1.00      1.00       937\n",
      "weighted avg       1.00      1.00      1.00       937\n",
      "\n",
      "-------------------------------------------------\n",
      "Classification report for Validation Dataset\n",
      "              precision    recall  f1-score   support\n",
      "\n",
      "           0       1.00      1.00      1.00       156\n",
      "           1       1.00      1.00      1.00        79\n",
      "\n",
      "    accuracy                           1.00       235\n",
      "   macro avg       1.00      1.00      1.00       235\n",
      "weighted avg       1.00      1.00      1.00       235\n",
      "\n"
     ]
    }
   ],
   "source": [
    "from sklearn.ensemble import GradientBoostingClassifier\n",
    "from sklearn.metrics import classification_report\n",
    "\n",
    "# Initialize and train the model\n",
    "gb = GradientBoostingClassifier()\n",
    "gb.fit(scaled_train, y_train)\n",
    "\n",
    "# Make predictions\n",
    "pred_train = gb.predict(scaled_train)\n",
    "pred_val = gb.predict(scaled_val)\n",
    "\n",
    "# Print classification reports\n",
    "print(\"Classification report for Train Dataset\")\n",
    "print(classification_report(y_train, pred_train))\n",
    "print(\"-------------------------------------------------\")\n",
    "print(\"Classification report for Validation Dataset\")\n",
    "print(classification_report(y_val, pred_val))\n"
   ]
  },
  {
   "cell_type": "markdown",
   "metadata": {},
   "source": [
    "##### Building and comparing models using various algorithms"
   ]
  },
  {
   "cell_type": "code",
   "execution_count": 102,
   "metadata": {},
   "outputs": [
    {
     "name": "stderr",
     "output_type": "stream",
     "text": [
      "c:\\Users\\yadav\\AppData\\Local\\Programs\\Python\\Python312\\Lib\\site-packages\\sklearn\\ensemble\\_weight_boosting.py:527: FutureWarning: The SAMME.R algorithm (the default) is deprecated and will be removed in 1.6. Use the SAMME algorithm to circumvent this warning.\n",
      "  warnings.warn(\n",
      "c:\\Users\\yadav\\AppData\\Local\\Programs\\Python\\Python312\\Lib\\site-packages\\xgboost\\training.py:183: UserWarning: [09:23:56] WARNING: C:\\actions-runner\\_work\\xgboost\\xgboost\\src\\learner.cc:738: \n",
      "Parameters: { \"use_label_encoder\" } are not used.\n",
      "\n",
      "  bst.update(dtrain, iteration=i, fobj=obj)\n"
     ]
    },
    {
     "data": {
      "text/html": [
       "<div>\n",
       "<style scoped>\n",
       "    .dataframe tbody tr th:only-of-type {\n",
       "        vertical-align: middle;\n",
       "    }\n",
       "\n",
       "    .dataframe tbody tr th {\n",
       "        vertical-align: top;\n",
       "    }\n",
       "\n",
       "    .dataframe thead th {\n",
       "        text-align: right;\n",
       "    }\n",
       "</style>\n",
       "<table border=\"1\" class=\"dataframe\">\n",
       "  <thead>\n",
       "    <tr style=\"text-align: right;\">\n",
       "      <th></th>\n",
       "      <th>Model</th>\n",
       "      <th>Accuracy_train</th>\n",
       "      <th>Accuracy_test</th>\n",
       "    </tr>\n",
       "  </thead>\n",
       "  <tbody>\n",
       "    <tr>\n",
       "      <th>0</th>\n",
       "      <td>Decision Tree</td>\n",
       "      <td>1.000000</td>\n",
       "      <td>1.000000</td>\n",
       "    </tr>\n",
       "    <tr>\n",
       "      <th>1</th>\n",
       "      <td>Random Forest</td>\n",
       "      <td>1.000000</td>\n",
       "      <td>1.000000</td>\n",
       "    </tr>\n",
       "    <tr>\n",
       "      <th>2</th>\n",
       "      <td>AdaBoost</td>\n",
       "      <td>1.000000</td>\n",
       "      <td>1.000000</td>\n",
       "    </tr>\n",
       "    <tr>\n",
       "      <th>3</th>\n",
       "      <td>Gradient Boosting</td>\n",
       "      <td>1.000000</td>\n",
       "      <td>1.000000</td>\n",
       "    </tr>\n",
       "    <tr>\n",
       "      <th>4</th>\n",
       "      <td>XGBoost</td>\n",
       "      <td>1.000000</td>\n",
       "      <td>1.000000</td>\n",
       "    </tr>\n",
       "    <tr>\n",
       "      <th>5</th>\n",
       "      <td>Logistic Regression</td>\n",
       "      <td>0.978655</td>\n",
       "      <td>0.974468</td>\n",
       "    </tr>\n",
       "    <tr>\n",
       "      <th>6</th>\n",
       "      <td>KNN</td>\n",
       "      <td>0.951974</td>\n",
       "      <td>0.936170</td>\n",
       "    </tr>\n",
       "  </tbody>\n",
       "</table>\n",
       "</div>"
      ],
      "text/plain": [
       "                 Model  Accuracy_train  Accuracy_test\n",
       "0        Decision Tree        1.000000       1.000000\n",
       "1        Random Forest        1.000000       1.000000\n",
       "2             AdaBoost        1.000000       1.000000\n",
       "3    Gradient Boosting        1.000000       1.000000\n",
       "4              XGBoost        1.000000       1.000000\n",
       "5  Logistic Regression        0.978655       0.974468\n",
       "6                  KNN        0.951974       0.936170"
      ]
     },
     "execution_count": 102,
     "metadata": {},
     "output_type": "execute_result"
    }
   ],
   "source": [
    "from sklearn.linear_model import LogisticRegression\n",
    "from sklearn.neighbors import KNeighborsClassifier\n",
    "from sklearn.tree import DecisionTreeClassifier\n",
    "from sklearn.ensemble import RandomForestClassifier, AdaBoostClassifier, GradientBoostingClassifier\n",
    "from xgboost import XGBClassifier\n",
    "from sklearn.metrics import accuracy_score\n",
    "import pandas as pd\n",
    "\n",
    "# Define models\n",
    "models = {\n",
    "    \"Logistic Regression\": LogisticRegression(max_iter=1000),\n",
    "    \"KNN\": KNeighborsClassifier(),\n",
    "    \"Decision Tree\": DecisionTreeClassifier(),\n",
    "    \"Random Forest\": RandomForestClassifier(),\n",
    "    \"AdaBoost\": AdaBoostClassifier(),\n",
    "    \"Gradient Boosting\": GradientBoostingClassifier(),\n",
    "    \"XGBoost\": XGBClassifier(use_label_encoder=False, eval_metric='logloss')\n",
    "}\n",
    "\n",
    "results = []\n",
    "\n",
    "# Train and evaluate each model\n",
    "for name, model in models.items():\n",
    "    model.fit(scaled_train, y_train)\n",
    "\n",
    "    # Predictions\n",
    "    y_train_pred = model.predict(scaled_train)\n",
    "    y_val_pred = model.predict(scaled_val)\n",
    "\n",
    "    # Accuracy scores\n",
    "    Accuracy_train = accuracy_score(y_train, y_train_pred)\n",
    "    Accuracy_test = accuracy_score(y_val, y_val_pred)\n",
    "\n",
    "    results.append({\n",
    "        \"Model\": name,\n",
    "        \"Accuracy_train\": Accuracy_train,\n",
    "        \"Accuracy_test\": Accuracy_test\n",
    "    })\n",
    "\n",
    "# Convert results to DataFrame\n",
    "results_df = pd.DataFrame(results)\n",
    "results_df = results_df.sort_values(by=\"Accuracy_test\", ascending=False).reset_index(drop=True)\n",
    "\n",
    "# Show the final results\n",
    "results_df\n"
   ]
  },
  {
   "cell_type": "markdown",
   "metadata": {},
   "source": [
    "#### Note- We can check here that Gradient Boosting is giving us the best results, but it is overfitted. Lets try K-fold CV"
   ]
  },
  {
   "cell_type": "markdown",
   "metadata": {},
   "source": [
    "#### Applying K-fold"
   ]
  },
  {
   "cell_type": "code",
   "execution_count": 103,
   "metadata": {},
   "outputs": [
    {
     "name": "stderr",
     "output_type": "stream",
     "text": [
      "c:\\Users\\yadav\\AppData\\Local\\Programs\\Python\\Python312\\Lib\\site-packages\\sklearn\\ensemble\\_weight_boosting.py:527: FutureWarning: The SAMME.R algorithm (the default) is deprecated and will be removed in 1.6. Use the SAMME algorithm to circumvent this warning.\n",
      "  warnings.warn(\n",
      "c:\\Users\\yadav\\AppData\\Local\\Programs\\Python\\Python312\\Lib\\site-packages\\sklearn\\ensemble\\_weight_boosting.py:527: FutureWarning: The SAMME.R algorithm (the default) is deprecated and will be removed in 1.6. Use the SAMME algorithm to circumvent this warning.\n",
      "  warnings.warn(\n",
      "c:\\Users\\yadav\\AppData\\Local\\Programs\\Python\\Python312\\Lib\\site-packages\\sklearn\\ensemble\\_weight_boosting.py:527: FutureWarning: The SAMME.R algorithm (the default) is deprecated and will be removed in 1.6. Use the SAMME algorithm to circumvent this warning.\n",
      "  warnings.warn(\n",
      "c:\\Users\\yadav\\AppData\\Local\\Programs\\Python\\Python312\\Lib\\site-packages\\sklearn\\ensemble\\_weight_boosting.py:527: FutureWarning: The SAMME.R algorithm (the default) is deprecated and will be removed in 1.6. Use the SAMME algorithm to circumvent this warning.\n",
      "  warnings.warn(\n",
      "c:\\Users\\yadav\\AppData\\Local\\Programs\\Python\\Python312\\Lib\\site-packages\\sklearn\\ensemble\\_weight_boosting.py:527: FutureWarning: The SAMME.R algorithm (the default) is deprecated and will be removed in 1.6. Use the SAMME algorithm to circumvent this warning.\n",
      "  warnings.warn(\n",
      "c:\\Users\\yadav\\AppData\\Local\\Programs\\Python\\Python312\\Lib\\site-packages\\sklearn\\ensemble\\_weight_boosting.py:527: FutureWarning: The SAMME.R algorithm (the default) is deprecated and will be removed in 1.6. Use the SAMME algorithm to circumvent this warning.\n",
      "  warnings.warn(\n",
      "c:\\Users\\yadav\\AppData\\Local\\Programs\\Python\\Python312\\Lib\\site-packages\\xgboost\\training.py:183: UserWarning: [09:24:08] WARNING: C:\\actions-runner\\_work\\xgboost\\xgboost\\src\\learner.cc:738: \n",
      "Parameters: { \"use_label_encoder\" } are not used.\n",
      "\n",
      "  bst.update(dtrain, iteration=i, fobj=obj)\n",
      "c:\\Users\\yadav\\AppData\\Local\\Programs\\Python\\Python312\\Lib\\site-packages\\xgboost\\training.py:183: UserWarning: [09:24:08] WARNING: C:\\actions-runner\\_work\\xgboost\\xgboost\\src\\learner.cc:738: \n",
      "Parameters: { \"use_label_encoder\" } are not used.\n",
      "\n",
      "  bst.update(dtrain, iteration=i, fobj=obj)\n",
      "c:\\Users\\yadav\\AppData\\Local\\Programs\\Python\\Python312\\Lib\\site-packages\\xgboost\\training.py:183: UserWarning: [09:24:08] WARNING: C:\\actions-runner\\_work\\xgboost\\xgboost\\src\\learner.cc:738: \n",
      "Parameters: { \"use_label_encoder\" } are not used.\n",
      "\n",
      "  bst.update(dtrain, iteration=i, fobj=obj)\n",
      "c:\\Users\\yadav\\AppData\\Local\\Programs\\Python\\Python312\\Lib\\site-packages\\xgboost\\training.py:183: UserWarning: [09:24:08] WARNING: C:\\actions-runner\\_work\\xgboost\\xgboost\\src\\learner.cc:738: \n",
      "Parameters: { \"use_label_encoder\" } are not used.\n",
      "\n",
      "  bst.update(dtrain, iteration=i, fobj=obj)\n",
      "c:\\Users\\yadav\\AppData\\Local\\Programs\\Python\\Python312\\Lib\\site-packages\\xgboost\\training.py:183: UserWarning: [09:24:08] WARNING: C:\\actions-runner\\_work\\xgboost\\xgboost\\src\\learner.cc:738: \n",
      "Parameters: { \"use_label_encoder\" } are not used.\n",
      "\n",
      "  bst.update(dtrain, iteration=i, fobj=obj)\n",
      "c:\\Users\\yadav\\AppData\\Local\\Programs\\Python\\Python312\\Lib\\site-packages\\xgboost\\training.py:183: UserWarning: [09:24:08] WARNING: C:\\actions-runner\\_work\\xgboost\\xgboost\\src\\learner.cc:738: \n",
      "Parameters: { \"use_label_encoder\" } are not used.\n",
      "\n",
      "  bst.update(dtrain, iteration=i, fobj=obj)\n"
     ]
    },
    {
     "data": {
      "text/html": [
       "<div>\n",
       "<style scoped>\n",
       "    .dataframe tbody tr th:only-of-type {\n",
       "        vertical-align: middle;\n",
       "    }\n",
       "\n",
       "    .dataframe tbody tr th {\n",
       "        vertical-align: top;\n",
       "    }\n",
       "\n",
       "    .dataframe thead th {\n",
       "        text-align: right;\n",
       "    }\n",
       "</style>\n",
       "<table border=\"1\" class=\"dataframe\">\n",
       "  <thead>\n",
       "    <tr style=\"text-align: right;\">\n",
       "      <th></th>\n",
       "      <th>Model</th>\n",
       "      <th>Mean CV Accuracy</th>\n",
       "      <th>Validation Accuracy</th>\n",
       "    </tr>\n",
       "  </thead>\n",
       "  <tbody>\n",
       "    <tr>\n",
       "      <th>0</th>\n",
       "      <td>Decision Tree</td>\n",
       "      <td>0.993606</td>\n",
       "      <td>1.000000</td>\n",
       "    </tr>\n",
       "    <tr>\n",
       "      <th>1</th>\n",
       "      <td>Random Forest</td>\n",
       "      <td>0.996809</td>\n",
       "      <td>1.000000</td>\n",
       "    </tr>\n",
       "    <tr>\n",
       "      <th>2</th>\n",
       "      <td>AdaBoost</td>\n",
       "      <td>0.995739</td>\n",
       "      <td>1.000000</td>\n",
       "    </tr>\n",
       "    <tr>\n",
       "      <th>3</th>\n",
       "      <td>Gradient Boosting</td>\n",
       "      <td>0.994669</td>\n",
       "      <td>1.000000</td>\n",
       "    </tr>\n",
       "    <tr>\n",
       "      <th>4</th>\n",
       "      <td>XGBoost</td>\n",
       "      <td>0.996809</td>\n",
       "      <td>1.000000</td>\n",
       "    </tr>\n",
       "    <tr>\n",
       "      <th>5</th>\n",
       "      <td>Logistic Regression</td>\n",
       "      <td>0.969064</td>\n",
       "      <td>0.974468</td>\n",
       "    </tr>\n",
       "    <tr>\n",
       "      <th>6</th>\n",
       "      <td>KNN</td>\n",
       "      <td>0.929605</td>\n",
       "      <td>0.936170</td>\n",
       "    </tr>\n",
       "  </tbody>\n",
       "</table>\n",
       "</div>"
      ],
      "text/plain": [
       "                 Model  Mean CV Accuracy  Validation Accuracy\n",
       "0        Decision Tree          0.993606             1.000000\n",
       "1        Random Forest          0.996809             1.000000\n",
       "2             AdaBoost          0.995739             1.000000\n",
       "3    Gradient Boosting          0.994669             1.000000\n",
       "4              XGBoost          0.996809             1.000000\n",
       "5  Logistic Regression          0.969064             0.974468\n",
       "6                  KNN          0.929605             0.936170"
      ]
     },
     "execution_count": 103,
     "metadata": {},
     "output_type": "execute_result"
    }
   ],
   "source": [
    "from sklearn.model_selection import KFold, cross_val_score\n",
    "from sklearn.metrics import accuracy_score\n",
    "import numpy as np\n",
    "import pandas as pd\n",
    "\n",
    "# Initialize KFold\n",
    "kf = KFold(n_splits=5, shuffle=True, random_state=57)\n",
    "\n",
    "# Store results\n",
    "results = []\n",
    "\n",
    "# Loop through each model\n",
    "for name, model in models.items():\n",
    "    # Cross-validation accuracy scores\n",
    "    scores = cross_val_score(model, scaled_train, y_train, cv=kf, scoring='accuracy')\n",
    "    \n",
    "    # Fit the model on full training set\n",
    "    model.fit(scaled_train, y_train)\n",
    "\n",
    "    # Predict on validation set\n",
    "    y_val_pred = model.predict(scaled_val)\n",
    "    val_accuracy = accuracy_score(y_val, y_val_pred)\n",
    "\n",
    "    # Store result\n",
    "    results.append({\n",
    "        \"Model\": name,\n",
    "        \"Mean CV Accuracy\": np.mean(scores),\n",
    "        \"Validation Accuracy\": val_accuracy\n",
    "    })\n",
    "\n",
    "# Convert to DataFrame and sort by validation accuracy\n",
    "results_df = pd.DataFrame(results)\n",
    "results_df = results_df.sort_values(by=\"Validation Accuracy\", ascending=False).reset_index(drop=True)\n",
    "\n",
    "# Display the results\n",
    "results_df\n"
   ]
  }
 ],
 "metadata": {
  "colab": {
   "provenance": []
  },
  "kernelspec": {
   "display_name": "Python 3",
   "name": "python3"
  },
  "language_info": {
   "codemirror_mode": {
    "name": "ipython",
    "version": 3
   },
   "file_extension": ".py",
   "mimetype": "text/x-python",
   "name": "python",
   "nbconvert_exporter": "python",
   "pygments_lexer": "ipython3",
   "version": "3.12.1"
  }
 },
 "nbformat": 4,
 "nbformat_minor": 0
}
